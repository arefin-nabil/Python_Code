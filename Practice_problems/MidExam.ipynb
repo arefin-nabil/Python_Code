{
  "nbformat": 4,
  "nbformat_minor": 0,
  "metadata": {
    "colab": {
      "provenance": []
    },
    "kernelspec": {
      "name": "python3",
      "display_name": "Python 3"
    },
    "language_info": {
      "name": "python"
    }
  },
  "cells": [
    {
      "cell_type": "markdown",
      "source": [
        "**Email Address: nurularefinnabil@gmail.com**"
      ],
      "metadata": {
        "id": "fUEH7rzyVg3m"
      }
    },
    {
      "cell_type": "code",
      "source": [
        "# You must run this code and use that data set for all the questions\n",
        "import numpy as np\n",
        "import pandas as pd\n",
        "\n",
        "np.random.seed(42)\n",
        "\n",
        "ids = np.arange(1, 11)\n",
        "ages = np.random.randint(18, 60, 10)\n",
        "salaries = np.random.randint(30000, 90000, 10)\n",
        "departments = np.array([\"HR\", \"IT\", \"Finance\", \"IT\", \"HR\", \"Sales\", \"Finance\", \"IT\", \"Sales\", \"HR\"])\n",
        "\n",
        "DF = pd.DataFrame({\n",
        "\"id\": ids,\n",
        "\"age\": ages,\n",
        "\"salary\": salaries,\n",
        "\"dept\": departments\n",
        "})\n",
        "\n",
        "DF.to_csv(\"employees.csv\", index=False)\n",
        "print(\"Sample Data Created and Saved as employees.csv\")\n"
      ],
      "metadata": {
        "colab": {
          "base_uri": "https://localhost:8080/"
        },
        "id": "dlLvkvipV4mn",
        "outputId": "b97190c2-026b-4c9a-d339-44b0b656243e"
      },
      "execution_count": 27,
      "outputs": [
        {
          "output_type": "stream",
          "name": "stdout",
          "text": [
            "Sample Data Created and Saved as employees.csv\n"
          ]
        }
      ]
    },
    {
      "cell_type": "markdown",
      "source": [
        "**Q1.** Create NumPy arrays from the ages and salaries data generated above. Print both arrays and display their dtype, ndim, shape, and size."
      ],
      "metadata": {
        "id": "BURmvMyeWJ30"
      }
    },
    {
      "cell_type": "code",
      "source": [
        "age = np.array(ages)\n",
        "print(age)\n",
        "print(age.dtype)\n",
        "print(age.ndim)\n",
        "print(age.shape)\n",
        "print(age.size)\n",
        "\n",
        "slry = np.array(salaries)\n",
        "print(slry)\n",
        "print(slry.dtype)\n",
        "print(slry.ndim)\n",
        "print(slry.shape)\n",
        "print(slry.size)"
      ],
      "metadata": {
        "colab": {
          "base_uri": "https://localhost:8080/"
        },
        "id": "GYdwdq3xWY1P",
        "outputId": "b3041491-1b16-4dd2-feb8-90a0a123a4ef"
      },
      "execution_count": 29,
      "outputs": [
        {
          "output_type": "stream",
          "name": "stdout",
          "text": [
            "[56 46 32 25 38 56 36 40 28 28]\n",
            "int64\n",
            "1\n",
            "(10,)\n",
            "10\n",
            "[77191 74131 46023 71090 31685 30769 89735 86101 32433 35311]\n",
            "int64\n",
            "1\n",
            "(10,)\n",
            "10\n"
          ]
        }
      ]
    },
    {
      "cell_type": "markdown",
      "source": [
        "**Q2.** Using the salaries array, find and print the highest and lowest salary values. Also, calculate and print the average salary and age using NumPy functions.\n"
      ],
      "metadata": {
        "id": "Bti7bK0RWZMH"
      }
    },
    {
      "cell_type": "code",
      "source": [
        "highst_sl = np.max(salary)\n",
        "print(\"Highest salary :\", highst_sl)\n",
        "lwst_sl = np.min(salary)\n",
        "print(\"Lowest salary :\", lwst_sl)\n",
        "\n",
        "avrg_sl = np.mean(salaries)\n",
        "print(\"Average salery :\",avrg_sl)\n",
        "avrg_age = np.mean(ages)\n",
        "print(\"Average age :\",avrg_age)"
      ],
      "metadata": {
        "colab": {
          "base_uri": "https://localhost:8080/"
        },
        "id": "VY3CrXwJWdVy",
        "outputId": "65869b56-3748-4e33-fdd5-105801032dd6"
      },
      "execution_count": 30,
      "outputs": [
        {
          "output_type": "stream",
          "name": "stdout",
          "text": [
            "Highest salary : 89735\n",
            "Lowest salary : 30769\n",
            "Average salery : 57446.9\n",
            "Average age : 38.5\n"
          ]
        }
      ]
    },
    {
      "cell_type": "markdown",
      "source": [
        "**Q3.** From the ages array, filter and print all ages greater than 30 using a boolean condition. Then count and print how many employees are older than 30.\n"
      ],
      "metadata": {
        "id": "frkD_nHPWfQb"
      }
    },
    {
      "cell_type": "code",
      "source": [
        "grtr_30 = age[age>30]\n",
        "print(grtr_30)\n",
        "print(np.count_nonzero(grtr_30))"
      ],
      "metadata": {
        "colab": {
          "base_uri": "https://localhost:8080/"
        },
        "id": "VyV9n4j1Whkt",
        "outputId": "8c77d607-aaf8-4f7b-fc98-6d13058fe75e"
      },
      "execution_count": 38,
      "outputs": [
        {
          "output_type": "stream",
          "name": "stdout",
          "text": [
            "[56 46 32 38 56 36 40]\n",
            "7\n"
          ]
        }
      ]
    },
    {
      "cell_type": "markdown",
      "source": [
        "**Q4.** Create a new NumPy array that increases every employee’s age by 5 years (without modifying the original array). Print the new updated ages array."
      ],
      "metadata": {
        "id": "z_JUiErkWlgI"
      }
    },
    {
      "cell_type": "code",
      "source": [],
      "metadata": {
        "id": "uvBY42LcWq10"
      },
      "execution_count": null,
      "outputs": []
    },
    {
      "cell_type": "markdown",
      "source": [
        "**Q5.** Using NumPy, calculate the total salary expense (sum of all salaries) and the difference between the maximum and minimum salary. Print both results."
      ],
      "metadata": {
        "id": "RH11FGYmWrb8"
      }
    },
    {
      "cell_type": "code",
      "source": [],
      "metadata": {
        "id": "60d522dOWyYa"
      },
      "execution_count": null,
      "outputs": []
    },
    {
      "cell_type": "markdown",
      "source": [
        "**Q6.** Load the employees.csv file into a Pandas DataFrame. Display the first 5 rows, and check basic info using info() and summary statistics using describe()."
      ],
      "metadata": {
        "id": "-rUNyIxbW7fY"
      }
    },
    {
      "cell_type": "code",
      "source": [],
      "metadata": {
        "id": "6PGZkl4kW-1C"
      },
      "execution_count": null,
      "outputs": []
    },
    {
      "cell_type": "markdown",
      "source": [
        "**Q7.** Display only the id, age, and salary columns. Then show the last 3 rows using tail().\n"
      ],
      "metadata": {
        "id": "42wACKdBW_Jr"
      }
    },
    {
      "cell_type": "code",
      "source": [],
      "metadata": {
        "id": "gs0ochNRXCgd"
      },
      "execution_count": null,
      "outputs": []
    },
    {
      "cell_type": "markdown",
      "source": [
        "**Q8.** Filter the DataFrame to show only employees who work in the IT department. Print the result and show the total number of IT employees."
      ],
      "metadata": {
        "id": "nvwQKgp6XC6F"
      }
    },
    {
      "cell_type": "code",
      "source": [],
      "metadata": {
        "id": "MJYCwuHnXFt4"
      },
      "execution_count": null,
      "outputs": []
    },
    {
      "cell_type": "markdown",
      "source": [
        "**Q9.** Sort the DataFrame by salary in descending order and display the top 3 highest-paid employees along with their department and age."
      ],
      "metadata": {
        "id": "eytZzVs0XGB4"
      }
    },
    {
      "cell_type": "code",
      "source": [],
      "metadata": {
        "id": "7sNWvJa0XKmT"
      },
      "execution_count": null,
      "outputs": []
    },
    {
      "cell_type": "markdown",
      "source": [
        "**Q10.** Replace all salary values greater than 80000 with 80000 using loc. Then calculate and print the new average salary of all employees after replacement."
      ],
      "metadata": {
        "id": "Jarctn7dXLI8"
      }
    },
    {
      "cell_type": "code",
      "source": [],
      "metadata": {
        "id": "MVw5xpKzXNQd"
      },
      "execution_count": null,
      "outputs": []
    }
  ]
}