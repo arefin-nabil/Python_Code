{
 "cells": [
  {
   "cell_type": "markdown",
   "id": "bf28c0a6",
   "metadata": {},
   "source": [
    "Find and print the longest word in a given sentence (if tie, print first one).   \n",
    "Input Format:  \n",
    " One line string  \n",
    "Output Format:  \n",
    " Longest word  \n",
    "Example:  \n",
    "Input: Python programming is enjoyable  \n",
    "Output: programming  \n"
   ]
  },
  {
   "cell_type": "code",
   "execution_count": 15,
   "id": "5cb423d7",
   "metadata": {},
   "outputs": [
    {
     "name": "stdout",
     "output_type": "stream",
     "text": [
      "\"immediately\n"
     ]
    }
   ],
   "source": [
    "from functools import reduce\n",
    "\n",
    "str = input().split()\n",
    "\n",
    "st = [len(x) for x in str]\n",
    "\n",
    "mx = reduce(lambda x, y: x if x >= y else y, st)\n",
    "# print(mx)\n",
    "\n",
    "for i in str:\n",
    "    i.strip()\n",
    "    if len(i) == mx:\n",
    "        print(i)\n",
    "        break\n",
    "\n",
    "# print(st)"
   ]
  },
  {
   "cell_type": "markdown",
   "id": "096cd13f",
   "metadata": {},
   "source": [
    "A number is called strong if the sum of the factorial of its digits equals the number itself.  \n",
    " Example: 145 = 1! + 4! + 5!  \n",
    "Input Format:  \n",
    " Single integer  \n",
    "Output Format:  \n",
    " \"Strong Number\" or \"Not Strong Number\"  \n",
    "Example:  \n",
    "Input: 145  \n",
    "Output: Strong Number  \n"
   ]
  },
  {
   "cell_type": "code",
   "execution_count": 82,
   "id": "95642e07",
   "metadata": {},
   "outputs": [
    {
     "name": "stdout",
     "output_type": "stream",
     "text": [
      "Strong Number\n"
     ]
    }
   ],
   "source": [
    "num = input()\n",
    "\n",
    "facto_sum = 0\n",
    "facto = 1\n",
    "for i in num:\n",
    "    i2 = int(i)\n",
    "    # print(i2)\n",
    "    if i2 == 0 or i2 == 1:\n",
    "        facto_sum += 1\n",
    "        # print(\" 1/0 sum \", facto_sum)\n",
    "    else:\n",
    "        for i3 in range(1, i2 + 1):\n",
    "            # print(\"1 facro\", factorial)\n",
    "            facto *= i3\n",
    "            # print(\"factorial of \", i3, \" is \", facto)\n",
    "\n",
    "        facto_sum += facto\n",
    "    facto = 1\n",
    "# print(\"sum\", facto_sum)\n",
    "\n",
    "num = int(num)\n",
    "\n",
    "# print(num)\n",
    "\n",
    "if facto_sum == num:\n",
    "    print(\"Strong Number\")\n",
    "else:\n",
    "    print(\"Not Strong Number\")\n",
    "\n",
    "\n",
    "# num = list(lambda x : x/10)\n",
    "\n",
    "# print(num)"
   ]
  },
  {
   "cell_type": "markdown",
   "id": "2c12608a",
   "metadata": {},
   "source": [
    "Create a base class Shape with a method area() that returns 0.  \n",
    " Create subclasses:  \n",
    "Rectangle(w,h) → area = w × h  \n",
    "\n",
    "\n",
    "Circle(r) → area = π × r²  \n",
    "\n",
    "\n",
    "Read shape type and parameters, then print area (rounded to 2 decimals).  \n",
    "Input Format 1:  \n",
    "Rectangle 5 10  \n",
    "\n",
    "Output Format 1:  \n",
    "Area: 50.00  \n",
    "\n",
    "\n",
    "Input Format 2:  \n",
    "Circle 7  \n",
    " \n",
    "Output Format 2:  \n",
    "Area: 153.94  \n"
   ]
  },
  {
   "cell_type": "code",
   "execution_count": null,
   "id": "96d9527f",
   "metadata": {},
   "outputs": [
    {
     "name": "stdout",
     "output_type": "stream",
     "text": [
      "Area: 153.94\n"
     ]
    }
   ],
   "source": [
    "class Shape:\n",
    "    def area(self):\n",
    "        return 0\n",
    "\n",
    "class Rectngl(Shape):\n",
    "    def __init__(self, w, h):\n",
    "        self.w = w\n",
    "        self.h = h\n",
    "        # print(f\"Area: {self.w*self.h:.2f}\")\n",
    "\n",
    "    def area(self):\n",
    "        return self.w*self.h\n",
    "\n",
    "class Crcl(Shape):\n",
    "    def __init__(self, r):\n",
    "        self.r = r\n",
    "        # print(f\"Area: {3.1416*self.r**2:.2f}\")\n",
    "\n",
    "    def area(self):\n",
    "        return 3.1416*self.r**2\n",
    "\n",
    "inp = input().split()\n",
    "\n",
    "if inp[0] == \"Rectangle\":\n",
    "    area = Rectngl(int(inp[1]), int(inp[2]))\n",
    "\n",
    "elif inp[0] == \"Circle\":\n",
    "    area = Crcl(int(inp[1]))\n",
    "\n",
    "\n",
    "print(f\"Area: {area.area():.2f}\")"
   ]
  }
 ],
 "metadata": {
  "kernelspec": {
   "display_name": "Python 3",
   "language": "python",
   "name": "python3"
  },
  "language_info": {
   "codemirror_mode": {
    "name": "ipython",
    "version": 3
   },
   "file_extension": ".py",
   "mimetype": "text/x-python",
   "name": "python",
   "nbconvert_exporter": "python",
   "pygments_lexer": "ipython3",
   "version": "3.13.7"
  }
 },
 "nbformat": 4,
 "nbformat_minor": 5
}
