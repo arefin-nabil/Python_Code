{
 "cells": [
  {
   "cell_type": "markdown",
   "id": "8bd3cf9b",
   "metadata": {},
   "source": [
    "Problem 1: Common Friends (Set Operations)    \n",
    "Problem:    \n",
    " Given two sets of friends from two people, find the mutual friends, unique friends of each, and the total number of unique friends.    \n",
    "Example Input:    \n",
    "a_friends = {\"Rahim\", \"Karim\", \"Sakib\", \"Jamal\"}   \n",
    "b_friends = {\"Sakib\", \"Jamal\", \"Rafiq\", \"Nadim\"}   \n",
    "   \n",
    "Expected Output:   \n",
    "Mutual friends: {'Sakib', 'Jamal'}   \n",
    "Unique to A: {'Rahim', 'Karim'}   \n",
    "Unique to B: {'Rafiq', 'Nadim'}   \n",
    "Total unique friends: 6  "
   ]
  },
  {
   "cell_type": "code",
   "execution_count": 7,
   "id": "cb88cf80",
   "metadata": {},
   "outputs": [
    {
     "name": "stdout",
     "output_type": "stream",
     "text": [
      "Mutual friends: {'Jamal', 'Sakib'}\n",
      "Unique to A: {'Rahim', 'Karim'}\n",
      "Unique to B: {'Nadim', 'Rafiq'}\n",
      "Total unique friends: {'Nadim', 'Jamal', 'Karim', 'Sakib', 'Rahim', 'Rafiq'}\n"
     ]
    }
   ],
   "source": [
    "a = {\"Rahim\", \"Karim\", \"Sakib\", \"Jamal\"}\n",
    "b = {\"Sakib\", \"Jamal\", \"Rafiq\", \"Nadim\"}\n",
    "\n",
    "common = a.intersection(b)\n",
    "\n",
    "a_unq = a-common\n",
    "b_unq = b- common\n",
    "\n",
    "print(f\"Mutual friends: {common}\\nUnique to A: {a_unq}\\nUnique to B: {b_unq}\\nTotal unique friends: {a.union(b)}\")"
   ]
  },
  {
   "cell_type": "markdown",
   "id": "0d90ec7b",
   "metadata": {},
   "source": [
    "Problem 2: Sort Students by Marks (Tuple + Dictionary)   \n",
    "Problem:   \n",
    " You are given a list of tuples — each containing a student’s name and mark.   \n",
    " Sort them in descending order of marks and print the top 3 scorers.   \n",
    "Example Input:    \n",
    "students = [(\"Rafi\", 89), (\"Sumi\", 95), (\"Hasan\", 90), (\"Nila\", 75), (\"Anik\", 98)]    \n",
    "\n",
    "Expected Output:   \n",
    "Top 3 students:     \n",
    "Anik - 98    \n",
    "Sumi - 95     \n",
    "Hasan - 90  \n"
   ]
  },
  {
   "cell_type": "code",
   "execution_count": null,
   "id": "1d6613f1",
   "metadata": {},
   "outputs": [
    {
     "name": "stdout",
     "output_type": "stream",
     "text": [
      "Anik - 98\n",
      "Sumi - 95\n",
      "Hasan - 90\n"
     ]
    }
   ],
   "source": [
    "students = [(\"Rafi\", 89), (\"Sumi\", 95), (\"Hasan\", 90), (\"Nila\", 75), (\"Anik\", 98)]\n",
    "\n",
    "dic = {}\n",
    "\n",
    "for i, j in students:\n",
    "    dic.update({i : j})\n",
    "\n",
    "val_based = {k: v for k, v in sorted(dic.items(), key=lambda item: item[1], reverse=True)}\n",
    "\n",
    "cnt = 0 \n",
    "\n",
    "for x, y in val_based.items():\n",
    "    cnt+=1\n",
    "    if cnt<=3:\n",
    "        print(x, \"-\", y)\n",
    "    else: \n",
    "        break\n",
    "\n",
    "# print(dic)"
   ]
  },
  {
   "cell_type": "markdown",
   "id": "e7cb54c9",
   "metadata": {},
   "source": [
    "Problem 3: Word Length Filter (Lambda + Filter)   \n",
    "Problem:   \n",
    " Given a list of words, use filter() and lambda to return only words whose length is greater than 4.   \n",
    " Example Input:   \n",
    "words = [\"sun\", \"planet\", \"moon\", \"star\", \"universe\"]   \n",
    "\n",
    "Expected Output:   \n",
    "['planet', 'universe']   \n"
   ]
  },
  {
   "cell_type": "code",
   "execution_count": 37,
   "id": "74210a35",
   "metadata": {},
   "outputs": [
    {
     "name": "stdout",
     "output_type": "stream",
     "text": [
      "['planet', 'universe']\n"
     ]
    }
   ],
   "source": [
    "words = [\"sun\", \"planet\", \"moon\", \"star\", \"universe\"]\n",
    "\n",
    "word = list(filter(lambda x : len(x)>4, words))\n",
    "\n",
    "print(word)\n"
   ]
  },
  {
   "cell_type": "markdown",
   "id": "d570ce95",
   "metadata": {},
   "source": [
    "Problem 4: Square of Even Numbers (Map + Filter + Lambda)  \n",
    "Problem:   \n",
    " Write a one-line Python expression using map(), filter(), and lambda that takes a list of integers and returns the squares of even numbers only.   \n",
    "Example Input:   \n",
    "nums = [1, 2, 3, 4, 5, 6]  \n",
    "\n",
    "Expected Output:  \n",
    "[4, 16, 36]  \n"
   ]
  },
  {
   "cell_type": "code",
   "execution_count": 44,
   "id": "0fc183d0",
   "metadata": {},
   "outputs": [
    {
     "name": "stdout",
     "output_type": "stream",
     "text": [
      "[4, 16, 36]\n"
     ]
    }
   ],
   "source": [
    "nums = [1, 2, 3, 4, 5, 6]\n",
    "\n",
    "sqnm = list((map(lambda x: x**2, nums)))\n",
    "\n",
    "fltr_sqnm = list(filter(lambda x : x%2==0, sqnm))\n",
    "\n",
    "print(fltr_sqnm)"
   ]
  },
  {
   "cell_type": "markdown",
   "id": "82416f38",
   "metadata": {},
   "source": [
    "Problem 5: Write and Read a File   \n",
    "Problem:  \n",
    " Write a Python program to:  \n",
    "Create a text file named data.txt   \n",
    "Write “Learning Python is fun!” into it.   \n",
    "Read the file and print its content.  \n"
   ]
  },
  {
   "cell_type": "code",
   "execution_count": 49,
   "id": "924c240c",
   "metadata": {},
   "outputs": [
    {
     "name": "stdout",
     "output_type": "stream",
     "text": [
      "Learning Python is fun!\n"
     ]
    }
   ],
   "source": [
    "with open(\"data.txt\", \"w+\") as file:\n",
    "    file.write(\"Learning Python is fun!\")\n",
    "    file.seek(0)\n",
    "    print(file.read())"
   ]
  },
  {
   "cell_type": "markdown",
   "id": "25525098",
   "metadata": {},
   "source": [
    "Problem 6: Count Lines in a File  \n",
    "Problem:  \n",
    " Write a Python program to count how many lines are in a text file named story.txt.  \n",
    " If the file does not exist, handle the exception and print an error message, otherwise read the text file ( test it with both conditions ). Print a message finally. \n",
    "\n"
   ]
  },
  {
   "cell_type": "code",
   "execution_count": 64,
   "id": "ce6f5270",
   "metadata": {},
   "outputs": [
    {
     "name": "stdout",
     "output_type": "stream",
     "text": [
      "1\n",
      "File read successful\n",
      "Task closed\n"
     ]
    }
   ],
   "source": [
    "try:\n",
    "    with open(\"data.txt\", \"r\") as file:\n",
    "        print(len(file.readlines()))\n",
    "except FileNotFoundError as e:\n",
    "    print(\"Sorry, no file found by this name\")\n",
    "else:\n",
    "    print(\"File read successful\")\n",
    "finally:\n",
    "    print(\"Task closed\")"
   ]
  }
 ],
 "metadata": {
  "kernelspec": {
   "display_name": "Python 3",
   "language": "python",
   "name": "python3"
  },
  "language_info": {
   "codemirror_mode": {
    "name": "ipython",
    "version": 3
   },
   "file_extension": ".py",
   "mimetype": "text/x-python",
   "name": "python",
   "nbconvert_exporter": "python",
   "pygments_lexer": "ipython3",
   "version": "3.13.7"
  }
 },
 "nbformat": 4,
 "nbformat_minor": 5
}
