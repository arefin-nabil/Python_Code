{
 "cells": [
  {
   "cell_type": "markdown",
   "id": "7c6bd640",
   "metadata": {},
   "source": [
    "# Day 1 - Variables, Input, Typecasting, Arithmetic and Comparison Operations"
   ]
  },
  {
   "cell_type": "markdown",
   "id": "d9bd8307",
   "metadata": {},
   "source": [
    "# "
   ]
  },
  {
   "cell_type": "markdown",
   "id": "039c1251",
   "metadata": {},
   "source": [
    "## Python Variables, Input, and Typecasting"
   ]
  },
  {
   "cell_type": "markdown",
   "id": "0205e5c1",
   "metadata": {},
   "source": [
    "### 🔹 Variables in Python\n",
    "- In Python, variables are **declared directly**.\n",
    "- **No data type** is required — Python decides it automatically.\n",
    "- **No semicolon (;)** is needed at the end of a line.\n",
    "\n",
    "Examples:"
   ]
  },
  {
   "cell_type": "code",
   "execution_count": 1,
   "id": "db14b900",
   "metadata": {},
   "outputs": [
    {
     "name": "stdout",
     "output_type": "stream",
     "text": [
      "Nabil 10\n"
     ]
    }
   ],
   "source": [
    "a = 10\n",
    "b = \"Nabil\"\n",
    "\n",
    "# ❌ We cannot use 0 at the beginning of a number in Python\n",
    "# For example: num = 01881196146  ❌ (This will cause an error)\n",
    "# ✅ Use it as a string if it starts with 0\n",
    "num = \"01881196146\"\n",
    "\n",
    "print(b, a)"
   ]
  },
  {
   "cell_type": "markdown",
   "id": "7b6cd347",
   "metadata": {},
   "source": [
    "### 🔹 Taking Input\n",
    "- The `input()` function is used to take data from the user.\n",
    "- Python automatically takes all input as a **string**.\n",
    "\n",
    "Examples:"
   ]
  },
  {
   "cell_type": "code",
   "execution_count": 2,
   "id": "ed9e521d",
   "metadata": {},
   "outputs": [
    {
     "name": "stdout",
     "output_type": "stream",
     "text": [
      "Your first input is: \n",
      "Your name is: \n"
     ]
    }
   ],
   "source": [
    "a = input()                         # Example: 10.236\n",
    "b = input(\"Write name: \")           # Example: Nabil\n",
    "print(\"Your first input is:\", a)\n",
    "print(\"Your name is:\", b)"
   ]
  },
  {
   "cell_type": "markdown",
   "id": "3fc49df8",
   "metadata": {},
   "source": [
    "#### ⚠️ Very Important Note\n",
    "> Python takes all inputs as **strings** — even if you type numbers!\n",
    "\n",
    "that means, amra ja kisui input nei na keno eita string hisbae joma hoy,, er por oita ke type casting kore int ba othe format e nite hy"
   ]
  },
  {
   "cell_type": "markdown",
   "id": "d1d3c599",
   "metadata": {},
   "source": [
    "### 🔹 Typecasting\n",
    "- Typecasting means **changing one data type to another**.\n",
    "- Example: converting `string` → `int`, or `float` → `int`.\n",
    "\n",
    "Examples:"
   ]
  },
  {
   "cell_type": "markdown",
   "id": "1ff656fb",
   "metadata": {},
   "source": [
    "Before typecasting"
   ]
  },
  {
   "cell_type": "code",
   "execution_count": null,
   "id": "297dac14",
   "metadata": {},
   "outputs": [
    {
     "name": "stdout",
     "output_type": "stream",
     "text": [
      "<class 'str'>\n",
      "<class 'str'>\n"
     ]
    }
   ],
   "source": [
    "age = input(\"Enter age: \")                # Example: 10\n",
    "weight = input(\"Enter weight: \")          # Example: 2.563\n",
    "\n",
    "print(type(age))  # <class 'str'>\n",
    "print(type(weight))  # <class 'str'>"
   ]
  },
  {
   "cell_type": "markdown",
   "id": "d9ca59a8",
   "metadata": {},
   "source": [
    "After typecasting"
   ]
  },
  {
   "cell_type": "code",
   "execution_count": null,
   "id": "83899cc6",
   "metadata": {},
   "outputs": [
    {
     "name": "stdout",
     "output_type": "stream",
     "text": [
      "<class 'int'>\n",
      "<class 'float'>\n"
     ]
    }
   ],
   "source": [
    "age = input(\"Enter age: \")  # Example: 10\n",
    "weight = input(\"Enter weight: \")  # Example: 2.563\n",
    "\n",
    "age2 = int(age)                 # typecasting here\n",
    "weight2 = float(weight)         # typecasting here\n",
    "\n",
    "print(type(age2))  # <class 'str'>\n",
    "print(type(weight2))  # <class 'str'>"
   ]
  },
  {
   "cell_type": "code",
   "execution_count": null,
   "id": "10b19f19",
   "metadata": {},
   "outputs": [
    {
     "name": "stdout",
     "output_type": "stream",
     "text": [
      "<class 'int'>\n",
      "<class 'float'>\n",
      "<class 'int'>\n"
     ]
    }
   ],
   "source": [
    "age = int(input(\"Enter age: \"))          # Input nite somoy type casting\n",
    "weight = float(input(\"Enter weight: \"))  # Input nite somoy type casting\n",
    "\n",
    "new_weight = int(weight)        # eikhane type casting kore \"weight\" er float value theke integer kora hoyeche\n",
    "\n",
    "print(type(age))          # <class 'int'>\n",
    "print(type(weight))       # <class 'float'>\n",
    "print(type(new_weight))   # <class 'int'>"
   ]
  },
  {
   "cell_type": "markdown",
   "id": "6a228bed",
   "metadata": {},
   "source": [
    "### ✅ Summary\n",
    "- Variables are declared directly.\n",
    "- No data type or semicolon needed.\n",
    "- All input values are taken as strings.\n",
    "- Typecasting changes one data type to another.\n",
    "\n",
    "Now you understand the **basics of Python variables, input, and typecasting!** 🚀"
   ]
  },
  {
   "cell_type": "markdown",
   "id": "4fe2f81f",
   "metadata": {},
   "source": [
    "# __________________________________________________________________________________________________"
   ]
  },
  {
   "cell_type": "markdown",
   "id": "e1cee09a",
   "metadata": {},
   "source": [
    "## Python Arithmetic and Comparison Operations"
   ]
  },
  {
   "cell_type": "markdown",
   "id": "5ee7ecba",
   "metadata": {},
   "source": [
    "### 🔹 Arithmetic Operations\n",
    "- Python supports common math operations like addition, subtraction, multiplication, etc.\n",
    "- Each operation uses a **symbol (operator)**.\n",
    "\n",
    "Examples:"
   ]
  },
  {
   "cell_type": "code",
   "execution_count": null,
   "id": "80e6ba11",
   "metadata": {},
   "outputs": [],
   "source": [
    "# Python Arithmetic Operations\n",
    "a = 15\n",
    "b = 2\n",
    "\n",
    "print(a + b)   # + Addition                   → 17\n",
    "print(a - b)   # - Subtraction                → 13\n",
    "print(a * b)   # * Multiplication             → 30\n",
    "print(a / b)   # / Division                   → 7.5  (float value)\n",
    "print(a // b)  # // Floor division            → 7    (integer value)\n",
    "print(a % b)   # % Modulus                    → 1    (remainder)\n",
    "print(2 ** 3)  # ** Exponentiation            → 8    (power 2³)"
   ]
  },
  {
   "cell_type": "markdown",
   "id": "7ea7e9c5",
   "metadata": {},
   "source": [
    "### 🔹 Boolean Values\n",
    "- A **Boolean** value can only be `True` or `False`.\n",
    "- These are used in conditions and comparisons.\n"
   ]
  },
  {
   "cell_type": "markdown",
   "id": "1425c7d5",
   "metadata": {},
   "source": [
    "### 🔹 Comparison Operators\n",
    "- Used to compare two values.\n",
    "- The result is always either `True` or `False`.\n",
    "\n",
    "Examples:"
   ]
  },
  {
   "cell_type": "code",
   "execution_count": null,
   "id": "3e5b305d",
   "metadata": {},
   "outputs": [],
   "source": [
    "# Python Comparison Operators\n",
    "print(10 == 5)    # == Equal to                   → False\n",
    "print(10 != 5)    # != Not equal to               → True\n",
    "print(10 > 5)     # > Greater than                → True\n",
    "print(10 < 5)     # < Less than                   → False\n",
    "print(10 >= 10)   # >= Greater than or equal to   → True\n",
    "print(10 <= 10)   # <= Less than or equal to      → True"
   ]
  },
  {
   "cell_type": "markdown",
   "id": "0d7e0773",
   "metadata": {},
   "source": [
    "### ✅ Summary\n",
    "- Arithmetic operators perform mathematical operations.\n",
    "- Comparison operators check relationships between values.\n",
    "- Boolean values are always `True` or `False`.\n",
    "\n",
    "Now you know how Python handles **math and comparison operations!** 🧠"
   ]
  }
 ],
 "metadata": {
  "kernelspec": {
   "display_name": "Python 3",
   "language": "python",
   "name": "python3"
  },
  "language_info": {
   "codemirror_mode": {
    "name": "ipython",
    "version": 3
   },
   "file_extension": ".py",
   "mimetype": "text/x-python",
   "name": "python",
   "nbconvert_exporter": "python",
   "pygments_lexer": "ipython3",
   "version": "3.13.7"
  }
 },
 "nbformat": 4,
 "nbformat_minor": 5
}
