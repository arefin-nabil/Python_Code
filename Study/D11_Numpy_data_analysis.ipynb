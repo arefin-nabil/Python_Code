{
 "cells": [
  {
   "cell_type": "markdown",
   "id": "1edcca8a",
   "metadata": {},
   "source": [
    "# Day 11 - Numpy"
   ]
  },
  {
   "cell_type": "markdown",
   "id": "2ebb0570",
   "metadata": {},
   "source": [
    "NumPy (Numerical Python) মূলত array নিয়ে কাজ করা একটি লাইব্রেরি যা বৈজ্ঞানিক ও গাণিতিক হিসাব নিকাশ করার জন্য ব্যবহার করা হয়।\n",
    "\n",
    "- **ndarray** (N-dimensional array) → NumPy এর প্রধান অবজেক্ট।\n",
    "- এটি এক বা একাধিক মাত্রার (1D, 2D, 3D...) ডেটা সংরক্ষণ করতে পারে।\n",
    "- **একই ডেটা টাইপ** → NumPy অ্যারেতে সব উপাদানের ডেটা টাইপ একই হয় । যেমন সব int বা সব float।\n",
    "- **দ্রুত গাণিতিক অপারেশন** → বড় ডেটাসেটের ওপর যোগ, গুণ, ভাগ ইত্যাদি খুব দ্রুত করা যায়।\n",
    "- **কম কোডে বেশি কাজ** → সাধারণ পাইথন লুপ ব্যবহার না করেও অনেক অপারেশন করা যায়।\n",
    "- পাইথনের list এর চেয়ে অনেক দ্রুত কাজ করে।\n",
    "- বড় ডেটা সহজে হ্যান্ডেল করা যায়।\n",
    "- ম্যাথ, স্ট্যাটিসটিকস, মেশিন লার্নিং, ডেটা অ্যানালাইসিসে এইটি অপরিহার্য।\n",
    "\n",
    "numpy কাজ করে SIMD (Single Instruction, Multiple Data) প্রসেসে    \n",
    "scaler operation     ________       SIMD operation        \n",
    "a1+B1=c1 ______________ a1 B1=c1    \n",
    "a2+B2=c2 ______________ a2+B2=c2    \n",
    "a3+B3=c3 ______________ a3 B3=c3    "
   ]
  },
  {
   "cell_type": "code",
   "execution_count": null,
   "id": "cd9ee919",
   "metadata": {},
   "outputs": [
    {
     "name": "stdout",
     "output_type": "stream",
     "text": [
      "<class 'numpy.ndarray'>\n",
      "miltiply in list :  [1, 2, 3, 1, 2, 3, 1, 2, 3, 1, 2, 3, 1, 2, 3]\n",
      "multiply in numpy :  [ 5 10 15]\n",
      "plus in list :  [1, 2, 3, 4, 5, 6]\n",
      "plus in numpy :  [5 7 9]\n"
     ]
    }
   ],
   "source": [
    "import numpy as np          # যেহেতু আলাদা লাইব্রেরী,, তাই ইমপোর্ট করে নিতে হয়\n",
    "\n",
    "l = [1, 2, 3]\n",
    "n = np.array([1, 2, 3])\n",
    "\n",
    "print(type(n))\n",
    "\n",
    "# কেন লিস্ট ব্যবহার না করে numpy ব্যবহার করবো??????\n",
    "# here is the example\n",
    "\n",
    "print(\"miltiply in list : \", l * 5)         # list এর সাথে যদি ৫ গুন করি তাহলে এটা লিস্ট কে ৫ বার মাল্টিপ্লাই করে,, যা ম্যাথম্যাটিকাল হলো না,, অন্যান্য ম্যাথের জন্য ও সেইম\n",
    "\n",
    "print(\"multiply in numpy : \", n * 5)        # but তে ৫ গুন করলে এটা প্রতি ইলিমেন্ট এর সাথে ৫ গুন করে,, ম্যাথম্যাটিকাললি আমরা যেটা চাই\n",
    "\n",
    "l2 = [4, 5, 6]\n",
    "n2 = np.array([4, 5, 6])\n",
    "\n",
    "print(\"plus in list : \", l+l2)\n",
    "print(\"plus in numpy : \", n+n2)"
   ]
  },
  {
   "cell_type": "code",
   "execution_count": null,
   "id": "7b08b0b5",
   "metadata": {},
   "outputs": [
    {
     "name": "stdout",
     "output_type": "stream",
     "text": [
      "3\n",
      "(2, 3)\n",
      "(3, 2, 3)\n",
      "6\n",
      "18\n",
      "int64\n"
     ]
    }
   ],
   "source": [
    "# 1D array      row\n",
    "arr1 = np.array([1, 2, 3, 4, 5])\n",
    "\n",
    "# 2D array      row+column\n",
    "arr2 = np.array([[1, 2, 3],         \n",
    "                 [4, 5, 6]])        \n",
    "\n",
    "# 3D array      row+column+height\n",
    "arr3 = np.array(\n",
    "    [[[1, 2, 3], [4, 5, 6]],        \n",
    "     [[1, 2, 3], [4, 5, 6]],        \n",
    "     [[1, 2, 3], [4, 5, 6]]]        \n",
    ")\n",
    "\n",
    "# Array Attributes\n",
    "# ndim বলে দেয় অ্যারেটি কয় dimensional এর।\n",
    "print(arr3.ndim)\n",
    "\n",
    "# shape বলে দেয় প্রতিটি dimension এ কয়টি উপাদান আছে ,যেমন সারি ও কলাম সংখ্যা।  tuple output dey\n",
    "print(arr2.shape)\n",
    "print(arr3.shape)\n",
    "\n",
    "# size বলে দেয় অ্যারেতে মোট কয়টি উপাদান আছে।\n",
    "print(arr2.size)\n",
    "print(arr3.size)"
   ]
  },
  {
   "cell_type": "markdown",
   "id": "39768e5a",
   "metadata": {},
   "source": [
    "### ndarray Data Type\n",
    "NumPy এর ndarray এ সব element একই type এর হতে হয়।    \n",
    "যেমন → সবগুলো সংখ্যা হলে int বা float হবে, কিন্তু ভিন্ন টাইপ হলে NumPy সেটিকে এক টাইপে রূপান্তর করে নেয়।"
   ]
  },
  {
   "cell_type": "code",
   "execution_count": 24,
   "id": "69e47ffc",
   "metadata": {},
   "outputs": [
    {
     "name": "stdout",
     "output_type": "stream",
     "text": [
      "int64\n",
      "float64\n",
      "float64\n",
      "<U32\n"
     ]
    }
   ],
   "source": [
    "arr = np.array([1, 2, 3])\n",
    "print(arr.dtype)            \n",
    "\n",
    "arr = np.array([1.5, 2.9, 3.1])\n",
    "print(arr.dtype)            \n",
    "\n",
    "# upcasting == যেহেতু নামপাই এক টাইপের ডেটা নিয়েই কাজ করে তাই সে upcasting করে সব int কে float এ কনভার্ট কেরে ফেলছে,, একই বলে upcasting\n",
    "arr = np.array([1, 2, 3.1])\n",
    "print(arr.dtype)            \n",
    "\n",
    "# এখানেও upcasting করে সবগুলিকে string এ নিয়ে গেছে,, এখানে U মানে unicode string\n",
    "arr = np.array([1, 2, \"6\", \"hi bro\", 3.1])\n",
    "print(arr.dtype)            \n",
    "\n",
    "\n",
    "###### উল্লেখ্য ##########\n",
    "\n",
    "# এখানে ডাটা টাইপের শেষে যে সংখ্যা থাকে তা বিট বুঝায়\n",
    "# int8 → 8-bit integer value (-128 to 127)\n",
    "# int16 → 16-bit integer value (-32768 to 32767)\n",
    "# int32 → 32-bit integer value (-2147483648 to 2147483647)\n",
    "# int64 → 64-bit integer value (-9223372036854775808 to 9223372036854775807)"
   ]
  },
  {
   "cell_type": "code",
   "execution_count": null,
   "id": "905e727f",
   "metadata": {},
   "outputs": [
    {
     "name": "stdout",
     "output_type": "stream",
     "text": [
      "int8\n",
      "int32\n",
      "[ 1.   2.  64.   3.1]\n"
     ]
    }
   ],
   "source": [
    "# change data type\n",
    "arr = np.array([1, 2, 3], dtype=np.int8)\n",
    "print(arr.dtype)\n",
    "\n",
    "arr = arr.astype(np.int32)              # another way to change data type\n",
    "print(arr.dtype)\n",
    "\n",
    "# now\n",
    "# arr = np.array([1, 2, 300], dtype=np.int8)                    # this line will give error,, because int8 can handle up to 127\n",
    "\n",
    "# arr = np.array([1, 2, \"hi\",  3.1], dtype=np.float64)          # will error also,, because string cannot convert to float val\n",
    "arr = np.array([1, 2, \"64\",  3.1], dtype=np.float64)            # but here will be no error\n",
    "print(arr)\n",
    "\n"
   ]
  },
  {
   "cell_type": "markdown",
   "id": "210e7b7e",
   "metadata": {},
   "source": [
    "### ndarray creation from Existing data"
   ]
  },
  {
   "cell_type": "code",
   "execution_count": 48,
   "id": "255017cb",
   "metadata": {},
   "outputs": [
    {
     "name": "stdout",
     "output_type": "stream",
     "text": [
      "-------------- list --------------\n",
      "int32\n",
      "-------------- 2D array --------------\n",
      "[[1 2 3]\n",
      " [4 5 6]]\n",
      "<class 'numpy.ndarray'>\n",
      "int64\n",
      "(2, 3)\n",
      "2\n",
      "-------------- Tuple --------------\n",
      "[2 1 4 5 9]\n",
      "-------------- Set --------------\n",
      "{10, 20, 30}\n",
      "[10 20 30]\n",
      "-------------- Dictionary --------------\n",
      "['a' 'b' 'c']\n",
      "<U1\n",
      "[10 20 30]\n",
      "int16\n",
      "[['a' '10']\n",
      " ['b' '20']\n",
      " ['c' '30']]\n",
      "<U21\n",
      "6\n"
     ]
    }
   ],
   "source": [
    "print(\"-------------- list --------------\")\n",
    "lst = [1, 3, 5, 7.5, 96, 2.332, 3565.32, 25, 32]\n",
    "arr = np.array(lst, dtype=np.int32)\n",
    "print(arr.dtype)\n",
    "\n",
    "print(\"-------------- 2D array --------------\")\n",
    "arr2 = np.array([[1, 2, 3], \n",
    "                 [4, 5, 6]])\n",
    "arr = np.array(arr2)\n",
    "arr.astype(np.float64)\n",
    "print(arr2)\n",
    "print(type(arr2))\n",
    "print(arr2.dtype)\n",
    "print(arr2.shape)\n",
    "print(arr2.ndim)\n",
    "\n",
    "print(\"-------------- Tuple --------------\")\n",
    "# tuple,, nested tuple any thing is convertable as like 2D array\n",
    "tpl = (2, 1, 4, 5, 9)\n",
    "arr = np.array(tpl)\n",
    "print(arr)\n",
    "\n",
    "print(\"-------------- Set --------------\")\n",
    "# ndarray direct set কে element/object হিসাবে নিয়ে নেয় so যেহেতু set unordered, তাই একে list() দিয়ে রূপান্তর করে তারপর NumPy অ্যারে বানানো হয়েছে।\n",
    "\n",
    "st = {10, 20, 30}\n",
    "\n",
    "arr = np.array(st)      # direct set 1 ta elemnt hy\n",
    "print(arr)\n",
    "\n",
    "arr = np.array(list(st))    # list e convert korar por\n",
    "print(arr)\n",
    "\n",
    "print(\"-------------- Dictionary --------------\")\n",
    "\n",
    "dc = {\"a\": 10, \"b\": 20, \"c\": 30}\n",
    "\n",
    "# Keys থেকে ndarray\n",
    "arr = np.array(list(dc.keys()))\n",
    "print(arr)\n",
    "print(arr.dtype)\n",
    "\n",
    "# Values থেকে ndarray\n",
    "arr = np.array(list(dc.values()))\n",
    "arr = arr.astype(np.int16)\n",
    "print(arr)\n",
    "print(arr.dtype)\n",
    "\n",
    "# Items (key-value pair) থেকে ndarray\n",
    "arr = np.array(list(dc.items()))\n",
    "print(arr)\n",
    "print(arr.dtype)\n",
    "print(arr.size)"
   ]
  },
  {
   "cell_type": "markdown",
   "id": "10ed83e5",
   "metadata": {},
   "source": [
    "### ndarray creation from scratch"
   ]
  },
  {
   "cell_type": "code",
   "execution_count": null,
   "id": "97778e34",
   "metadata": {},
   "outputs": [
    {
     "name": "stdout",
     "output_type": "stream",
     "text": [
      "[[0. 0. 0. 0. 0.]\n",
      " [0. 0. 0. 0. 0.]]\n",
      "[[0 0 0]\n",
      " [0 0 0]]\n",
      "[[1. 1. 1.]\n",
      " [1. 1. 1.]]\n",
      "[[ 1.   2. ]\n",
      " [64.   3.1]]\n",
      "[['x' 'x' 'x']\n",
      " ['x' 'x' 'x']\n",
      " ['x' 'x' 'x']]\n",
      "inf\n"
     ]
    }
   ],
   "source": [
    "arr = np.zeros((2, 5))          # (2,3) মানে ২ সারি ও ৩ কলামের 2D অ্যারে যার সব ভ্যালু 0 হবে\n",
    "print(arr)\n",
    "\n",
    "# এখন যদি অন্য কোনো exixting array এর shape ও dtype নিয়ে 0 ওয়ালা নতুন অ্যারে বানাতে চাই তাহলে\n",
    "arr = np.zeros_like(arr2)\n",
    "print(arr)\n",
    "\n",
    "arr = np.ones((2, 3))           # ভ্যালু 1 হবে\n",
    "print(arr)\n",
    "\n",
    "arr = np.empty((2, 2))          # কিছু random ভ্যালু নিবে\n",
    "print(arr)\n",
    "\n",
    "arr = np.full((3, 3), \"x\")    # যা খুশি তাই দিবো,, তাতেই ফিলআপ হবে,,  10, 45.6, True, \"str ing\" (np.inf = for infinity value)\n",
    "print(arr)\n",
    "\n",
    "\n",
    "#############    _like   ##############\n",
    "# আমরা যখন _like ব্যবহার করে অন্য কোনো array এর শেপ নিবো তখন কিন্ত array এর সাথে ঐ শেপ এর ডাটা টাইপ ও চলে আসবে"
   ]
  },
  {
   "cell_type": "markdown",
   "id": "8823b635",
   "metadata": {},
   "source": [
    "### ndarray generation with random values\n",
    "অনির্দিষ্ট, এক এক সময় এক এক ভ্যালু"
   ]
  },
  {
   "cell_type": "code",
   "execution_count": 114,
   "id": "f44ba79b",
   "metadata": {},
   "outputs": [
    {
     "name": "stdout",
     "output_type": "stream",
     "text": [
      "[[0.98986899 0.93034704 0.49273714]\n",
      " [0.51683237 0.02536431 0.87778954]]\n",
      "[[4 8 7]\n",
      " [4 1 4]]\n",
      "[[16.19483973 14.91901655 14.72700224]\n",
      " [14.46522403 15.0224981  18.16230459]]\n",
      "-------------- 3D --------------\n",
      "[[[18.35318879 15.06846706]\n",
      "  [13.71608683 16.52924226]]\n",
      "\n",
      " [[18.08205658 11.74409048]\n",
      "  [16.36895726 16.14165974]]]\n"
     ]
    }
   ],
   "source": [
    "arr = np.random.rand(2, 3)          # 0 থেকে 1 এর মাঝে float/দশমিক সংখ্যা নিয়ে array ‍তৈরী করে\n",
    "print(arr)\n",
    "\n",
    "# (start, end, shape)\n",
    "arr = np.random.randint(1, 10, (2, 3))          # 1 থেকে 10 এর মাঝে int value নিয়ে array ‍তৈরী করে\n",
    "print(arr)\n",
    "\n",
    "arr = np.random.uniform(11, 20, (2, 3))         # 11 থেকে 20 এর মাঝে float value নিয়ে array ‍তৈরী করে\n",
    "print(arr)\n",
    "\n",
    "print(\"-------------- 3D --------------\")\n",
    "\n",
    "arr = np.random.uniform(11, 20, (2, 2, 2))         # 11 থেকে 20 এর মাঝে float value নিয়ে 3D array ‍তৈরী করে\n",
    "print(arr)"
   ]
  },
  {
   "cell_type": "markdown",
   "id": "eb016ad2",
   "metadata": {},
   "source": [
    "### ndarray creation from range\n",
    "নির্দিষ্ট, এক এক সময় এক এক ভ্যালু"
   ]
  },
  {
   "cell_type": "code",
   "execution_count": null,
   "id": "6e156e5a",
   "metadata": {},
   "outputs": [],
   "source": []
  }
 ],
 "metadata": {
  "kernelspec": {
   "display_name": "Python 3",
   "language": "python",
   "name": "python3"
  },
  "language_info": {
   "codemirror_mode": {
    "name": "ipython",
    "version": 3
   },
   "file_extension": ".py",
   "mimetype": "text/x-python",
   "name": "python",
   "nbconvert_exporter": "python",
   "pygments_lexer": "ipython3",
   "version": "3.13.7"
  }
 },
 "nbformat": 4,
 "nbformat_minor": 5
}
