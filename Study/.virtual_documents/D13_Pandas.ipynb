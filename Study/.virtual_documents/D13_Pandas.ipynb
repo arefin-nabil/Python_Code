


import pandas as pd

# Dataframe -> a 2D data structure, like a 2D array, a dictionary, or a table with rows and columns, 
# Series -> single row or a single column from a dataframe is known as series,, 1D data


# load data into a DataFrame object:

data = {"calories": [420, 380, 390], 
        "duration": [50, 40, 45], 
        "weight": [67, 54, 75]}

df = pd.DataFrame(data)                 # whole 2D data

print(df)
print(type(df))

calories = df['calories']               # series/single row/column data

print(calories)
print(type(calories))





# CSV (Comma-Separated Values) file        -> most used dataset format

csv_data = pd.read_csv('D13-3_student_data.csv')
# print(csv_data)
print(type(csv_data))


# Excel file

excel_data = pd.read_excel('D13-2_student_marks.xlsx')
# print(excel_data)
print(type(excel_data))


# parquet file        -> faster than CSV, mainly used for very much larger data sets

parquet_data = pd.read_parquet('D13-4_students.parquet')
# print(parquet_data)
print(type(parquet_data))


# we can also work with JSON or other so many files formats





df = pd.read_csv('D13-3_student_data.csv')
# print(df)
df


df.head(8)      # dataframe er শুরুর দিকের ডাটা এক্সেস করার জন্য,, default is 5
df.tail()       # dataframe er শেষের দিকের ডাটা এক্সেস করার জন্য,, default is 5
df.info()       # summary of the DataFrame, including data types and non-null counts.
df.columns      # এখানে column কোনো ফাংশন না,, বরং dataframe এর একটা attribute 
# lst = list(df.columns)
# print(lst)    # comvertable to list
# import numpy as np
# arr = np.array(df.columns) 
# print(arr)    # np array
df.shape        # row and column 



