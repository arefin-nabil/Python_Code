


import pandas as pd

# Dataframe -> a 2D data structure, like a 2D array, a dictionary, or a table with rows and columns, 
# Series -> single row or a single column from a dataframe is known as a series, 1D data
# row/index --- column/feature


# load data into a DataFrame object:

data = {"calories": [420, 380, 390], 
        "duration": [50, 40, 45], 
        "weight": [67, 54, 75]}

df = pd.DataFrame(data)                 # whole 2D data

print(df)
print(type(df))

calories = df['calories']               # series/single row/column data

print(calories)
print(type(calories))





# CSV (Comma-Separated Values) file        -> most used dataset format

csv_data = pd.read_csv('D13-3_student_data.csv')
# print(csv_data)
print(type(csv_data))


# Excel file

excel_data = pd.read_excel('D13-2_student_marks.xlsx')
# print(excel_data)
print(type(excel_data))


# parquet file        -> faster than CSV, mainly used for very much larger data sets

parquet_data = pd.read_parquet('D13-4_students.parquet')
# print(parquet_data)
print(type(parquet_data))


# we can also work with JSON or other so many files formats





df = pd.read_csv('D13-3_student_data.csv')
# print(df)
df


df.head(10)      # dataframe er শুরুর দিকের ডাটা এক্সেস করার জন্য,, default is 5


df.tail()       # dataframe er শেষের দিকের ডাটা এক্সেস করার জন্য,, default is 5


df.info()       # summary of the DataFrame, including data types and non-null counts.


df.columns      # এখানে column কোনো ফাংশন না,, বরং dataframe এর একটা attribute 


lst = list(df.columns)
print(lst)    # comvertable to list


import numpy as np
arr = np.array(df.columns) 
print(arr)    # np array


df.shape        # row and column 


df.index        # general index detail


idx = np.array(df.index)
idx         # to iterate


df.sample(10)      # big dataset থেকে স্যাম্পল ডাটা দেখার জন্য,, এতে কোনো index ফলো হয় না,, randomly data আসে


# statistical value

df.describe()     # এখানে সে অটোমটিক ভাবে যত int বা float টাইপের data / কলাম আছে সেগুলির জন্য statistical value শো করে





#  List ba Tuple er jonno same process
my_list = [['Nabil', 20], ['Hiya', 22], ['Showrov', 28], ['Tina', 23], ['Obaidul', 32]]
list_df = pd.DataFrame(my_list, columns=["Name", 'Age'], index = ['ক', 'আ', 'C', 4, 5.6])
# এখানে ডিফল্ট ভাবে রো/ইনডেক্স এবং কলাম/ফিচার 0,1,2... সিরিয়ালে আসে 
print(type(list_df))
list_df


my_dict = {
    'Name' : ["nabil", 'bangladesh', 'janhvi kapoor', "Selina Gomez"],
    "Age" : [20, 55, 28, 25]
}
# By default dictionary এর key কে column e convert করা হয়েছে 
dict_df = pd.DataFrame(my_dict)
dict_df
# এই ফরমেটে ডাটার জন্য সকল key এর element সংখ্যা সমান হতে হবে। "Age" : [20, 55, 28] দিলে error আসবে


my_dict2 = [
    {'Name':"Nabil", "age":21, "Address":"Dhaka"}, 
    {"Age":21, "Address":"Gazipur"}, 
    {'name':"Sabila", "age":23, "Address":""}    
]
dict_df2 = pd.DataFrame(my_dict2)
dict_df2

# সো এখানে মজার বিষয় হচ্ছে,, আমরা জানি পাইথন একটা কেস সেনসিটিভ লেঙ্গুয়েজ,, সো সে Age এবং age কে আলাদা key হিসাবে consider করছে
# এই ফরমেটে ডাটার জন্য key এর element তো দূর, key ই ম্যাটার করে না





# Accessing Column/feature

# Accessing a Single column (using column name)
df["FullName"]
type(df["FullName"])


# Accessing multiple Columns (using column name)
df[["FullName", "Location"]]
type(df[["FullName", "Location"]])


# Accessing Row/Index

# Accessing a single row
df.loc[0]
# type(df.loc[0])


# Accessing Multiple row (using normal List)
df.loc[[2,3,5]]


# Accessing Multiple row (using range)
df.loc[5:9]


# Accessing a Single column (using the .loc property)
df.loc[:, "Instructor" ]           # here ":" means from all rows, it is not selected
df.loc[3:7, "Instructor"]          # and here 3:7 means from row number 3 to 7, it is selected


# Accessing multiple columns (using the .loc property)
df.loc[:, ["Instructor", "Location"] ]           # we have to pass multiple column names as a list
df.loc[3:7,["Instructor", "Location", "Python Marks"]]        # Row with Column





# Changing column
df_idx = df.set_index('StudentID')
df_idx      # index hocche StudentID

# Accessing row Data
df_idx.iloc[3:7]

# Accessing Column Data
df_idx.iloc[:,1:4]
df_idx.iloc[3:7,1:4]


# CHanging column name
# df.rename(columns={'FullName' : 'Full Name', 'Data Structure Marks' :'DS marks'},inplace=True )
# df               # inplace = True দিলে মূল DataFrameই পরিবর্তন হয়ে যাবে। আর না দিলে DataFrame এর একটা কপি ক্রিয়েট হবে।
df_col_nm = df.rename(columns={'FullName' : 'Full Name', 'Data Structure Marks' :'DS marks'} )
df_col_nm

df_col_nm.loc[1:3]





# Row delete
row_del = df.drop(0)
row_del


# column delete
col_del = df.drop("Instructor", axis=1)   # jodi main file thele delet ekorte chai tahole axis er por ",inplace=True" dite hbe
col_del 
        


# changing value of any item

df.loc[1, 'Python Marks'] = 90 # 'CompletionStatus' ]
df.loc[1, 'CompletionStatus'] = 'Completed'
df.loc[1:3, 'Python Marks']+=2
df.head()





sort_df = df.sort_values('Algorithm Marks')    # ascending = true -- choto theke boro order 
sort_df = df.sort_values('Algorithm Marks', ascending=False)    # boro theke choto = desscending
sort_df = df.sort_values(['Algorithm Marks', 'Python Marks'], ascending=False)    # jodi amn hy koyekjon er algo marks same tahole jar python marks behsi shey agey ashbe,, and eita obossoi list er vetor e dite hbe
sort_df = df.sort_values(['Algorithm Marks', 'Python Marks'], ascending=[0,1])    # algo krbe desscending and python jabe ascending,,      0 = false, 1 = true
sort_df





in_progress = df.loc[df['CompletionStatus']=='In Progress']
in_progress


# completed couese and DS marks above 90
compl_ds = df.loc[(df['CompletionStatus']=='Completed') & (df['Data Structure Marks']>=90)]
compl_ds





# problem link -> https://leetcode.com/problems/big-countries?envType=study-plan-v2&envId=30-days-of-pandas&lang=pythondata
import pandas as pd

def big_countries(world: pd.DataFrame) -> pd.DataFrame:
    ans = world.loc[(world['area']>= 3000000 ) | (world['population']>=25000000), ['name', 'population', 'area']]
    return ans


# problem link -> https://leetcode.com/problems/recyclable-and-low-fat-products
import pandas as pd

def find_products(products: pd.DataFrame) -> pd.DataFrame:
    l_f_rec = products.loc[(products['low_fats']=='Y') & (products['recyclable']=='Y'), ['product_id']] 
    return l_f_rec



