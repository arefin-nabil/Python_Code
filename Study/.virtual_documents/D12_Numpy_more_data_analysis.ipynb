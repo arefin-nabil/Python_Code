





import numpy as np

# array reshape
# ধরি আমাদের 10X5=50 টি ডাটা দেওয়া আছে। এটাকে আমরা চাইলে 5X10=50 বা 25X2=50 এভাবে reshape করতে পারি। অর্থাৎ ৫০ ডাটা ঠিক রেখে যেভাবে ইচ্ছা সেভাবে reshape করতে পারি।
arr = np.random.randint(1, 100, size = (10, 5))         # Sample 10,, feature 5,, 2D array
print(arr)


arr2 = arr.reshape(5, 10)                               # sample 5,, feature 10,, 2D array
print(arr2)


arr3 = arr2.flatten()                                    # sample 1,, feature 50,, 1D array
arr3 = np.ravel(arr2, order="C")                         # row-major (C-style) order,, দুইটা সেইম কাজ করে
print(arr3)

# এখানে ডাটাকে row wise reshape করা হয় ,, অর্থাৎ ১ম row এর শেষ element '21'এর-পর ২য় row এর প্রথম element '94' এসেছে।


arr4 = np.ravel(arr2, order="F")                        # F means (Fortran-style) order
print(arr4)

# এখানে ডাটাকে column wise reshape করা হয় ,, অর্থাৎ ১ম column এর শেষ element '68'এর-পর ২য় column এর প্রথম element '47' এসেছে।





a = np.random.randint(1, 10, (2, 3))
b = np.random.randint(11, 20, (2, 3))

# concatenate এর শর্ত,,
# Row wise concatenate করার সময় ২ array এর column size সেইম হতে হবে।
# Column wise concatenate করার সময় ২ array এর row size সেইম হতে হবে।


con_row = np.concatenate((a, b), axis=0)            # row wise concatenate,, will add row bellow
con_col = np.concatenate((a, b), axis=1)            # column wise concatenate,, will add column beside

print(con_row)
print(con_col)





transpose = b.T
print(transpose)


# array split -> যেভাবে ইচ্ছা সেভাবে

a = np.random.randint(1, 10, size=(10,))
print(a)
splitted_array = np.array_split(a, 3)
print(splitted_array)

# split -> equal division
b = np.random.randint(1, 10, size=(9,))
print(b)
eq_splitted_array = np.split(b, 3)
print(eq_splitted_array)





x = np.array([10, 20, 30, 40, 50])
y = np.array([60, 70, 80, 90, 100])

# add = x+y
add = np.add(x,y)
print(add)

# sub = y-x
sub = np.subtract(y,x)
print(sub)

# mul = x*y
mul = np.multiply(x,y)
print(mul)

# div = y/x
div = np.divide(y,x)
print(div)

# mod = y%x
mod = np.mod(y,x)
print(mod)

# pw = x**2
pw = np.power(x, 2)
print(pw)

# sum of all value in x
sm = np.sum(x)
print(sm)

# cumulative sum
cuml_sm = np.cumulative_sum(x)
print(cuml_sm)





# sin, cos, tan takes value in radian
sin_val = np.sin(10)
print(sin_val)

x = np.array([0, 30, 45, 60, 90, ])          # eikhane value guli radian e ache

sin_arr = np.sin(x)                          # x array er shb elemnt er sin value
print(sin_arr)
# np.arcsin()

cos_val = np.cos(x)
print(cos_val)
# np.arccos

tan_val = np.tan(x)
print(tan_val)
# np.arctan


# lets convert radian value to degree

deg_conv = np.rad2deg(x)
print(deg_conv)

# to get degree to radian value,, we have to use deg2rad()





x = np.array([10, 8, 16, 100])
base_10_log = np.log10(x)
print(base_10_log)              # বাংলায় বললে,, log10(x) মানে x এর value কে 10 দিয়ে কত বার ভাগ করা যায় সেটাই আউটপুট দেয়


base_2_log = np.log2(x)
print(base_2_log)               # বাংলায় বললে,, log2(x) মানে x এর value কে 2 দিয়ে কত বার ভাগ করা যায় সেটাই আউটপুট দেয়


sqrt = np.sqrt(x)
print(sqrt)





x = np.array([10, 20, 30, 40, 50])
print(x+2)

# এখানে x = 10, 20, 30, 40, 50 ,, আমরা যখন x+2 লিখছি তখন এটা ভেতরে ভেতরে 2, 2, 2, 2, 2 এর একটা array এর মতো তৈরী করে এবং 10+2, 20+2, 30+2, 40+2, 50+2 করে আউটপুট দেয়,, this is broadcasting


# rulings = columns er size and vector er size same hote hobe

matrix = np.array([[10, 20, 30], [30, 40, 50]])
vector = np.array([1, 2, 3])
result = matrix + vector
print(result)





# comparison - >,< , >= ,<= , == , !=

x = np.array([10, 8, 16, 100])
y = np.array([2, 3, 16, 5])

greater_than = x > y
print(greater_than)

equal = x == y
print(equal)

# all () -> shob true kina
# any() -> jekono ekta true ase kina

print(np.all(greater_than))

print(np.any(equal))





x = np.random.randint(1, 20, (1, 5))


# inplace       এখানে সর্ট করার পরে array elements এর index/প্লেস ই চেঞ্জ হয়ে যায়,, ফলে আগের array আর ফেরত পাওয়া যায় না
z = x.copy()
print(z)
z.sort()
print(z)


# copy sorting      এখানে সর্ট করার পরেও আগের array অক্ষত থাকে
print(x)
sort_arr = np.sort(x)
print(sort_arr)
print(x)


# 2d array sorting
mat = np.array([[10, 3, 5], [8, 4, 9]])

# horizon axis = 1

hor_sort = np.sort(mat, axis=1)
print(hor_sort)

# vertical axis = 0
vert_sort = np.sort(mat, axis=0)
print(vert_sort)





x = np.array([5, 9, 8, 13, 2, 25])

index = np.where(x == 8)               # returns index
print(index)

# np.where( condition , x , y ) if true keep x , otherwise replace with y
arr = np.where(x > 8, x, 0)            # returns array
print(arr)

index = np.where(mat > 8)              # returns index
print(index)

arr = np.where(mat > 8, mat, 0)        # returns array
print(arr)

x = np.array([10, 100, 8, 16, 100])

maximum_value_indx = np.argmax(x)
minimum_value_indx = np.argmin(x)

print(maximum_value_indx)
print(minimum_value_indx)





a = np.random.randint(1, 100, size=(100,))
print(a)


value_great_than_60 = np.count_nonzero(a > 60)
value_less_than_60 = np.count_nonzero(a < 60)
value_equal_60 = np.count_nonzero(a == 60)
value_not_equal_60 = np.count_nonzero(a != 60)
print(value_great_than_60)
print(value_less_than_60)
print(value_equal_60)
print(value_not_equal_60)


# find only unique values from the array
unique_value= np.unique(a)

# find unique values with counting their repetition number from the array
unique_value, count = np.unique(a, return_counts=True)

print(unique_value)
print(count)





# data load

data = np.genfromtxt("D12-1_student_scores.csv", delimiter=",", skip_header=1)

print(data)


# statistics
math_marks = data[::, :1]                       # eikhane math marks er column ke alada kora hoyeche

print(math_marks.T)                             # output ekta lomba column,, ty transpose kore row banano hoyeche

max_math_marks = np.max(math_marks)             # max marks ber kora hocche
print(max_math_marks)

min_math_marks = np.min(math_marks)             # min
print(min_math_marks)

average_math_marks = np.mean(math_marks)        # average
print(average_math_marks)

median_math_marks = np.median(math_marks)       # median
print(median_math_marks)

std_math_marks = np.std(math_marks)             # standard deviation
print(std_math_marks)





A = np.array([[1, 2, 3], [4, 5, 6]])

B = np.array([[7, 8], [9, 10], [11, 12]])

# a er column and b er row same length hote hobe
dot_product = np.dot(A, B)
print(dot_product)


# trace
print(np.trace(B))



sq_mat = np.array([[1, 20, 3], 
                   [4, 5, 6], 
                   [17, 8, 9]])

det_of_sq = np.linalg.det(sq_mat)

rank_sq = np.linalg.matrix_rank(sq_mat)

print(det_of_sq)
## https://www.notion.so/Numpy-Array-Matrix-Example-293ac54e82a08063865ec988b6be0bc3
print(rank_sq)





import numpy as nmp
celcious_list = [10, 10.6, 11.1, 11.7, 12.2, 12.8, 13.3, 13.9, 14.4, 15, 15.6, 16.1, 16.7, 17.2, 17.8, 18.3, 18.9, 19.4, 20, 20.6, 21.1, 21.7, 22.2, 22.8, 23.3, 23.9, 24.4, 25, 25.6, 26.1, 26.7, 27.2, 27.8, 28.3, 28.9, 29.4, 30]

celc = nmp.array(celcious_list)

frnht = (celc*1.8) + 32

print(frnht)





















