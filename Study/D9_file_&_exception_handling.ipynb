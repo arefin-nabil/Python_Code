{
 "cells": [
  {
   "cell_type": "markdown",
   "id": "d677d33e",
   "metadata": {},
   "source": [
    "# Day 8 - File and exception handling"
   ]
  },
  {
   "cell_type": "markdown",
   "id": "b56c3b35",
   "metadata": {},
   "source": [
    "### File Read\n",
    "1. \"r\" - read - only read\n",
    "2. \"w\" - write - remove all and rewrite\n",
    "3. \"a\" - append - overwrite file and add new things\n",
    "4. \"r+\" - read + write - if file don't exist, return an error\n",
    "5. \"w+\" - write + read - if file exist, erase all and write\n",
    "6. \"a+\" - append + read - append at last\n",
    "7. \"x\" - Create - will create a file, returns an error if the file exists\n",
    "8. \"b\" - binary mode\n",
    "\n",
    "file = open(filename, mode, encoding)"
   ]
  },
  {
   "cell_type": "code",
   "execution_count": 28,
   "id": "195be1df",
   "metadata": {},
   "outputs": [
    {
     "name": "stdout",
     "output_type": "stream",
     "text": [
      "hi, this is sample text file\n",
      "we are testing file handling in python\n",
      "ok bro ?\n",
      "\n",
      "<class 'str'>\n",
      "False\n",
      "True\n"
     ]
    }
   ],
   "source": [
    "# direct open files\n",
    "\n",
    "file = open(\"D9-1_sample.txt\", \"r\")\n",
    "print(file.read())      # eikhane file open kore just hubhu read kora  hoyeche3\n",
    "print(type(file.read()))\n",
    "# but the file is still open,, it may cause of data leakage or data saving issue\n",
    "\n",
    "print(file.closed)\n",
    "\n",
    "file.close()        # ekhane file close korechi\n",
    "\n",
    "print(file.closed)"
   ]
  },
  {
   "cell_type": "code",
   "execution_count": 29,
   "id": "c19ea983",
   "metadata": {},
   "outputs": [
    {
     "name": "stdout",
     "output_type": "stream",
     "text": [
      "['hi, this is sample text file\\n', 'we are testing file handling in python\\n', 'ok bro ?\\n']\n"
     ]
    }
   ],
   "source": [
    "#insert file data in list\n",
    "\n",
    "file=open(\"D9-1_sample.txt\", \"r\")\n",
    "# file=open(\"./folder/D9-1_sample.txt\", \"r\")\n",
    "\n",
    "cntnt = file.readlines()\n",
    "\n",
    "print(cntnt)        # output is a list according to the newline\n",
    "file.close()        # closing file"
   ]
  },
  {
   "cell_type": "markdown",
   "id": "2d3a3e1a",
   "metadata": {},
   "source": [
    "### Best practice for file opening"
   ]
  },
  {
   "cell_type": "code",
   "execution_count": null,
   "id": "fb76c95a",
   "metadata": {},
   "outputs": [
    {
     "name": "stdout",
     "output_type": "stream",
     "text": [
      "['hi, this is sample text file\\n', 'we are testing file handling in python\\n', 'ok bro ?\\n']\n",
      "True\n"
     ]
    }
   ],
   "source": [
    "with open(\"D9-1_sample.txt\", \"r\") as f:\n",
    "    # print(file.read())\n",
    "    print(f.readlines())\n",
    "# with function diye file open krle eita automatic file close kore dey,, so eita secure and best practice\n",
    "print(f.closed)      "
   ]
  },
  {
   "cell_type": "markdown",
   "id": "96287937",
   "metadata": {},
   "source": [
    "### Write file"
   ]
  },
  {
   "cell_type": "code",
   "execution_count": 47,
   "id": "251e771d",
   "metadata": {},
   "outputs": [],
   "source": [
    "# create new file and write on it\n",
    "\n",
    "with open(\"D9-2_create_sample_file.txt\", \"w\") as x:      # \"w\"\n",
    "    x.write(\"Hi, this is test file.\\n\")\n",
    "    x.write(\"created by write function\")"
   ]
  },
  {
   "cell_type": "code",
   "execution_count": 19,
   "id": "ccc8804f",
   "metadata": {},
   "outputs": [],
   "source": [
    "# writing on existing file (Overwrite,, delete previous data and restore new data)\n",
    "\n",
    "with open(\"D9-2_create_sample_file.txt\", \"w\") as file:\n",
    "    file.write(\"Hello, testing overwrite.\\n\")\n",
    "    file.write(\"is it success full ?\\n\")"
   ]
  },
  {
   "cell_type": "code",
   "execution_count": null,
   "id": "c574b1b6",
   "metadata": {},
   "outputs": [],
   "source": [
    "# no overwriting, but add more text in file\n",
    "# append mode\n",
    "\n",
    "strings=[\"bro, hello\", \"how are you\", \"this is list\", \"of strings\"]\n",
    "\n",
    "with open(\"D9-2_create_sample_file.txt\", \"a\") as file:          # \"a\"\n",
    "    file.write(\"Appending new data here\\n\")\n",
    "    file.write(\"append success\\n\")\n",
    "    file.writelines(strings)"
   ]
  },
  {
   "cell_type": "markdown",
   "id": "c17c6e55",
   "metadata": {},
   "source": [
    "### Data cleaning"
   ]
  },
  {
   "cell_type": "code",
   "execution_count": 23,
   "id": "ec1e8660",
   "metadata": {},
   "outputs": [
    {
     "name": "stdout",
     "output_type": "stream",
     "text": [
      "['hi, this is sample text file', 'we are testing file handling in python', 'ok bro ?']\n"
     ]
    }
   ],
   "source": [
    "file = open(\"D9-1_sample.txt\", \"r\")\n",
    "\n",
    "content = file.readlines()\n",
    "\n",
    "content = list(map(str.strip, content))             # strip use kore \\n delete kora hoyeche\n",
    "\n",
    "filter_content = list(filter(lambda x: len(x) >= 1, content))       # filter use kore faka eletement remove kora hoyeche\n",
    "\n",
    "print(filter_content)"
   ]
  },
  {
   "cell_type": "markdown",
   "id": "2c0f38cb",
   "metadata": {},
   "source": [
    "### file pointer / cursor"
   ]
  },
  {
   "cell_type": "code",
   "execution_count": null,
   "id": "4c11f333",
   "metadata": {},
   "outputs": [
    {
     "name": "stdout",
     "output_type": "stream",
     "text": [
      "0\n",
      "hi, this is sample t\n",
      "20\n"
     ]
    }
   ],
   "source": [
    "with open(\"D9-1_sample.txt\", \"r\") as file:\n",
    "    print(file.tell())\n",
    "    # print(file.readlines())\n",
    "    print(file.read(20))        # 20 ghor porjonto read korse\n",
    "    print(file.tell())"
   ]
  },
  {
   "cell_type": "code",
   "execution_count": null,
   "id": "64eab29d",
   "metadata": {},
   "outputs": [
    {
     "name": "stdout",
     "output_type": "stream",
     "text": [
      "0\n",
      "20\n",
      "hi, this is sample text file\n",
      "we are testing file handling in python\n",
      "ok bro ?\n",
      "\n"
     ]
    }
   ],
   "source": [
    "# seek function\n",
    "with open(\"D9-1_sample.txt\", \"r\") as file:\n",
    "    print(file.tell())\n",
    "    # print(file.readlines())\n",
    "    file.seek(20)               # cursor ke 20 ghor agai dise\n",
    "    print(file.tell())          # current position,,,  ekhn abr read dile 20 er porer index theke read hobe\n",
    "    file.seek(0)                # eita cursos ke abr 0 te anse jate full read kora jay\n",
    "    print(file.read())"
   ]
  },
  {
   "cell_type": "markdown",
   "id": "e44eb53e",
   "metadata": {},
   "source": [
    "### Problem 1"
   ]
  },
  {
   "cell_type": "markdown",
   "id": "0ceba6e2",
   "metadata": {},
   "source": [
    "Get a text from sample.txt , and count the following\n",
    "1. Number of lines\n",
    "2. Number of words\n",
    "3. Number of characters\n",
    "4. and save it to the counter_of_string.txt file"
   ]
  },
  {
   "cell_type": "code",
   "execution_count": null,
   "id": "4c6ec149",
   "metadata": {},
   "outputs": [],
   "source": [
    "from functools import reduce\n",
    "\n",
    "with open(\"D9-1_sample.txt\", \"r\") as file:\n",
    "    str_lst = file.readlines()\n",
    "\n",
    "    # 1. total line koyta\n",
    "    total_lines = len(str_lst)\n",
    "\n",
    "    # 2. word ber krbo\n",
    "    no_of_words = list(map(lambda x: len(x.split()), str_lst))\n",
    "    # total words koyta\n",
    "    total_words = reduce(lambda x,y : x+y, no_of_words)\n",
    "\n",
    "    # 3. characters koyta\n",
    "    # cleaning process\n",
    "    \n",
    "    # new line delete\n",
    "    str_lst= list(map(str.strip, str_lst))\n",
    "\n",
    "    # space delete \n",
    "    str_lst = list(map(lambda x : x.replace(\" \", \"\"), str_lst))\n",
    "\n",
    "    # character ber krbo\n",
    "    no_of_char = list(map(lambda x : len(x), str_lst))\n",
    "\n",
    "    # total character koyta\n",
    "    total_char = reduce(lambda x,y : x+y, no_of_char)\n",
    "\n",
    "# file read and count done,, now we will write that in new file\n",
    "\n",
    "with open(\"D9-2_create_sample_file.txt\", \"a\") as file:\n",
    "    file.write(f\"Total Lines = {total_lines}\\nTotal Words = {total_words}\\nTotal Characters = {total_char}\\n\")\n"
   ]
  },
  {
   "cell_type": "markdown",
   "id": "bf8c0744",
   "metadata": {},
   "source": [
    "### Problem 2"
   ]
  },
  {
   "cell_type": "markdown",
   "id": "c1d30cff",
   "metadata": {},
   "source": [
    "Write then read with one open also delete any portion"
   ]
  },
  {
   "cell_type": "code",
   "execution_count": 46,
   "id": "4875117d",
   "metadata": {},
   "outputs": [
    {
     "name": "stdout",
     "output_type": "stream",
     "text": [
      "32\n",
      "Hello Python, this is Bangladesh\n",
      "Hello Python\n"
     ]
    }
   ],
   "source": [
    "with open(\"D9-1_sample.txt\", \"w+\") as file:\n",
    "    file.write(\"Hello Python, this is Bangladesh\")\n",
    "\n",
    "    print(file.tell())\n",
    "\n",
    "    file.seek(0)\n",
    "    print(file.read())\n",
    "\n",
    "    file.truncate(12)       # delete from 10th index\n",
    "\n",
    "    file.seek(0)\n",
    "    print(file.read())"
   ]
  },
  {
   "cell_type": "markdown",
   "id": "7b8bc1b9",
   "metadata": {},
   "source": [
    "### Exception handling\n",
    "here exception means runtime errors,, if we dont handle this properly, or program may collaps"
   ]
  },
  {
   "cell_type": "markdown",
   "id": "ea6161e6",
   "metadata": {},
   "source": [
    "Common Exceptions in File Handlin\n",
    "- FileNotFoundError\t    -> ফাইল না পাওয়া গেলে\n",
    "- PermissionError\t    -> ফাইলে পড়া/লেখার অনুমতি না থাকলে\n",
    "- IsADirectoryError\t    -> ফাইলের জায়গায় ডিরেক্টরি ব্যবহার করলে\n",
    "- UnicodeDecodeError\t-> ভুল encoding ব্যবহার করলে\n",
    "- Exception -> for all error it works\n",
    "- for more -> https://www.w3schools.com/python/python_ref_exceptions.asp"
   ]
  },
  {
   "cell_type": "code",
   "execution_count": 48,
   "id": "dbd2981c",
   "metadata": {},
   "outputs": [
    {
     "name": "stdout",
     "output_type": "stream",
     "text": [
      "[Errno 2] No such file or directory: './sample_data/data1.txt'\n",
      "Gpu is stopped\n"
     ]
    }
   ],
   "source": [
    "try:\n",
    "    file = open(\"./sample_data/data1.txt\", \"r\")     # possible exception\n",
    "except Exception as e:                              # if error found\n",
    "    print(e)\n",
    "else:                                               # if no error found\n",
    "    # model train\n",
    "    print(file.read())\n",
    "finally:                                            # will print always\n",
    "    print(\"Gpu is stopped\")"
   ]
  },
  {
   "cell_type": "code",
   "execution_count": 49,
   "id": "32101561",
   "metadata": {},
   "outputs": [
    {
     "name": "stdout",
     "output_type": "stream",
     "text": [
      "File not found!\n",
      "Program ended.\n"
     ]
    }
   ],
   "source": [
    "try:\n",
    "    filename = input(\"Enter file name: \")\n",
    "    if not filename:\n",
    "        raise ValueError(\"Filename cannot be empty!\")       # to create error message by own\n",
    "\n",
    "    with open(filename, \"r\", encoding=\"utf-8\") as f:\n",
    "        print(f.read())\n",
    "\n",
    "except FileNotFoundError:\n",
    "    print(\"File not found!\")\n",
    "except ValueError as e:\n",
    "    print(e)\n",
    "finally:\n",
    "    print(\"Program ended.\")"
   ]
  },
  {
   "cell_type": "markdown",
   "id": "319f7609",
   "metadata": {},
   "source": [
    "Practice Problem - 1\n",
    "\n",
    "Create a text file named emails.txt containing multiple email addresses, some in uppercase and some repeated.     \n",
    "Write a Python program to clean the data by converting all emails to lowercase, removing duplicates, sorting them alphabetically, and saving the cleaned list to a new file named unique_emails.txt."
   ]
  },
  {
   "cell_type": "code",
   "execution_count": null,
   "id": "f8cb56ce",
   "metadata": {},
   "outputs": [],
   "source": []
  },
  {
   "cell_type": "markdown",
   "id": "9ab6deb3",
   "metadata": {},
   "source": [
    "practice Problem - 2\n",
    "\n",
    "Create a text file named names.txt containing a list of names.   \n",
    "Some names may have extra spaces, inconsistent capitalization (like “aLiCe” or “ bob ”), or appear more than once.<br>\n",
    "Write a Python program to clean the data by:\n",
    "1.  Removing extra spaces.\n",
    "2.  Converting all names so that only the first letter is capitalized.\n",
    "3.  Removing duplicate names. \n",
    "4.  Sorting the names alphabetically.<br>\n",
    "Finally, save the cleaned list into a new file named clean_names.txt.\n"
   ]
  },
  {
   "cell_type": "code",
   "execution_count": null,
   "id": "62f9f26c",
   "metadata": {},
   "outputs": [],
   "source": []
  },
  {
   "cell_type": "markdown",
   "id": "0e3904d5",
   "metadata": {},
   "source": [
    "Practice Problem - 3\n",
    "\n",
    "Write a Python program that creates a list of 5 numbers.   \n",
    "Ask the user for an index number and print the value at that index.   \n",
    "If the index is out of range, handle the exception and print \"Invalid index!\".\n"
   ]
  },
  {
   "cell_type": "code",
   "execution_count": null,
   "id": "8f82344e",
   "metadata": {},
   "outputs": [],
   "source": []
  }
 ],
 "metadata": {
  "kernelspec": {
   "display_name": "Python 3",
   "language": "python",
   "name": "python3"
  },
  "language_info": {
   "codemirror_mode": {
    "name": "ipython",
    "version": 3
   },
   "file_extension": ".py",
   "mimetype": "text/x-python",
   "name": "python",
   "nbconvert_exporter": "python",
   "pygments_lexer": "ipython3",
   "version": "3.13.7"
  }
 },
 "nbformat": 4,
 "nbformat_minor": 5
}
