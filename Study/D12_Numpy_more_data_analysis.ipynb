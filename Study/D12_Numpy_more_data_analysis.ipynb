{
 "cells": [
  {
   "cell_type": "markdown",
   "id": "d9620bd4",
   "metadata": {},
   "source": [
    "# Day 11 - Numpy for more Data Analysis "
   ]
  },
  {
   "cell_type": "markdown",
   "id": "9446613f",
   "metadata": {},
   "source": [
    "### Numpy array manipulation"
   ]
  },
  {
   "cell_type": "code",
   "execution_count": 6,
   "id": "8b9dc2f2",
   "metadata": {},
   "outputs": [
    {
     "name": "stdout",
     "output_type": "stream",
     "text": [
      "[[24 32 50 25 92]\n",
      " [55  1 92 51  3]\n",
      " [ 6 51 39 45 86]\n",
      " [ 7  6  5  5 81]\n",
      " [72 41  3 51 23]\n",
      " [67 69 35  3 47]\n",
      " [92 86 55 37 31]\n",
      " [39 43  8 92  7]\n",
      " [ 5 49 39 66 94]\n",
      " [29 47 18 72 22]]\n"
     ]
    }
   ],
   "source": [
    "import numpy as np\n",
    "\n",
    "# array reshape\n",
    "# ধরি আমাদের 10X5=50 টি ডাটা দেওয়া আছে। এটাকে আমরা চাইলে 5X10=50 বা 25X2=50 এভাবে reshape করতে পারি। অর্থাৎ ৫০ ডাটা ঠিক রেখে যেভাবে ইচ্ছা সেভাবে reshape করতে পারি।\n",
    "arr = np.random.randint(1, 100, size = (10, 5))         # Sample 10,, feature 5,, 2D array\n",
    "print(arr)"
   ]
  },
  {
   "cell_type": "code",
   "execution_count": 7,
   "id": "4b254d62",
   "metadata": {},
   "outputs": [
    {
     "name": "stdout",
     "output_type": "stream",
     "text": [
      "[[24 32 50 25 92 55  1 92 51  3]\n",
      " [ 6 51 39 45 86  7  6  5  5 81]\n",
      " [72 41  3 51 23 67 69 35  3 47]\n",
      " [92 86 55 37 31 39 43  8 92  7]\n",
      " [ 5 49 39 66 94 29 47 18 72 22]]\n"
     ]
    }
   ],
   "source": [
    "arr2 = arr.reshape(5, 10)                               # sample 5,, feature 10,, 2D array\n",
    "print(arr2)"
   ]
  },
  {
   "cell_type": "code",
   "execution_count": 8,
   "id": "467755ec",
   "metadata": {},
   "outputs": [
    {
     "name": "stdout",
     "output_type": "stream",
     "text": [
      "[24 32 50 25 92 55  1 92 51  3  6 51 39 45 86  7  6  5  5 81 72 41  3 51\n",
      " 23 67 69 35  3 47 92 86 55 37 31 39 43  8 92  7  5 49 39 66 94 29 47 18\n",
      " 72 22]\n"
     ]
    }
   ],
   "source": [
    "arr3 = arr2.flatten()                                    # sample 1,, feature 50,, 1D array\n",
    "arr3 = np.ravel(arr2, order=\"C\")                         # row-major (C-style) order,, দুইটা সেইম কাজ করে\n",
    "print(arr3)\n",
    "\n",
    "# এখানে ডাটাকে row wise reshape করা হয় ,, অর্থাৎ ১ম row এর শেষ element '21'এর-পর ২য় row এর প্রথম element '94' এসেছে।"
   ]
  },
  {
   "cell_type": "code",
   "execution_count": 9,
   "id": "d608c599",
   "metadata": {},
   "outputs": [
    {
     "name": "stdout",
     "output_type": "stream",
     "text": [
      "[24  6 72 92  5 32 51 41 86 49 50 39  3 55 39 25 45 51 37 66 92 86 23 31\n",
      " 94 55  7 67 39 29  1  6 69 43 47 92  5 35  8 18 51  5  3 92 72  3 81 47\n",
      "  7 22]\n"
     ]
    }
   ],
   "source": [
    "arr4 = np.ravel(arr2, order=\"F\")                        # F means (Fortran-style) order\n",
    "print(arr4)\n",
    "\n",
    "# এখানে ডাটাকে column wise reshape করা হয় ,, অর্থাৎ ১ম column এর শেষ element '68'এর-পর ২য় column এর প্রথম element '47' এসেছে।"
   ]
  },
  {
   "cell_type": "markdown",
   "id": "04eaca76",
   "metadata": {},
   "source": [
    "### array concatenation\n",
    "দুইটা ndarray জয়েন/একত্র করার মাধ্যম"
   ]
  },
  {
   "cell_type": "code",
   "execution_count": 10,
   "id": "cdb3271d",
   "metadata": {},
   "outputs": [],
   "source": [
    "a = np.random.randint(1, 10, (2, 3))\n",
    "b = np.random.randint(11, 20, (2, 3))\n",
    "\n",
    "# concatenate এর শর্ত,,\n",
    "# Row wise concatenate করার সময় ২ array এর column size সেইম হতে হবে।\n",
    "# Column wise concatenate করার সময় ২ array এর row size সেইম হতে হবে।"
   ]
  },
  {
   "cell_type": "code",
   "execution_count": 11,
   "id": "f5398e96",
   "metadata": {},
   "outputs": [
    {
     "name": "stdout",
     "output_type": "stream",
     "text": [
      "[[ 4  6  7]\n",
      " [ 1  4  2]\n",
      " [12 13 13]\n",
      " [19 17 15]]\n",
      "[[ 4  6  7 12 13 13]\n",
      " [ 1  4  2 19 17 15]]\n"
     ]
    }
   ],
   "source": [
    "con_row = np.concatenate((a, b), axis=0)            # row wise concatenate,, will add row bellow\n",
    "con_col = np.concatenate((a, b), axis=1)            # column wise concatenate,, will add column beside\n",
    "\n",
    "print(con_row)\n",
    "print(con_col)"
   ]
  },
  {
   "cell_type": "markdown",
   "id": "6f8c898f",
   "metadata": {},
   "source": [
    "### Transpose\n",
    "convert row into column"
   ]
  },
  {
   "cell_type": "code",
   "execution_count": 12,
   "id": "ccebd61b",
   "metadata": {},
   "outputs": [
    {
     "name": "stdout",
     "output_type": "stream",
     "text": [
      "[[12 19]\n",
      " [13 17]\n",
      " [13 15]]\n"
     ]
    }
   ],
   "source": [
    "transpose = b.T\n",
    "print(transpose)"
   ]
  },
  {
   "cell_type": "code",
   "execution_count": 13,
   "id": "639aa9a6",
   "metadata": {},
   "outputs": [
    {
     "name": "stdout",
     "output_type": "stream",
     "text": [
      "[3 9 9 4 5 9 8 6 1 8]\n",
      "[array([3, 9, 9, 4], dtype=int32), array([5, 9, 8], dtype=int32), array([6, 1, 8], dtype=int32)]\n",
      "[7 7 9 3 1 5 1 3 6]\n",
      "[array([7, 7, 9], dtype=int32), array([3, 1, 5], dtype=int32), array([1, 3, 6], dtype=int32)]\n"
     ]
    }
   ],
   "source": [
    "# array split -> যেভাবে ইচ্ছা সেভাবে\n",
    "\n",
    "a = np.random.randint(1, 10, size=(10,))\n",
    "print(a)\n",
    "splitted_array = np.array_split(a, 3)\n",
    "print(splitted_array)\n",
    "\n",
    "# split -> equal division\n",
    "b = np.random.randint(1, 10, size=(9,))\n",
    "print(b)\n",
    "eq_splitted_array = np.split(b, 3)\n",
    "print(eq_splitted_array)"
   ]
  },
  {
   "cell_type": "markdown",
   "id": "ae9cc0fb",
   "metadata": {},
   "source": [
    "### arithmetic operator and mathematical functions\n",
    "https://numpy.org/doc/stable/reference/routines.math.html"
   ]
  },
  {
   "cell_type": "code",
   "execution_count": 14,
   "id": "bee349bc",
   "metadata": {},
   "outputs": [
    {
     "name": "stdout",
     "output_type": "stream",
     "text": [
      "[ 70  90 110 130 150]\n",
      "[50 50 50 50 50]\n",
      "[ 600 1400 2400 3600 5000]\n",
      "[6.         3.5        2.66666667 2.25       2.        ]\n",
      "[ 0 10 20 10  0]\n",
      "[ 100  400  900 1600 2500]\n",
      "150\n",
      "[ 10  30  60 100 150]\n"
     ]
    }
   ],
   "source": [
    "x = np.array([10, 20, 30, 40, 50])\n",
    "y = np.array([60, 70, 80, 90, 100])\n",
    "\n",
    "# add = x+y\n",
    "add = np.add(x,y)\n",
    "print(add)\n",
    "\n",
    "# sub = y-x\n",
    "sub = np.subtract(y,x)\n",
    "print(sub)\n",
    "\n",
    "# mul = x*y\n",
    "mul = np.multiply(x,y)\n",
    "print(mul)\n",
    "\n",
    "# div = y/x\n",
    "div = np.divide(y,x)\n",
    "print(div)\n",
    "\n",
    "# mod = y%x\n",
    "mod = np.mod(y,x)\n",
    "print(mod)\n",
    "\n",
    "# pw = x**2\n",
    "pw = np.power(x, 2)\n",
    "print(pw)\n",
    "\n",
    "# sum of all value in x\n",
    "sm = np.sum(x)\n",
    "print(sm)\n",
    "\n",
    "# cumulative sum\n",
    "cuml_sm = np.cumulative_sum(x)\n",
    "print(cuml_sm)"
   ]
  },
  {
   "cell_type": "markdown",
   "id": "383aca0c",
   "metadata": {},
   "source": [
    "### trigonometry"
   ]
  },
  {
   "cell_type": "code",
   "execution_count": 15,
   "id": "5f73f90b",
   "metadata": {},
   "outputs": [
    {
     "name": "stdout",
     "output_type": "stream",
     "text": [
      "-0.5440211108893698\n",
      "[ 0.         -0.98803162  0.85090352 -0.30481062  0.89399666]\n",
      "[ 1.          0.15425145  0.52532199 -0.95241298 -0.44807362]\n",
      "[ 0.         -6.4053312   1.61977519  0.32004039 -1.99520041]\n",
      "[   0.         1718.87338539 2578.31007809 3437.74677078 5156.62015618]\n"
     ]
    }
   ],
   "source": [
    "# sin, cos, tan takes value in radian\n",
    "sin_val = np.sin(10)\n",
    "print(sin_val)\n",
    "\n",
    "x = np.array([0, 30, 45, 60, 90, ])          # eikhane value guli radian e ache\n",
    "\n",
    "sin_arr = np.sin(x)                          # x array er shb elemnt er sin value\n",
    "print(sin_arr)\n",
    "# np.arcsin()\n",
    "\n",
    "cos_val = np.cos(x)\n",
    "print(cos_val)\n",
    "# np.arccos\n",
    "\n",
    "tan_val = np.tan(x)\n",
    "print(tan_val)\n",
    "# np.arctan\n",
    "\n",
    "\n",
    "# lets convert radian value to degree\n",
    "\n",
    "deg_conv = np.rad2deg(x)\n",
    "print(deg_conv)\n",
    "\n",
    "# to get degree to radian value,, we have to use deg2rad()"
   ]
  },
  {
   "cell_type": "markdown",
   "id": "8e6b3677",
   "metadata": {},
   "source": [
    "### logarithms"
   ]
  },
  {
   "cell_type": "code",
   "execution_count": 16,
   "id": "d89e432c",
   "metadata": {},
   "outputs": [
    {
     "name": "stdout",
     "output_type": "stream",
     "text": [
      "[1.         0.90308999 1.20411998 2.        ]\n",
      "[3.32192809 3.         4.         6.64385619]\n",
      "[ 3.16227766  2.82842712  4.         10.        ]\n"
     ]
    }
   ],
   "source": [
    "x = np.array([10, 8, 16, 100])\n",
    "base_10_log = np.log10(x)\n",
    "print(base_10_log)              # বাংলায় বললে,, log10(x) মানে x এর value কে 10 দিয়ে কত বার ভাগ করা যায় সেটাই আউটপুট দেয়\n",
    "\n",
    "\n",
    "base_2_log = np.log2(x)\n",
    "print(base_2_log)               # বাংলায় বললে,, log2(x) মানে x এর value কে 2 দিয়ে কত বার ভাগ করা যায় সেটাই আউটপুট দেয়\n",
    "\n",
    "\n",
    "sqrt = np.sqrt(x)\n",
    "print(sqrt)"
   ]
  },
  {
   "cell_type": "markdown",
   "id": "869b53cb",
   "metadata": {},
   "source": [
    "### Numpy Broad Casting\n",
    "\n",
    "Broadcasting numpy এর এমন একটা প্রসেস বা টাস্ক যেখানে সে অটোমেটিক, scelar data কে strech করে array এর সাথে calculation করে   \n"
   ]
  },
  {
   "cell_type": "code",
   "execution_count": 17,
   "id": "3c6d441b",
   "metadata": {},
   "outputs": [
    {
     "name": "stdout",
     "output_type": "stream",
     "text": [
      "[12 22 32 42 52]\n",
      "[[11 22 33]\n",
      " [31 42 53]]\n"
     ]
    }
   ],
   "source": [
    "x = np.array([10, 20, 30, 40, 50])\n",
    "print(x+2)\n",
    "\n",
    "# এখানে x = 10, 20, 30, 40, 50 ,, আমরা যখন x+2 লিখছি তখন এটা ভেতরে ভেতরে 2, 2, 2, 2, 2 এর একটা array এর মতো তৈরী করে এবং 10+2, 20+2, 30+2, 40+2, 50+2 করে আউটপুট দেয়,, this is broadcasting\n",
    "\n",
    "\n",
    "# rulings = columns er size and vector er size same hote hobe\n",
    "\n",
    "matrix = np.array([[10, 20, 30], [30, 40, 50]])\n",
    "vector = np.array([1, 2, 3])\n",
    "result = matrix + vector\n",
    "print(result)"
   ]
  },
  {
   "cell_type": "markdown",
   "id": "5fda77d9",
   "metadata": {},
   "source": [
    "### Logical functions"
   ]
  },
  {
   "cell_type": "code",
   "execution_count": 18,
   "id": "640c766b",
   "metadata": {},
   "outputs": [
    {
     "name": "stdout",
     "output_type": "stream",
     "text": [
      "[ True  True False  True]\n",
      "[False False  True False]\n",
      "False\n",
      "True\n"
     ]
    }
   ],
   "source": [
    "# comparison - >,< , >= ,<= , == , !=\n",
    "\n",
    "x = np.array([10, 8, 16, 100])\n",
    "y = np.array([2, 3, 16, 5])\n",
    "\n",
    "greater_than = x > y\n",
    "print(greater_than)\n",
    "\n",
    "equal = x == y\n",
    "print(equal)\n",
    "\n",
    "# all () -> shob true kina\n",
    "# any() -> jekono ekta true ase kina\n",
    "\n",
    "print(np.all(greater_than))\n",
    "\n",
    "print(np.any(equal))"
   ]
  },
  {
   "cell_type": "markdown",
   "id": "791f8aff",
   "metadata": {},
   "source": [
    "### sorting"
   ]
  },
  {
   "cell_type": "code",
   "execution_count": 19,
   "id": "01aca57a",
   "metadata": {},
   "outputs": [],
   "source": [
    "x = np.random.randint(1, 20, (1, 5))"
   ]
  },
  {
   "cell_type": "code",
   "execution_count": 20,
   "id": "55b2ec65",
   "metadata": {},
   "outputs": [
    {
     "name": "stdout",
     "output_type": "stream",
     "text": [
      "[[10 14  1 12 16]]\n",
      "[[ 1 10 12 14 16]]\n",
      "[[10 14  1 12 16]]\n",
      "[[ 1 10 12 14 16]]\n",
      "[[10 14  1 12 16]]\n",
      "[[ 3  5 10]\n",
      " [ 4  8  9]]\n",
      "[[ 8  3  5]\n",
      " [10  4  9]]\n"
     ]
    }
   ],
   "source": [
    "# inplace       এখানে সর্ট করার পরে array elements এর index/প্লেস ই চেঞ্জ হয়ে যায়,, ফলে আগের array আর ফেরত পাওয়া যায় না\n",
    "z = x.copy()\n",
    "print(z)\n",
    "z.sort()\n",
    "print(z)\n",
    "\n",
    "\n",
    "# copy sorting      এখানে সর্ট করার পরেও আগের array অক্ষত থাকে\n",
    "print(x)\n",
    "sort_arr = np.sort(x)\n",
    "print(sort_arr)\n",
    "print(x)\n",
    "\n",
    "\n",
    "# 2d array sorting\n",
    "mat = np.array([[10, 3, 5], [8, 4, 9]])\n",
    "\n",
    "# horizon axis = 1\n",
    "\n",
    "hor_sort = np.sort(mat, axis=1)\n",
    "print(hor_sort)\n",
    "\n",
    "# vertical axis = 0\n",
    "vert_sort = np.sort(mat, axis=0)\n",
    "print(vert_sort)"
   ]
  },
  {
   "cell_type": "markdown",
   "id": "1427fc3e",
   "metadata": {},
   "source": [
    "### searching\n",
    "array te kono value ache kina, thakle kon index e ache,, koyta ache,, etc ber kore"
   ]
  },
  {
   "cell_type": "code",
   "execution_count": 21,
   "id": "c91c8b7b",
   "metadata": {},
   "outputs": [
    {
     "name": "stdout",
     "output_type": "stream",
     "text": [
      "(array([2]),)\n",
      "[ 0  9  0 13  0 25]\n",
      "(array([0, 1]), array([0, 2]))\n",
      "[[10  0  0]\n",
      " [ 0  0  9]]\n",
      "1\n",
      "2\n"
     ]
    }
   ],
   "source": [
    "x = np.array([5, 9, 8, 13, 2, 25])\n",
    "\n",
    "index = np.where(x == 8)               # returns index\n",
    "print(index)\n",
    "\n",
    "# np.where( condition , x , y ) if true keep x , otherwise replace with y\n",
    "arr = np.where(x > 8, x, 0)            # returns array\n",
    "print(arr)\n",
    "\n",
    "index = np.where(mat > 8)              # returns index\n",
    "print(index)\n",
    "\n",
    "arr = np.where(mat > 8, mat, 0)        # returns array\n",
    "print(arr)\n",
    "\n",
    "x = np.array([10, 100, 8, 16, 100])\n",
    "\n",
    "maximum_value_indx = np.argmax(x)\n",
    "minimum_value_indx = np.argmin(x)\n",
    "\n",
    "print(maximum_value_indx)\n",
    "print(minimum_value_indx)"
   ]
  },
  {
   "cell_type": "markdown",
   "id": "f70bdaa6",
   "metadata": {},
   "source": [
    "### counting in ndarray and unique values"
   ]
  },
  {
   "cell_type": "code",
   "execution_count": 22,
   "id": "b7729a74",
   "metadata": {},
   "outputs": [
    {
     "name": "stdout",
     "output_type": "stream",
     "text": [
      "[70 39 47 83  5 60 76 93 22 80 74  3 71 98  5 20 34 33  8 66 75 96 10 83\n",
      " 27 54 40 79 26 60 56 25 58 96 98 74 23 31 80 26 52 68 29 76 90 54 73 72\n",
      " 26 57 40 12 13 57 80 72 37 59  4 91 68  5 74 57 76 68 16  7 45 96 94 34\n",
      " 98 62 71 74 93 86 92 84 87 25 18 52 81 94 96 51 41 13 87 77 10 78 89 21\n",
      " 35 36 53  9]\n"
     ]
    }
   ],
   "source": [
    "a = np.random.randint(1, 100, size=(100,))\n",
    "print(a)"
   ]
  },
  {
   "cell_type": "code",
   "execution_count": 23,
   "id": "d24d33cc",
   "metadata": {},
   "outputs": [
    {
     "name": "stdout",
     "output_type": "stream",
     "text": [
      "47\n",
      "51\n",
      "2\n",
      "98\n",
      "[ 3  4  5  7  8  9 10 12 13 16 18 20 21 22 23 25 26 27 29 31 33 34 35 36\n",
      " 37 39 40 41 45 47 51 52 53 54 56 57 58 59 60 62 66 68 70 71 72 73 74 75\n",
      " 76 77 78 79 80 81 83 84 86 87 89 90 91 92 93 94 96 98]\n",
      "[1 1 3 1 1 1 2 1 2 1 1 1 1 1 1 2 3 1 1 1 1 2 1 1 1 1 2 1 1 1 1 2 1 2 1 3 1\n",
      " 1 2 1 1 3 1 2 2 1 4 1 3 1 1 1 3 1 2 1 1 2 1 1 1 1 2 2 4 3]\n"
     ]
    }
   ],
   "source": [
    "value_great_than_60 = np.count_nonzero(a > 60)\n",
    "value_less_than_60 = np.count_nonzero(a < 60)\n",
    "value_equal_60 = np.count_nonzero(a == 60)\n",
    "value_not_equal_60 = np.count_nonzero(a != 60)\n",
    "print(value_great_than_60)\n",
    "print(value_less_than_60)\n",
    "print(value_equal_60)\n",
    "print(value_not_equal_60)\n",
    "\n",
    "\n",
    "# find only unique values from the array\n",
    "unique_value= np.unique(a)\n",
    "\n",
    "# find unique values with counting their repetition number from the array\n",
    "unique_value, count = np.unique(a, return_counts=True)\n",
    "\n",
    "print(unique_value)\n",
    "print(count)"
   ]
  },
  {
   "cell_type": "markdown",
   "id": "406bbbb8",
   "metadata": {},
   "source": [
    "### statistical function"
   ]
  },
  {
   "cell_type": "code",
   "execution_count": null,
   "id": "8cbac609",
   "metadata": {},
   "outputs": [
    {
     "name": "stdout",
     "output_type": "stream",
     "text": [
      "[[78. 85. 82.]\n",
      " [56. 67. 72.]\n",
      " [89. 92. 88.]\n",
      " [45. 52. 58.]\n",
      " [70. 75. 80.]\n",
      " [92. 90. 91.]\n",
      " [61. 60. 62.]\n",
      " [55. 57. 54.]\n",
      " [88. 89. 87.]\n",
      " [74. 70. 76.]\n",
      " [66. 69. 68.]\n",
      " [80. 82. 81.]\n",
      " [59. 64. 60.]\n",
      " [73. 78. 74.]\n",
      " [91. 93. 90.]\n",
      " [68. 71. 69.]\n",
      " [77. 79. 78.]\n",
      " [84. 86. 85.]\n",
      " [62. 63. 65.]\n",
      " [95. 97. 96.]]\n"
     ]
    }
   ],
   "source": [
    "# data load\n",
    "\n",
    "data = np.genfromtxt(\"D12-1_student_scores.csv\", delimiter=\",\", skip_header=1)\n",
    "\n",
    "print(data)"
   ]
  },
  {
   "cell_type": "code",
   "execution_count": 25,
   "id": "05c4c5ec",
   "metadata": {},
   "outputs": [
    {
     "name": "stdout",
     "output_type": "stream",
     "text": [
      "[[78. 56. 89. 45. 70. 92. 61. 55. 88. 74. 66. 80. 59. 73. 91. 68. 77. 84.\n",
      "  62. 95.]]\n",
      "95.0\n",
      "45.0\n",
      "73.15\n",
      "73.5\n",
      "13.788672887555204\n"
     ]
    }
   ],
   "source": [
    "# statistics\n",
    "math_marks = data[::, :1]                       # eikhane math marks er column ke alada kora hoyeche\n",
    "\n",
    "print(math_marks.T)                             # output ekta lomba column,, ty transpose kore row banano hoyeche\n",
    "\n",
    "max_math_marks = np.max(math_marks)             # max marks ber kora hocche\n",
    "print(max_math_marks)\n",
    "\n",
    "min_math_marks = np.min(math_marks)             # min\n",
    "print(min_math_marks)\n",
    "\n",
    "average_math_marks = np.mean(math_marks)        # average\n",
    "print(average_math_marks)\n",
    "\n",
    "median_math_marks = np.median(math_marks)       # median\n",
    "print(median_math_marks)\n",
    "\n",
    "std_math_marks = np.std(math_marks)             # standard deviation\n",
    "print(std_math_marks)"
   ]
  },
  {
   "cell_type": "markdown",
   "id": "3eed6804",
   "metadata": {},
   "source": [
    "### linear algebra"
   ]
  },
  {
   "cell_type": "code",
   "execution_count": 31,
   "id": "52d4ea1e",
   "metadata": {},
   "outputs": [
    {
     "name": "stdout",
     "output_type": "stream",
     "text": [
      "[[ 58  64]\n",
      " [139 154]]\n",
      "17\n"
     ]
    }
   ],
   "source": [
    "A = np.array([[1, 2, 3], [4, 5, 6]])\n",
    "\n",
    "B = np.array([[7, 8], [9, 10], [11, 12]])\n",
    "\n",
    "# a er column and b er row same length hote hobe\n",
    "dot_product = np.dot(A, B)\n",
    "print(dot_product)\n",
    "\n",
    "\n",
    "# trace\n",
    "print(np.trace(B))\n"
   ]
  },
  {
   "cell_type": "code",
   "execution_count": 34,
   "id": "346c61d3",
   "metadata": {},
   "outputs": [
    {
     "name": "stdout",
     "output_type": "stream",
     "text": [
      "1158.0000000000005\n",
      "3\n"
     ]
    }
   ],
   "source": [
    "sq_mat = np.array([[1, 20, 3], \n",
    "                   [4, 5, 6], \n",
    "                   [17, 8, 9]])\n",
    "\n",
    "det_of_sq = np.linalg.det(sq_mat)\n",
    "\n",
    "rank_sq = np.linalg.matrix_rank(sq_mat)\n",
    "\n",
    "print(det_of_sq)\n",
    "## https://www.notion.so/Numpy-Array-Matrix-Example-293ac54e82a08063865ec988b6be0bc3\n",
    "print(rank_sq)"
   ]
  }
 ],
 "metadata": {
  "kernelspec": {
   "display_name": "Python 3",
   "language": "python",
   "name": "python3"
  },
  "language_info": {
   "codemirror_mode": {
    "name": "ipython",
    "version": 3
   },
   "file_extension": ".py",
   "mimetype": "text/x-python",
   "name": "python",
   "nbconvert_exporter": "python",
   "pygments_lexer": "ipython3",
   "version": "3.13.7"
  }
 },
 "nbformat": 4,
 "nbformat_minor": 5
}
