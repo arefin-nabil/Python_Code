{
 "cells": [
  {
   "cell_type": "markdown",
   "id": "cedf3f1f",
   "metadata": {},
   "source": [
    "# Day 6 -  Tuple, Tuple Access, Immutability, tuple method ; SET, Empty structures, Unordered, mathematical methods"
   ]
  },
  {
   "cell_type": "markdown",
   "id": "b30cca0d",
   "metadata": {},
   "source": [
    "- Tuple is immutable,, that means it cannot be changed. once a tuple is declared it lasts forever\n",
    "- Tuple is written by 1st bracket with commas between items"
   ]
  },
  {
   "cell_type": "markdown",
   "id": "f2953c52",
   "metadata": {},
   "source": [
    "### Tuple declaration"
   ]
  },
  {
   "cell_type": "code",
   "execution_count": 1,
   "id": "007ae804",
   "metadata": {},
   "outputs": [
    {
     "name": "stdout",
     "output_type": "stream",
     "text": [
      "<class 'tuple'> (10, 20, 5.897, 'this is string', 'text', 'A', 'answer', True)\n"
     ]
    }
   ],
   "source": [
    "tup = (10, 20, 5.897, \"this is string\", \"text\", \"A\", \"answer\", True,)       # declare tuple using 1st bracket\n",
    "print(type(tup), tup)"
   ]
  },
  {
   "cell_type": "markdown",
   "id": "81f845cf",
   "metadata": {},
   "source": [
    "declaring single item tuple\n"
   ]
  },
  {
   "cell_type": "code",
   "execution_count": 3,
   "id": "06e4bb72",
   "metadata": {},
   "outputs": [
    {
     "name": "stdout",
     "output_type": "stream",
     "text": [
      "<class 'int'>\n",
      "<class 'tuple'>\n"
     ]
    }
   ],
   "source": [
    "tup2 = (10)\n",
    "print(type(tup2))  # output : <class 'int'>\n",
    "\n",
    "# here the datatype is int though its a tuple, to avoid this......... \n",
    "\n",
    "tup2 = (10,)\n",
    "print(type(tup))  # output : <class 'tuple'>"
   ]
  },
  {
   "cell_type": "markdown",
   "id": "c71baba8",
   "metadata": {},
   "source": [
    "### Tuple  Typecasting"
   ]
  },
  {
   "cell_type": "markdown",
   "id": "e42c85fd",
   "metadata": {},
   "source": [
    "converting list into tuple"
   ]
  },
  {
   "cell_type": "code",
   "execution_count": 1,
   "id": "b60ffe1a",
   "metadata": {},
   "outputs": [
    {
     "name": "stdout",
     "output_type": "stream",
     "text": [
      "<class 'list'>\n",
      "<class 'tuple'>\n",
      "<class 'list'>\n"
     ]
    }
   ],
   "source": [
    "lst = [10, 20, 30, \"hi\", False]\n",
    "print(type(lst))  # <class 'list'>\n",
    "\n",
    "tpl = tuple(lst)\n",
    "print(type(tpl))  # <class 'tuple'>\n",
    "\n",
    "lst2 = list(tpl)\n",
    "print(type(lst2))"
   ]
  },
  {
   "cell_type": "markdown",
   "id": "3fe75ae1",
   "metadata": {},
   "source": [
    "### Tuple Access"
   ]
  },
  {
   "cell_type": "code",
   "execution_count": 9,
   "id": "a96a24b8",
   "metadata": {},
   "outputs": [
    {
     "name": "stdout",
     "output_type": "stream",
     "text": [
      "10.5\n",
      "(10, 20, 30)\n",
      "(30, 10.5, 'str')\n",
      "(10, 30, 'str')\n"
     ]
    }
   ],
   "source": [
    "tup = (10, 20, 30, 10.5, \"str\", False)\n",
    "# idx   0   1   2    3     4      5\n",
    "\n",
    "# print by index\n",
    "print(tup[3])\n",
    "\n",
    "# slicing tuple\n",
    "\n",
    "new_tup = tup[0:3]          # 0 index theke 2 porjonto,, that means jeita destination dewa thakbe err aag porjonto print hbe\n",
    "print(new_tup)\n",
    "\n",
    "\n",
    "new_tup = tup[2:5]          # 2nd index theke 4 ,, last index pete hole [2:6] deite hoto\n",
    "print(new_tup)\n",
    "\n",
    "\n",
    "# step slicing\n",
    "\n",
    "new_tup = tup[0:6:2]        # eikhane 2 step kore agaise slice korar jonno\n",
    "print(new_tup)"
   ]
  },
  {
   "cell_type": "markdown",
   "id": "31916ff0",
   "metadata": {},
   "source": [
    "### Immutability of tuple"
   ]
  },
  {
   "cell_type": "markdown",
   "id": "b485082d",
   "metadata": {},
   "source": [
    "- mutable means data can be added or changed any time from any position\n",
    "- immutable means there is no chance top change data after decalration"
   ]
  },
  {
   "cell_type": "markdown",
   "id": "17ac0ec3",
   "metadata": {},
   "source": [
    "mutable example -- (list)"
   ]
  },
  {
   "cell_type": "code",
   "execution_count": null,
   "id": "392b2bf1",
   "metadata": {},
   "outputs": [],
   "source": [
    "lst = [10, 20, 30, 40]      # declared\n",
    "lst.append(60)              # added value to the list\n",
    "lst[1] = 100                # changing 1st index value\n",
    "print(lst)"
   ]
  },
  {
   "cell_type": "markdown",
   "id": "4a008a04",
   "metadata": {},
   "source": [
    "immutable example --- (tuple)"
   ]
  },
  {
   "cell_type": "code",
   "execution_count": 10,
   "id": "9f50525c",
   "metadata": {},
   "outputs": [
    {
     "ename": "AttributeError",
     "evalue": "'tuple' object has no attribute 'append'",
     "output_type": "error",
     "traceback": [
      "\u001b[31m---------------------------------------------------------------------------\u001b[39m",
      "\u001b[31mAttributeError\u001b[39m                            Traceback (most recent call last)",
      "\u001b[36mCell\u001b[39m\u001b[36m \u001b[39m\u001b[32mIn[10]\u001b[39m\u001b[32m, line 2\u001b[39m\n\u001b[32m      1\u001b[39m tup = (\u001b[32m10\u001b[39m, \u001b[32m20\u001b[39m, \u001b[32m30\u001b[39m, \u001b[32m40\u001b[39m)          \u001b[38;5;66;03m# declaration\u001b[39;00m\n\u001b[32m----> \u001b[39m\u001b[32m2\u001b[39m \u001b[43mtup\u001b[49m\u001b[43m.\u001b[49m\u001b[43mappend\u001b[49m(\u001b[32m50\u001b[39m)                  \u001b[38;5;66;03m# trying to add value\u001b[39;00m\n\u001b[32m      3\u001b[39m tup[\u001b[32m1\u001b[39m] = \u001b[32m100\u001b[39m                    \u001b[38;5;66;03m# trying to change value\u001b[39;00m\n\u001b[32m      4\u001b[39m \u001b[38;5;28mprint\u001b[39m(tup)\n",
      "\u001b[31mAttributeError\u001b[39m: 'tuple' object has no attribute 'append'"
     ]
    }
   ],
   "source": [
    "tup = (10, 20, 30, 40)          # declaration\n",
    "tup.append(50)                  # trying to add value\n",
    "tup[1] = 100                    # trying to change value\n",
    "print(tup)"
   ]
  },
  {
   "cell_type": "markdown",
   "id": "52c1c1ed",
   "metadata": {},
   "source": [
    "### method of tuple"
   ]
  },
  {
   "cell_type": "code",
   "execution_count": null,
   "id": "eb6f9a45",
   "metadata": {},
   "outputs": [
    {
     "name": "stdout",
     "output_type": "stream",
     "text": [
      "(10, 20, 30, 40, 10, 20, 30, 10)\n",
      "3\n",
      "2\n"
     ]
    }
   ],
   "source": [
    "tup = (10, 20, 30, 40, 10, 20, 30, 10)\n",
    "\n",
    "print(tup.count(10))            # kono ekta value koto bar ache ta count kore\n",
    "print(tup.index(30))            # target value koto number index ache,, oi index return kore"
   ]
  },
  {
   "cell_type": "markdown",
   "id": "0ee0f14c",
   "metadata": {},
   "source": [
    "# SET"
   ]
  },
  {
   "cell_type": "markdown",
   "id": "e285f812",
   "metadata": {},
   "source": [
    "Set is\n",
    "- contains unique value only (Bo duplicate value is accaptable)\n",
    "- Mutable\n",
    "- Unordered (it means it can not accessible by indexing and no option to slicing)\n",
    "- auto sorts "
   ]
  },
  {
   "cell_type": "code",
   "execution_count": 13,
   "id": "09467a88",
   "metadata": {},
   "outputs": [
    {
     "name": "stdout",
     "output_type": "stream",
     "text": [
      "<class 'set'> {1, 2, 3}\n"
     ]
    }
   ],
   "source": [
    "A = {1, 2, 3}                   # declare set using 2nd bracket\n",
    "print(type(A), A)"
   ]
  },
  {
   "cell_type": "markdown",
   "id": "086739b3",
   "metadata": {},
   "source": [
    "### Empty structures"
   ]
  },
  {
   "cell_type": "code",
   "execution_count": 14,
   "id": "db1a4ba9",
   "metadata": {},
   "outputs": [
    {
     "name": "stdout",
     "output_type": "stream",
     "text": [
      "<class 'list'>\n",
      "<class 'tuple'>\n",
      "<class 'dict'>\n",
      "<class 'set'>\n"
     ]
    }
   ],
   "source": [
    "B = []              # empty list\n",
    "print(type(B))\n",
    "\n",
    "C = ()              # empty tuple\n",
    "print(type(C))\n",
    "\n",
    "D = {}              # empty dictionary\n",
    "print(type(D))\n",
    "## empty second bracket {} denotes to dictionary\n",
    "\n",
    "## to declare set, we have to typecast\n",
    "S = set()           # empty set\n",
    "print(type(S))"
   ]
  },
  {
   "cell_type": "markdown",
   "id": "49fe5084",
   "metadata": {},
   "source": [
    "### accessing set"
   ]
  },
  {
   "cell_type": "code",
   "execution_count": 19,
   "id": "0548f2d0",
   "metadata": {},
   "outputs": [
    {
     "name": "stdout",
     "output_type": "stream",
     "text": [
      "S = {1, 2, 3, 4}\n",
      "not present\n",
      "10\n"
     ]
    }
   ],
   "source": [
    "S = {1, 2, 3, 4, 1, 2}\n",
    "\n",
    "print(\"S =\", S)                    # will print the unique values and skip duplicates\n",
    "\n",
    "# print(S[2])               # wont access 2nd value,, \n",
    "\n",
    "if 10 in S:                     # we just can check the target value is in set or not ?\n",
    "    print(\"3 is present\")\n",
    "else:\n",
    "    print(\"not present\")\n",
    "\n",
    "sum = 0\n",
    "\n",
    "for element in S:               # as usual summation\n",
    "    sum += element\n",
    "\n",
    "print(sum)"
   ]
  },
  {
   "cell_type": "markdown",
   "id": "0d254baa",
   "metadata": {},
   "source": [
    "### Unordered but Mutable"
   ]
  },
  {
   "cell_type": "markdown",
   "id": "2774d46f",
   "metadata": {},
   "source": [
    "Mutable,, set method list\n",
    "https://www.w3schools.com/python/python_ref_set.asp"
   ]
  },
  {
   "cell_type": "code",
   "execution_count": null,
   "id": "bf943f43",
   "metadata": {},
   "outputs": [
    {
     "name": "stdout",
     "output_type": "stream",
     "text": [
      "{1, 2, 3, 4, 5}\n",
      "{1, 2, 3, 4, 5, 10}\n",
      "{0, 1, 2, 3, 4, 5, 10}\n",
      "{1, 2, 3, 4, 5, 10}\n",
      "{1, 2, 3, 4, 10}\n"
     ]
    }
   ],
   "source": [
    "s = {5, 1, 2, 4, 3}             # here 5 is in teh begining but while we trying to print this it goes to the end\n",
    "# a set is always sorted by it self,, thats why its unordered,, it cannot mantain order\n",
    "print(s)\n",
    "\n",
    "s.add(10)\n",
    "print(s)                    # {1, 2, 3, 4, 5, 10}\n",
    "\n",
    "s.add(0)                    # sort kore add hoy\n",
    "print(s)                    # {0, 1, 2, 3, 4, 5, 10}\n",
    "\n",
    "s.pop()                     # samner diker value delete kore\n",
    "print(s)                    # {1, 2, 3, 4, 5, 10}\n",
    "\n",
    "s.remove(5)                 # remove specific value\n",
    "print(s)                    # {1, 2, 3, 4, 10}"
   ]
  },
  {
   "cell_type": "markdown",
   "id": "26faf90e",
   "metadata": {},
   "source": [
    "### Set Mathematical method"
   ]
  },
  {
   "cell_type": "code",
   "execution_count": null,
   "id": "8904e467",
   "metadata": {},
   "outputs": [
    {
     "name": "stdout",
     "output_type": "stream",
     "text": [
      "{1, 2, 3, 4, 5, 6}\n",
      "{1, 2}\n",
      "True\n",
      "True\n"
     ]
    }
   ],
   "source": [
    "a = {1, 2, 3}\n",
    "b = {1, 2, 5, 6, 4}\n",
    "\n",
    "print(a.union(b))                       # set union // all values between 2 set\n",
    "print(a.intersection(b))                # set intersection // just common values between 2 set\n",
    "\n",
    "a = {1, 2, 3}\n",
    "b = {5, 6, 4}                           # {5, 6, 2, 4} // this will not be disjoint and return false\n",
    "\n",
    "print(a.isdisjoint(b))                  # is set a  set b connected or not,, if connected return false, it not connected return true\n",
    "\n",
    "a = {1, 2, 3}\n",
    "b = {1, 2, 3, 5, 6, 4}\n",
    "\n",
    "print(a.issubset(b))                    # is set a exisxt in set b"
   ]
  }
 ],
 "metadata": {
  "kernelspec": {
   "display_name": "Python 3",
   "language": "python",
   "name": "python3"
  },
  "language_info": {
   "codemirror_mode": {
    "name": "ipython",
    "version": 3
   },
   "file_extension": ".py",
   "mimetype": "text/x-python",
   "name": "python",
   "nbconvert_exporter": "python",
   "pygments_lexer": "ipython3",
   "version": "3.13.7"
  }
 },
 "nbformat": 4,
 "nbformat_minor": 5
}
