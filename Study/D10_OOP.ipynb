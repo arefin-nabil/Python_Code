{
 "cells": [
  {
   "cell_type": "markdown",
   "id": "f03d4965",
   "metadata": {},
   "source": [
    "# Day 10 - OOP"
   ]
  },
  {
   "cell_type": "markdown",
   "id": "c677b148",
   "metadata": {},
   "source": [
    "### Class & Object"
   ]
  },
  {
   "cell_type": "code",
   "execution_count": null,
   "id": "1ab0045a",
   "metadata": {
    "vscode": {
     "languageId": "plaintext"
    }
   },
   "outputs": [],
   "source": [
    "A Class is like an object constructor, or a \"blueprint\" for creating objects. or we can say this as a body structure   \n",
    "An object is called an instance of a class. It is simply a collection of data (variables) and methods (functions)."
   ]
  }
 ],
 "metadata": {
  "language_info": {
   "name": "python"
  }
 },
 "nbformat": 4,
 "nbformat_minor": 5
}
