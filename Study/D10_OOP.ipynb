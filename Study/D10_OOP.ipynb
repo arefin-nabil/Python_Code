{
 "cells": [
  {
   "cell_type": "markdown",
   "id": "f03d4965",
   "metadata": {},
   "source": [
    "# Day 10 - OOP"
   ]
  },
  {
   "cell_type": "markdown",
   "id": "c677b148",
   "metadata": {},
   "source": [
    "### Class & Object"
   ]
  },
  {
   "cell_type": "markdown",
   "id": "e4ea7e9f",
   "metadata": {},
   "source": [
    "A Class is like an object constructor, or a \"blueprint\" for creating objects. or we can say this as a body structure    \n",
    "An object is called an instance of a class. It is simply a collection of data (variables) and methods (functions).    \n",
    "যেকোনো ডাটা/ভেরিয়েবল/ফাংশন ইত্যাদি সব একত্র করে একটা entity তৈরী করা যায়,, এটাই অবজেক্ট। আর অবজেক্ট যেই স্ট্রাকচার দিয়ে তৈরা করা হয় সেই স্ট্রাকচার/blueprint ই ক্লাস।   \n",
    "\n",
    "একদম সহজ উদাহরণ:    \n",
    "মনে করি আমরা ঢাকা থেকে কক্সবাজার যাবো। তাই বাসের টিকিট কাটার করার জন্য একটি ফরম পূরণ করতে হবে।   \n",
    "**ফরমে -> আমাদের নাম, কবে যাবো, কয়টার সময় যাবো, কোথা থেকে যাবো, আর মোবাইল নাম্বার দিতে হবে।**    \n",
    "এটুকু তথ্য সবাইকেই দিতে হবে,, এটা কমন।  এই জিনিসটাই হচ্ছে ক্লাস। অর্থাৎ, এই ফরম/স্ট্রাকচারই ক্লাস।    \n",
    "এবার অবজেক্ট     \n",
    "মনেকর আমি নাবিল,, আমার জন্য উপরের ফরম ফিলআপ করলাম, মানে নাবিলের একটা অবজেক্ট ক্রিয়েট করা হলো।   \n",
    "এই ফরম যখন টুনির মা ফিলআপ করবে, তেন সেটা হবে তার অবজেক্ট।   \n",
    "এরকম যে ই ফিলআপ করবে তার অবজেক্ট হবে এটা আর ফরম তো ক্লাস ই।  "
   ]
  },
  {
   "cell_type": "code",
   "execution_count": 2,
   "id": "abfa355e",
   "metadata": {},
   "outputs": [
    {
     "name": "stdout",
     "output_type": "stream",
     "text": [
      "Arefin Nabil\n",
      "cox's bazar\n",
      "30th november\n",
      "2121212\n"
     ]
    }
   ],
   "source": [
    "# crating very simple class and object\n",
    "\n",
    "class Ticket:                           # ticket class\n",
    "    name = \"write your name bro\"        # instance variable (attribute/field) or properties of class\n",
    "    jabo=\"cox's bazar\"                  # pre added data,, if object dont input it will execute\n",
    "    kobe=\"\"\n",
    "    mobile = 123456\n",
    "\n",
    "\n",
    "nabil = Ticket()                        # object\n",
    "\n",
    "nabil.name = \"Arefin Nabil\"             # insert data in object\n",
    "# nabil.jabo = \"Russia\"\n",
    "nabil.kobe = \"30th november\"\n",
    "nabil.mobile = 2121212\n",
    "\n",
    "\n",
    "print(nabil.name)\n",
    "print(nabil.jabo)\n",
    "print(nabil.kobe)\n",
    "print(nabil.mobile)"
   ]
  },
  {
   "cell_type": "code",
   "execution_count": 5,
   "id": "120af307",
   "metadata": {},
   "outputs": [
    {
     "name": "stdout",
     "output_type": "stream",
     "text": [
      "bhai ami holam write your name bro amr ichha cox's bazar jabo,, ami  tarikh e jabo,, amre phn diyo 123456 number e\n",
      "bhai ami holam Arefin Nabil amr ichha cox's bazar jabo,, ami 30th november tarikh e jabo,, amre phn diyo 2121212 number e\n",
      "bhai ami holam সুপারম্যান amr ichha Russia jabo,, ami 30th november tarikh e jabo,, amre phn diyo 2121212 number e\n"
     ]
    }
   ],
   "source": [
    "# function in class\n",
    "\n",
    "\n",
    "class Ticket:  # ticket class\n",
    "    name = \"write your name bro\"         # instance variable (attribute/field) or properties of class\n",
    "    jabo = \"cox's bazar\"                # pre added data,, if object dont input it will execute\n",
    "    kobe = \"\"\n",
    "    mobile = 123456\n",
    "                            ################  ei self mendatory ############\n",
    "    def read_info(self):               # self হচ্ছে যেই অবজেক্ট এর জন্য এই মেথড কল করা হয়েছে, সেটা\n",
    "        print(\n",
    "            f\"bhai ami holam {self.name} amr ichha {self.jabo} jabo,, ami {self.kobe} tarikh e jabo,, amre phn diyo {self.mobile} number e\"\n",
    "        )\n",
    "\n",
    "\n",
    "#### Object\n",
    "nabil = Ticket()                     # object\n",
    "\n",
    "nabil.read_info()                       # eikhane class er vetor er fucntion call kora hoyeche,, with default data\n",
    "\n",
    "nabil.name = \"Arefin Nabil\"              # insert data in object\n",
    "# nabil.jabo = \"Russia\"\n",
    "nabil.kobe = \"30th november\"\n",
    "nabil.mobile = 2121212\n",
    "\n",
    "nabil.read_info()                     # by user data,,   function called\n",
    "\n",
    "\n",
    "superman = Ticket()\n",
    "\n",
    "superman.name = \"সুপারম্যান\"  \n",
    "superman.jabo = \"Russia\"\n",
    "superman.kobe = \"30th november\"\n",
    "superman.mobile = 2121212\n",
    "\n",
    "superman.read_info()              # jokhn superman call kora hbe tokhn \"self\" hobe superman"
   ]
  },
  {
   "cell_type": "markdown",
   "id": "44b8b499",
   "metadata": {},
   "source": [
    "### Constructor"
   ]
  },
  {
   "cell_type": "markdown",
   "id": "362e7987",
   "metadata": {},
   "source": [
    "১. Constructor হচ্ছে class এর সেই অংশ যেটা নতুন কোনো অবজেক্ট ক্রিয়েট করার সাথে সাথেই অটোমটিক কল হয়   \n",
    "২. আগের কোডে আমরা চাইলে যেকোনো একটা properties of class না লিখলেও চলতো,, বাট Constructor এ অবশ্যই কিছু দিতেই হবে। সাথে এটা কোডকে ছোট ও করে।      \n",
    "৩. Constructor সবসময় none return করে"
   ]
  },
  {
   "cell_type": "code",
   "execution_count": null,
   "id": "35797fb7",
   "metadata": {},
   "outputs": [
    {
     "name": "stdout",
     "output_type": "stream",
     "text": [
      "bhai ami holam      Nabil       amr ichha     Cox      jabo,, ami       25 oct    tarikh e jabo,, amre phn diyo    123465       number e\n",
      "bhai ami holam      Kat kaif       amr ichha     pakistan      jabo,, ami       10 nov    tarikh e jabo,, amre phn diyo    2356       number e\n",
      "bhai ami holam      Sabila Noor       amr ichha     China      jabo,, ami       1 jan    tarikh e jabo,, amre phn diyo    23232323       number e\n",
      "bhai ami holam      Aneet Padda       amr ichha     nabil er mon      jabo,, ami       any time    tarikh e jabo,, amre phn diyo    999999       number e\n"
     ]
    }
   ],
   "source": [
    "class Ticket:\n",
    "    \n",
    "    # parameterized constructor\n",
    "\n",
    "    def __init__(self, n, jabo, kobe, m):\n",
    "        self.name = n\n",
    "        self.j = jabo\n",
    "        self.k = kobe\n",
    "        self.mobile = m\n",
    "\n",
    "    def read_info(self):               # self হচ্ছে যেই অবজেক্ট এর জন্য এই মেথড কল করা হয়েছে, সেটা\n",
    "        print(\n",
    "            f\"bhai ami holam      {self.name}       amr ichha     {self.j}      jabo,, ami       {self.k}    tarikh e jabo,, amre phn diyo    {self.mobile}       number e\"\n",
    "        )\n",
    "\n",
    "\n",
    "nabil = Ticket(\"Nabil\", \"Cox\", \"25 oct\", 123465)\n",
    "katrina = Ticket(\"Kat kaif\", \"pakistan\", \"10 nov\", 2356)\n",
    "sabila = Ticket(\"Sabila Noor\", \"China\", \"1 jan\", 23232323)\n",
    "aneet = Ticket(\"Aneet Padda\", \"nabil er mon\", \"any time\")       # error\n",
    "\n",
    "nabil.read_info()\n",
    "katrina.read_info()\n",
    "sabila.read_info()\n",
    "aneet.read_info()"
   ]
  },
  {
   "cell_type": "markdown",
   "id": "819bdee0",
   "metadata": {},
   "source": [
    "### Inheritance"
   ]
  },
  {
   "cell_type": "markdown",
   "id": "110c870f",
   "metadata": {},
   "source": [
    "ফরম পূরনের উদাহরণটা আবার খেয়াল করি।   \n",
    "ধরি আমরা ৬ মাসের ট্যেুর দিবো, তাই এখন আমাদের সাথে ২০-২৫ টা লাগেজ আছে।   \n",
    "তো এটা টিকিট কাউন্টারে বলার পর তারা আমাকে এমন একটা স্পেশাল ফরম দিয়েছে যেটাতে আগের তথ্য  সব তো আছেই সাথে সতুন কিছু তথ্য এড করতে হবে।   \n",
    "এই নতুন ফরম টাই Inheritance    \n",
    "that means parent form er child/extention is inheritance"
   ]
  },
  {
   "cell_type": "code",
   "execution_count": 17,
   "id": "6aa21b76",
   "metadata": {},
   "outputs": [
    {
     "name": "stdout",
     "output_type": "stream",
     "text": [
      "bhai ami holam      nabil       amr ichha     dhk      jabo,, ami       10    tarikh e jabo,, amre phn diyo    2025       number e\n"
     ]
    }
   ],
   "source": [
    "# parent class\n",
    "class Ticket:\n",
    "\n",
    "    def __init__(self, n, jabo, kobe, m):\n",
    "        self.name = n\n",
    "        self.j = jabo\n",
    "        self.k = kobe\n",
    "        self.mobile = m\n",
    "\n",
    "    def read_info(self):  # self হচ্ছে যেই অবজেক্ট এর জন্য এই মেথড কল করা হয়েছে, সেটা\n",
    "        print(\n",
    "            f\"bhai ami holam      {self.name}       amr ichha     {self.j}      jabo,, ami       {self.k}    tarikh e jabo,, amre phn diyo    {self.mobile}       number e\"\n",
    "        )\n",
    "\n",
    "class luggage(Ticket):\n",
    "\n",
    "    def __init__(self, koyta, n, jabo, kobe, m):\n",
    "        super().__init__(n, jabo, kobe, m)\n",
    "        self.koyta = koyta\n",
    "\n",
    "\n",
    "nabil = luggage(10, \"nabil\", \"dhk\", \"10\", 2025)\n",
    "\n",
    "nabil.read_info()"
   ]
  },
  {
   "cell_type": "markdown",
   "id": "17878b50",
   "metadata": {},
   "source": []
  }
 ],
 "metadata": {
  "kernelspec": {
   "display_name": "Python 3",
   "language": "python",
   "name": "python3"
  },
  "language_info": {
   "codemirror_mode": {
    "name": "ipython",
    "version": 3
   },
   "file_extension": ".py",
   "mimetype": "text/x-python",
   "name": "python",
   "nbconvert_exporter": "python",
   "pygments_lexer": "ipython3",
   "version": "3.13.7"
  }
 },
 "nbformat": 4,
 "nbformat_minor": 5
}
