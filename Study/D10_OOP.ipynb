{
 "cells": [
  {
   "cell_type": "markdown",
   "id": "f03d4965",
   "metadata": {},
   "source": [
    "# Day 10 - OOP"
   ]
  },
  {
   "cell_type": "markdown",
   "id": "c677b148",
   "metadata": {},
   "source": [
    "### Class & Object"
   ]
  },
  {
   "cell_type": "markdown",
   "id": "e4ea7e9f",
   "metadata": {},
   "source": [
    "A Class is like an object constructor, or a \"blueprint\" for creating objects. or we can say this as a body structure    \n",
    "An object is called an instance of a class. It is simply a collection of data (variables) and methods (functions).    \n",
    "যেকোনো ডাটা/ভেরিয়েবল/ফাংশন ইত্যাদি সব একত্র করে একটা entity তৈরী করা যায়,, এটাই অবজেক্ট। আর অবজেক্ট যেই স্ট্রাকচার দিয়ে তৈরা করা হয় সেই স্ট্রাকচার/blueprint ই ক্লাস।   \n",
    "\n",
    "একদম সহজ উদাহরণ:    \n",
    "মনে করি আমরা ঢাকা থেকে কক্সবাজার যাবো। তাই বাসের টিকিট কাটার করার জন্য একটি ফরম পূরণ করতে হবে।   \n",
    "**ফরমে -> আমাদের নাম, কবে যাবো, কয়টার সময় যাবো, কোথা থেকে যাবো, আর মোবাইল নাম্বার দিতে হবে।**    \n",
    "এটুকু তথ্য সবাইকেই দিতে হবে,, এটা কমন।  এই জিনিসটাই হচ্ছে ক্লাস। অর্থাৎ, এই ফরম/স্ট্রাকচারই ক্লাস।    \n",
    "এবার অবজেক্ট     \n",
    "মনেকর আমি নাবিল,, আমার জন্য উপরের ফরম ফিলআপ করলাম, মানে নাবিলের একটা অবজেক্ট ক্রিয়েট করা হলো।   \n",
    "এই ফরম যখন টুনির মা ফিলআপ করবে, তেন সেটা হবে তার অবজেক্ট।   \n",
    "এরকম যে ই ফিলআপ করবে তার অবজেক্ট হবে এটা আর ফরম তো ক্লাস ই।  \n",
    "\n",
    "ক্লাস হলো ধারণা (concept)।        \n",
    "অবজেক্ট হলো বাস্তব রূপ (instance)।"
   ]
  },
  {
   "cell_type": "code",
   "execution_count": 2,
   "id": "abfa355e",
   "metadata": {},
   "outputs": [
    {
     "name": "stdout",
     "output_type": "stream",
     "text": [
      "Arefin Nabil\n",
      "cox's bazar\n",
      "30th november\n",
      "2121212\n"
     ]
    }
   ],
   "source": [
    "# crating very simple class and object\n",
    "\n",
    "class Ticket:                           # ticket class\n",
    "    name = \"write your name bro\"        # instance variable (attribute/field) or properties of class\n",
    "    jabo=\"cox's bazar\"                  # pre added data,, if object dont input it will execute\n",
    "    kobe=\"\"\n",
    "    mobile = 123456\n",
    "\n",
    "\n",
    "nabil = Ticket()                        # object\n",
    "\n",
    "nabil.name = \"Arefin Nabil\"             # insert data in object\n",
    "# nabil.jabo = \"Russia\"\n",
    "nabil.kobe = \"30th november\"\n",
    "nabil.mobile = 2121212\n",
    "\n",
    "\n",
    "print(nabil.name)\n",
    "print(nabil.jabo)\n",
    "print(nabil.kobe)\n",
    "print(nabil.mobile)"
   ]
  },
  {
   "cell_type": "code",
   "execution_count": 5,
   "id": "120af307",
   "metadata": {},
   "outputs": [
    {
     "name": "stdout",
     "output_type": "stream",
     "text": [
      "bhai ami holam write your name bro amr ichha cox's bazar jabo,, ami  tarikh e jabo,, amre phn diyo 123456 number e\n",
      "bhai ami holam Arefin Nabil amr ichha cox's bazar jabo,, ami 30th november tarikh e jabo,, amre phn diyo 2121212 number e\n",
      "bhai ami holam সুপারম্যান amr ichha Russia jabo,, ami 30th november tarikh e jabo,, amre phn diyo 2121212 number e\n"
     ]
    }
   ],
   "source": [
    "# function in class\n",
    "\n",
    "\n",
    "class Ticket:  # ticket class\n",
    "    name = \"write your name bro\"         # instance variable (attribute/field) or properties of class\n",
    "    jabo = \"cox's bazar\"                # pre added data,, if object dont input it will execute\n",
    "    kobe = \"\"\n",
    "    mobile = 123456\n",
    "                            ################  ei self mendatory ############\n",
    "    def read_info(self):               # self হচ্ছে যেই অবজেক্ট এর জন্য এই মেথড কল করা হয়েছে, সেটা\n",
    "        print(\n",
    "            f\"bhai ami holam {self.name} amr ichha {self.jabo} jabo,, ami {self.kobe} tarikh e jabo,, amre phn diyo {self.mobile} number e\"\n",
    "        )\n",
    "\n",
    "\n",
    "#### Object\n",
    "nabil = Ticket()                     # object\n",
    "\n",
    "nabil.read_info()                       # eikhane class er vetor er fucntion call kora hoyeche,, with default data\n",
    "\n",
    "nabil.name = \"Arefin Nabil\"              # insert data in object\n",
    "# nabil.jabo = \"Russia\"\n",
    "nabil.kobe = \"30th november\"\n",
    "nabil.mobile = 2121212\n",
    "\n",
    "nabil.read_info()                     # by user data,,   function called\n",
    "\n",
    "\n",
    "superman = Ticket()\n",
    "\n",
    "superman.name = \"সুপারম্যান\"  \n",
    "superman.jabo = \"Russia\"\n",
    "superman.kobe = \"30th november\"\n",
    "superman.mobile = 2121212\n",
    "\n",
    "superman.read_info()              # jokhn superman call kora hbe tokhn \"self\" hobe superman"
   ]
  },
  {
   "cell_type": "markdown",
   "id": "44b8b499",
   "metadata": {},
   "source": [
    "### Constructor"
   ]
  },
  {
   "cell_type": "markdown",
   "id": "362e7987",
   "metadata": {},
   "source": [
    "১. Constructor হচ্ছে class এর সেই অংশ যেটা নতুন কোনো অবজেক্ট ক্রিয়েট করার সাথে সাথেই অটোমটিক কল হয়   \n",
    "২. আগের কোডে আমরা চাইলে যেকোনো একটা properties of class না লিখলেও চলতো,, বাট Constructor এ অবশ্যই কিছু দিতেই হবে। সাথে এটা কোডকে ছোট ও করে।      \n",
    "৩. Constructor সবসময় none return করে"
   ]
  },
  {
   "cell_type": "code",
   "execution_count": null,
   "id": "35797fb7",
   "metadata": {},
   "outputs": [
    {
     "name": "stdout",
     "output_type": "stream",
     "text": [
      "bhai ami holam      Nabil       amr ichha     Cox      jabo,, ami       25 oct    tarikh e jabo,, amre phn diyo    123465       number e\n",
      "bhai ami holam      Kat kaif       amr ichha     pakistan      jabo,, ami       10 nov    tarikh e jabo,, amre phn diyo    2356       number e\n",
      "bhai ami holam      Sabila Noor       amr ichha     China      jabo,, ami       1 jan    tarikh e jabo,, amre phn diyo    23232323       number e\n",
      "bhai ami holam      Aneet Padda       amr ichha     nabil er mon      jabo,, ami       any time    tarikh e jabo,, amre phn diyo    999999       number e\n"
     ]
    }
   ],
   "source": [
    "class Ticket:\n",
    "\n",
    "    # parameterized constructor\n",
    "    def __init__(self, n, jabo, kobe, m):\n",
    "        self.name = n                                   # Instance Attribute\n",
    "        self.j = jabo                                   # Instance Attribute\n",
    "        self.k = kobe\n",
    "        self.mobile = m\n",
    "\n",
    "\n",
    "    # but this is method / function\n",
    "    def read_info(self):               # self হচ্ছে যেই অবজেক্ট এর জন্য এই মেথড কল করা হয়েছে, সেটা\n",
    "        print(\n",
    "            f\"bhai ami holam      {self.name}       amr ichha     {self.j}      jabo,, ami       {self.k}    tarikh e jabo,, amre phn diyo    {self.mobile}       number e\"\n",
    "        )\n",
    "\n",
    "\n",
    "nabil = Ticket(\"Nabil\", \"Cox\", \"25 oct\", 123465)\n",
    "katrina = Ticket(\"Kat kaif\", \"pakistan\", \"10 nov\", 2356)\n",
    "sabila = Ticket(\"Sabila Noor\", \"China\", \"1 jan\", 23232323)\n",
    "aneet = Ticket(\"Aneet Padda\", \"nabil er mon\", \"any time\")       # error\n",
    "\n",
    "nabil.read_info()\n",
    "katrina.read_info()\n",
    "sabila.read_info()\n",
    "aneet.read_info()"
   ]
  },
  {
   "cell_type": "markdown",
   "id": "819bdee0",
   "metadata": {},
   "source": [
    "### Inheritance     /    sub class"
   ]
  },
  {
   "cell_type": "markdown",
   "id": "110c870f",
   "metadata": {},
   "source": [
    "ফরম পূরনের উদাহরণটা আবার খেয়াল করি।   \n",
    "ধরি আমরা ৬ মাসের tour দিবো, তাই এখন আমাদের সাথে ২০-২৫ টা লাগেজ আছে।   \n",
    "তো এটা টিকিট কাউন্টারে বলার পর তারা আমাকে এমন একটা স্পেশাল ফরম দিয়েছে যেটাতে আগের তথ্য  সব তো আছেই সাথে সতুন কিছু তথ্য এড করতে হবে।   \n",
    "এই নতুন ফরম টাই Inheritance    \n",
    "that means parent form er child/extention is inheritance"
   ]
  },
  {
   "cell_type": "code",
   "execution_count": null,
   "id": "6aa21b76",
   "metadata": {},
   "outputs": [
    {
     "name": "stdout",
     "output_type": "stream",
     "text": [
      "bhai ami holam      nabil       amr ichha     dhk      jabo,, ami       10    tarikh e jabo,, amre phn diyo    20252654564       number e\n",
      "amar sathe 20 ta luggage ta luggage o ase.\n"
     ]
    }
   ],
   "source": [
    "# parent class\n",
    "class Ticket:\n",
    "\n",
    "    ki_krbo = \"tour dibo bro\"\n",
    "\n",
    "    def __init__(self, n, jabo, kobe, m):\n",
    "        self.name = n\n",
    "        self.j = jabo\n",
    "        self.k = kobe\n",
    "        self.mobile = m\n",
    "\n",
    "    def read_info(self):  # self হচ্ছে যেই অবজেক্ট এর জন্য এই মেথড কল করা হয়েছে, সেটা\n",
    "        print(\n",
    "            f\"bhai ami holam      {self.name}       amr ichha     {self.j}      jabo,, ami       {self.k}    tarikh e jabo,, amre phn diyo    {self.mobile}       number e\"\n",
    "        )\n",
    "\n",
    "\n",
    "# child / Derived class\n",
    "class luggage(Ticket):\n",
    "\n",
    "    def __init__(self, n, jabo, kobe, m, koyta):\n",
    "        super().__init__(n, jabo, kobe, m)          # parent class constructor call\n",
    "        self.koyta = koyta                           # new attribute for luggage\n",
    "\n",
    "        # --- Method Overriding ---\n",
    "\n",
    "    def read_info(self):\n",
    "        # প্রথমে প্যারেন্ট ক্লাসের অরিজিনাল মেথড কল\n",
    "        super().read_info()\n",
    "\n",
    "        # এরপর চাইল্ড ক্লাসের নিজস্ব তথ্য যোগ করি\n",
    "        print(f\"amar sathe {self.koyta} luggage ase.\")\n",
    "\n",
    "\n",
    "nabil = luggage(\"nabil\", \"dhk\", \"10\", 20252654564, \"20 ta\")\n",
    "\n",
    "nabil.read_info()"
   ]
  },
  {
   "cell_type": "markdown",
   "id": "17878b50",
   "metadata": {},
   "source": [
    "### Multiple Inheritance"
   ]
  },
  {
   "cell_type": "markdown",
   "id": "2fa5e15e",
   "metadata": {},
   "source": [
    "কোধায় থাকবো আর রিটার্ন টিকিট ও বুক করবো,, নতুন ২ ক্লাসের সাহায্যে"
   ]
  },
  {
   "cell_type": "code",
   "execution_count": 29,
   "id": "d5ccae40",
   "metadata": {},
   "outputs": [
    {
     "name": "stdout",
     "output_type": "stream",
     "text": [
      "bhai ami holam      nabil       amr ichha     dhk      jabo,, ami       10 tarikh    tarikh e jabo,, amre phn diyo    202524       number e\n",
      "thakbo 5 din\n",
      "amar sathe 20 ta luggage ase.\n",
      " firbo 15 tarikh\n"
     ]
    }
   ],
   "source": [
    "# parent class\n",
    "class Ticket:\n",
    "    ki_krbo = \"tour dibo bro\"\n",
    "    def __init__(self, n, jabo, kobe, m):\n",
    "        self.name = n\n",
    "        self.j = jabo\n",
    "        self.k = kobe\n",
    "        self.mobile = m\n",
    "\n",
    "    def read_info(self):  # self হচ্ছে যেই অবজেক্ট এর জন্য এই মেথড কল করা হয়েছে, সেটা\n",
    "        print(\n",
    "            f\"bhai ami holam      {self.name}       amr ichha     {self.j}      jabo,, ami       {self.k}    tarikh e jabo,, amre phn diyo    {self.mobile}       number e\"\n",
    "        )\n",
    "\n",
    "# child / Derived class\n",
    "class luggage(Ticket):\n",
    "\n",
    "    def __init__(self, n, jabo, kobe, m, koyta):\n",
    "        Ticket.__init__(self, n, jabo, kobe, m)  # parent class constructor call\n",
    "        self.koyta = koyta  # new attribute for luggage\n",
    "\n",
    "        # --- Method Overriding ---\n",
    "    def read_info(self):\n",
    "        # প্রথমে প্যারেন্ট ক্লাসের অরিজিনাল মেথড কল\n",
    "        super().read_info()\n",
    "\n",
    "        # এরপর চাইল্ড ক্লাসের নিজস্ব তথ্য যোগ করি\n",
    "        print(f\"amar sathe {self.koyta} luggage ase.\")\n",
    "\n",
    "class stay(Ticket):\n",
    "    def __init__(self, n, jabo, kobe, m, thakbo):\n",
    "        Ticket.__init__(self, n, jabo, kobe, m)\n",
    "        self.thakbo = thakbo\n",
    "\n",
    "    def read_info(self):\n",
    "        super().read_info()\n",
    "        print(f\"thakbo {self.thakbo}\")\n",
    "\n",
    "\n",
    "class lg_return_stay(luggage, stay):\n",
    "    def __init__(self, n, jabo, kobe, m, koyta, thakbo, firbo):\n",
    "        luggage.__init__(self, n, jabo, kobe, m, koyta)\n",
    "        stay.__init__(self, n, jabo, kobe, m, thakbo)\n",
    "        self.firbo = firbo\n",
    "\n",
    "    def read_info(self):\n",
    "        super().read_info()\n",
    "        print(f\" firbo {self.firbo}\")\n",
    "\n",
    "\n",
    "nabil = lg_return_stay(\"nabil\", \"dhk\", \"10 tarikh\", 202524, \"20 ta\", \"5 din\", \"15 tarikh\")\n",
    "\n",
    "nabil.read_info()"
   ]
  },
  {
   "cell_type": "markdown",
   "id": "1f92c637",
   "metadata": {},
   "source": [
    "### Polymorphism"
   ]
  },
  {
   "cell_type": "markdown",
   "id": "2ec0ee2b",
   "metadata": {},
   "source": [
    "Polymorphism মানে হলো —একই নামের মেথড বা ফাংশন বিভিন্ন ক্লাসে ভিন্নভাবে কাজ করতে পারে।   \n",
    "\n",
    "ধরি যানবাহন নামে একটা **ক্লাস** ক্রিয়েট করলাম   \n",
    "এবার যাবাহনকে  inheritance করে রেল, বাস, বিমান নামে আরো ৩ টা **ক্লাস** ক্রিয়েট করলাম   \n",
    "\n",
    "তো, এইযে নতুর ৩ টা ক্লাস, পূর্বের মেইন যানবাহন ক্লাসের attributes ব্যবহার করতেছে,, এটাই Polymorphism"
   ]
  },
  {
   "cell_type": "code",
   "execution_count": null,
   "id": "4c4ce574",
   "metadata": {},
   "outputs": [
    {
     "name": "stdout",
     "output_type": "stream",
     "text": [
      "Dhumketu 1280 800 seat\n",
      "Hanif AX324 40 seat\n",
      "Boeing 787 120 seat\n"
     ]
    }
   ],
   "source": [
    "# parent class\n",
    "class Janbahon:\n",
    "    def __init__(self, name, model, seat_num):\n",
    "        self.name = name\n",
    "        self.model = model\n",
    "        self.seat_num = seat_num\n",
    "\n",
    "# child classes\n",
    "\n",
    "class Rail(Janbahon):       # রেল এর নিজস্ব কোনো attribute নাই\n",
    "    pass\n",
    "\n",
    "class Bus(Janbahon):        # using parent class er attributes\n",
    "    pass\n",
    "\n",
    "class Biman(Janbahon):      # inherit kolam janbahon ke\n",
    "    pass\n",
    "\n",
    "\n",
    "r1 = Rail(\"Dhumketu\", \"1280\", \"800 seat\")\n",
    "\n",
    "b1 = Bus(\"Hanif\", \"AX324\", \"40 seat\")\n",
    "\n",
    "b2 = Biman(\"Boeing\", \"787\", \"120 seat\")\n",
    "\n",
    "print(r1.name, r1.model, r1.seat_num)\n",
    "print(b1.name, b1.model, b1.seat_num)\n",
    "print(b2.name, b2.model, b2.seat_num)"
   ]
  },
  {
   "cell_type": "markdown",
   "id": "153c19f8",
   "metadata": {},
   "source": [
    "### Encapsulation "
   ]
  },
  {
   "cell_type": "markdown",
   "id": "903e8b4c",
   "metadata": {},
   "source": [
    "কোডের নির্দিস্ট কোনো অংশ/জিনিস যেমন কিছু ভ্যারিয়েবল/মেথড যদি প্রাইভেট/হাইড করে রাখতে চাই, যাতে যে কেউ সেটা এক্সেস করতে না পারে,, তাহলে সেটাকেই মুলত Encapsulation বলে।   \n",
    "ক্যাপসুল ট্যাবলেট এর সাথে তুলনা করা যেতে পারে।   \n",
    "\n",
    "নিচের উদাহরন টা দেখি    \n",
    "আমরা চাই বাসের নাম পাবলিক থাকুক, কিন্তু বাসের মডেল প্রাইভেট থাকুক।   \n"
   ]
  },
  {
   "cell_type": "code",
   "execution_count": null,
   "id": "fc20fd34",
   "metadata": {},
   "outputs": [
    {
     "name": "stdout",
     "output_type": "stream",
     "text": [
      "মেইন ক্লাস থেকে এক্সেস করলাম AX324\n",
      "Hanif 40 seat\n"
     ]
    }
   ],
   "source": [
    "# parent class\n",
    "class Janbahon:\n",
    "    def __init__(self, name, model, seat_num):\n",
    "        self.name = name        # PUBLIC attribute\n",
    "        self.__model = model      # PRIVATE attribute\n",
    "        self.seat_num = seat_num\n",
    "        print(\"মেইন ক্লাস থেকে এক্সেস করলাম\", model)\n",
    "\n",
    "# (self.__var) self er por double unerscore _ _ dile oi attribute ta private hoye jay\n",
    "\n",
    "# private bolte??\n",
    "# প্রাইভেট বলতে,, এটা মেইন/parent ক্লাসের বাহিরে থেকে এক্সেস করা যাবে না,, তবে মেইন ক্লাস থেকে এক্সেস করা যাবে।\n",
    "# parent class e data input hbe,, but output hbe na\n",
    "\n",
    "class Bus(Janbahon):                # polymorphism\n",
    "    pass\n",
    "\n",
    "b1 = Bus(\"Hanif\", \"AX324\", \"40 seat\")\n",
    "\n",
    "# b2 = Bus(\"ena\", \"10 seat\")        # বাট আমরা যখন polymorphism করব বা যখনই parent ক্লাস ব্যবহার করবো,, তখন কিন্তু মডেল সহ ডাটা দিতে হবে\n",
    "\n",
    "# print(b1.name, b1.__model, b1.seat_num)       # error\n",
    "print(b1.name, b1.seat_num)"
   ]
  },
  {
   "cell_type": "markdown",
   "id": "918fc2e1",
   "metadata": {},
   "source": [
    "### getter and setter  in encapsulation"
   ]
  },
  {
   "cell_type": "markdown",
   "id": "9e720703",
   "metadata": {},
   "source": [
    "তো, আমরা যেই ডাটা টা প্রাইভেট করলাম,, এটা আর জীবনে কখনোই এক্সেস করতে পারবো না??   \n",
    "অবশ্যই পারবো,, তবে এর জন্য আলাদা দুটা মেথড ব্যবহার করতে হবে।\n",
    "\n",
    "Getter মেথড কোনো প্রাইভেট ভ্যারিয়েবলের মান নিয়ন্ত্রিতভাবে পড়ার সুযোগ দেয়।        \n",
    "এটি একটি read-only interface তৈরি করে।       \n",
    "  \n",
    "Setter মেথড ডেটা নিয়ন্ত্রিতভাবে পরিবর্তনের সুযোগ দেয়।        \n",
    "আমরা চাইলে ডেটা পরিবর্তন করতে পারবো, কিন্তু ক্লাসে বলা নির্ধারিত নিয়মের মাধ্যমে।"
   ]
  },
  {
   "cell_type": "code",
   "execution_count": null,
   "id": "f3820c44",
   "metadata": {},
   "outputs": [
    {
     "name": "stdout",
     "output_type": "stream",
     "text": [
      "Hanif 40 seat\n",
      "AX324\n",
      "Hanif New model 40 seat\n"
     ]
    }
   ],
   "source": [
    "class Janbahon:\n",
    "    def __init__(self, name, model, seat_num):\n",
    "        self.name = name  \n",
    "        self.__model = model            # encapsulation\n",
    "        self.seat_num = seat_num\n",
    "        \n",
    "    def get_model(self):                # read only ,,, getter method\n",
    "        return self.__model             # edit er access nai\n",
    "\n",
    "    def set_model(self, model):         # write only,, setter method\n",
    "        self.__model = model\n",
    "\n",
    "class Bus(Janbahon):                    # polymorphism\n",
    "    pass\n",
    "\n",
    "b1 = Bus(\"Hanif\", \"AX324\", \"40 seat\")\n",
    "\n",
    "print(b1.name, b1.seat_num)\n",
    "print(b1.get_model())                   # print by getter\n",
    "\n",
    "b1.set_model(\"New-AX500\")               # model cheange kore fellam,, setter method\n",
    "\n",
    "print(b1.name, b1.get_model(), b1.seat_num)"
   ]
  },
  {
   "cell_type": "markdown",
   "id": "f00e5985",
   "metadata": {},
   "source": [
    "### Abstraction"
   ]
  },
  {
   "cell_type": "markdown",
   "id": "9168c5a4",
   "metadata": {},
   "source": [
    "Abstraction হচ্ছে, কম্পলেক্স কোড হাইড করে ইউজারকে শুধুমাত্র প্রয়োজনীয় অংশের এক্সেস দেওয়া।    \n",
    "এটা তার চাইল্ডকে বাধ্য করে Abstraction এ থাকা কোড ইম্পলিমেন্ট করতে।   "
   ]
  },
  {
   "cell_type": "code",
   "execution_count": null,
   "id": "a8434fac",
   "metadata": {},
   "outputs": [
    {
     "name": "stdout",
     "output_type": "stream",
     "text": [
      "Hanif AX324 40 seat\n",
      "Padma Train 2400hp engine 800 seat\n"
     ]
    }
   ],
   "source": [
    "from abc import ABC, abstractmethod\n",
    "\n",
    "class Janbahon(ABC):\n",
    "    def __init__(self, name, model, seat_num):\n",
    "        self.name = name\n",
    "        self.__model = model  \n",
    "        self.seat_num = seat_num\n",
    "\n",
    "    def get_model(self):  \n",
    "        return self.__model\n",
    "\n",
    "    def set_model(self, model):  \n",
    "        self.__model = model\n",
    "\n",
    "    # Abstract Method যোগ করা হলো। এই মেথডটি Janbahon-এর সব চাইল্ড ক্লাসকে অবশ্যই ইমপ্লিমেন্ট করতে হবে।\n",
    "    @abstractmethod\n",
    "    def show_details(self):\n",
    "        pass\n",
    "\n",
    "\n",
    "# Bus ক্লাস এখন show_details ইমপ্লিমেন্ট করতে বাধ্য\n",
    "class Bus(Janbahon):\n",
    "    def show_details(self):\n",
    "        print (self.name, self.get_model(), self.seat_num)\n",
    "\n",
    "\n",
    "class train(Janbahon):\n",
    "    def show_details(self):\n",
    "        return super().show_details()\n",
    "\n",
    "\n",
    "b1 = Bus(\"Hanif\", \"AX324\", \"40 seat\")\n",
    "# b1 এখন show_details মেথডটি ব্যবহার করতে পারবে\n",
    "b1.show_details()\n",
    "\n",
    "b2 = train(\"Padma Train\", \"2400hp engine\", \"800 seat\")\n",
    "print(b2.name, b2.get_model(), b2.seat_num)"
   ]
  }
 ],
 "metadata": {
  "kernelspec": {
   "display_name": "Python 3",
   "language": "python",
   "name": "python3"
  },
  "language_info": {
   "codemirror_mode": {
    "name": "ipython",
    "version": 3
   },
   "file_extension": ".py",
   "mimetype": "text/x-python",
   "name": "python",
   "nbconvert_exporter": "python",
   "pygments_lexer": "ipython3",
   "version": "3.13.7"
  }
 },
 "nbformat": 4,
 "nbformat_minor": 5
}
