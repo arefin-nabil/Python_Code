{
 "cells": [
  {
   "cell_type": "markdown",
   "id": "d164c726",
   "metadata": {},
   "source": [
    "# Conditional Statements, Logical Operators, Range, and For Loop in Python"
   ]
  },
  {
   "cell_type": "markdown",
   "id": "b1e0a36d",
   "metadata": {},
   "source": [
    "## 🔹 Conditional Statements (if, elif, else)"
   ]
  },
  {
   "cell_type": "markdown",
   "id": "7d929274",
   "metadata": {},
   "source": [
    "#### These are used when we want to make decisions in our program.\n",
    "#### Conditions always work with True or False (Boolean values)."
   ]
  },
  {
   "cell_type": "markdown",
   "id": "8d5f34ee",
   "metadata": {},
   "source": [
    "### Problem 1"
   ]
  },
  {
   "cell_type": "code",
   "execution_count": 1,
   "id": "8ea65b72",
   "metadata": {},
   "outputs": [
    {
     "name": "stdout",
     "output_type": "stream",
     "text": [
      "Ami school e jabo\n"
     ]
    }
   ],
   "source": [
    "rain = False\n",
    "if rain == True:\n",
    "    print(\"Ami school e jabo na\")      # If it rains, I won’t go to school.\n",
    "else:\n",
    "    print(\"Ami school e jabo\")         # Otherwise, I will go to school.\n"
   ]
  },
  {
   "cell_type": "markdown",
   "id": "a2a8b64b",
   "metadata": {},
   "source": [
    "### Problem 2"
   ]
  },
  {
   "cell_type": "code",
   "execution_count": 2,
   "id": "c4e33ce3",
   "metadata": {},
   "outputs": [
    {
     "name": "stdout",
     "output_type": "stream",
     "text": [
      "Tumi 18-\n"
     ]
    }
   ],
   "source": [
    "age = 17\n",
    "if age >= 18:\n",
    "    print(\"Tumi license paba\")  # You can get a driving license.\n",
    "else:\n",
    "    print(\"Tumi 18-\")  # You are under 18."
   ]
  },
  {
   "cell_type": "markdown",
   "id": "1ae1d9c1",
   "metadata": {},
   "source": [
    "## 🔹 Logical Operators"
   ]
  },
  {
   "cell_type": "markdown",
   "id": "163f9004",
   "metadata": {},
   "source": [
    "### Logical operators also work with True/False values.\n",
    "### They help combine or modify conditions.\n",
    "\n",
    "##### and → Both conditions must be True to get True.\n",
    "- True and True   → True \n",
    "- True and False  → False \n",
    "- False and True  → False\n",
    "- False and False → False\n",
    "\n",
    "##### or → If any one condition is True, result is True.\n",
    "- True or True    → True\n",
    "- True or False   → True\n",
    "- False or True   → True\n",
    "- False or False  → False\n",
    "\n",
    "##### not → Reverses the Boolean value.\n",
    "- not True  → False\n",
    "- not False → True"
   ]
  },
  {
   "cell_type": "markdown",
   "id": "dcc45b7d",
   "metadata": {},
   "source": [
    "### Problem 3"
   ]
  },
  {
   "cell_type": "code",
   "execution_count": null,
   "id": "123ce58a",
   "metadata": {},
   "outputs": [
    {
     "name": "stdout",
     "output_type": "stream",
     "text": [
      "Tumi ekta candy box paba\n"
     ]
    }
   ],
   "source": [
    "marks = 85\n",
    "if marks >= 90 and marks <= 100:\n",
    "    print(\"Tumi duita candy box paba\")      # Two candy boxes\n",
    "elif marks >= 80 and marks <= 89:\n",
    "    print(\"Tumi ekta candy box paba\")       # One candy box\n",
    "else:\n",
    "    print(\"Tumi kichui paba na\")            # Nothing "
   ]
  },
  {
   "cell_type": "markdown",
   "id": "6db14a33",
   "metadata": {},
   "source": [
    "## 🔹 range() Function"
   ]
  },
  {
   "cell_type": "markdown",
   "id": "fb0f6ff4",
   "metadata": {},
   "source": [
    "#### The range() function is used to generate a sequence of numbers.\n",
    "- It is often used in loops.\n",
    "- It has 3 parts → range(start, end, step)"
   ]
  },
  {
   "cell_type": "markdown",
   "id": "9964a724",
   "metadata": {},
   "source": [
    "##### Simple example"
   ]
  },
  {
   "cell_type": "code",
   "execution_count": null,
   "id": "28a89a7c",
   "metadata": {},
   "outputs": [
    {
     "name": "stdout",
     "output_type": "stream",
     "text": [
      "[0, 1, 2, 3, 4, 5, 6, 7, 8, 9]\n"
     ]
    }
   ],
   "source": [
    "a = list(range(10))\n",
    "print(a)                    # [0, 1, 2, 3, 4, 5, 6, 7, 8, 9]"
   ]
  },
  {
   "cell_type": "markdown",
   "id": "154bcf36",
   "metadata": {},
   "source": [
    "##### Ascending range\n"
   ]
  },
  {
   "cell_type": "code",
   "execution_count": null,
   "id": "e496121b",
   "metadata": {},
   "outputs": [
    {
     "name": "stdout",
     "output_type": "stream",
     "text": [
      "[4, 5, 6, 7, 8, 9]\n"
     ]
    }
   ],
   "source": [
    "b = list(range(4, 10))\n",
    "print(b)                    # [4, 5, 6, 7, 8, 9]"
   ]
  },
  {
   "cell_type": "code",
   "execution_count": null,
   "id": "89fbedb4",
   "metadata": {},
   "outputs": [
    {
     "name": "stdout",
     "output_type": "stream",
     "text": [
      "[0, 2, 4, 6, 8]\n"
     ]
    }
   ],
   "source": [
    "c = list(range(0, 10, 2))\n",
    "print(c)                    # [0, 2, 4, 6, 8]"
   ]
  },
  {
   "cell_type": "markdown",
   "id": "2ca3a055",
   "metadata": {},
   "source": [
    "##### Descending range"
   ]
  },
  {
   "cell_type": "code",
   "execution_count": null,
   "id": "f5e274c4",
   "metadata": {},
   "outputs": [
    {
     "name": "stdout",
     "output_type": "stream",
     "text": [
      "[10, 9, 8, 7, 6, 5, 4, 3, 2, 1]\n"
     ]
    }
   ],
   "source": [
    "d = list(range(10, 0, -1))\n",
    "print(d)                    # [10, 9, 8, 7, 6, 5, 4, 3, 2, 1]"
   ]
  },
  {
   "cell_type": "markdown",
   "id": "99bf949b",
   "metadata": {},
   "source": [
    "## 🔹 Loops"
   ]
  },
  {
   "cell_type": "markdown",
   "id": "473ab0e6",
   "metadata": {},
   "source": [
    "#### Loops help us repeat a task multiple times.\n",
    "\n",
    "- For Loop\n",
    "- While Loop\n",
    "- Nested Loop (loop inside another loop)"
   ]
  },
  {
   "cell_type": "markdown",
   "id": "830aff45",
   "metadata": {},
   "source": [
    "##### 🔸 Normal for loop"
   ]
  },
  {
   "cell_type": "code",
   "execution_count": 8,
   "id": "f6db6f7b",
   "metadata": {},
   "outputs": [
    {
     "name": "stdout",
     "output_type": "stream",
     "text": [
      "0 Hello Boys\n",
      "1 Hello Boys\n",
      "2 Hello Boys\n",
      "3 Hello Boys\n",
      "4 Hello Boys\n",
      "5 Hello Boys\n",
      "6 Hello Boys\n",
      "7 Hello Boys\n",
      "8 Hello Boys\n",
      "9 Hello Boys\n"
     ]
    }
   ],
   "source": [
    "for i in range(10):\n",
    "    print(i, \"Hello Boys\")"
   ]
  },
  {
   "cell_type": "markdown",
   "id": "8a157002",
   "metadata": {},
   "source": [
    "##### 🔸 Using string in for loop"
   ]
  },
  {
   "cell_type": "code",
   "execution_count": 9,
   "id": "776d53b1",
   "metadata": {},
   "outputs": [
    {
     "name": "stdout",
     "output_type": "stream",
     "text": [
      "H\n",
      "i\n",
      ",\n",
      " \n",
      "I\n",
      " \n",
      "a\n",
      "m\n",
      " \n",
      "N\n",
      "a\n",
      "b\n",
      "i\n",
      "l\n"
     ]
    }
   ],
   "source": [
    "s = \"Hi, I am Nabil\"\n",
    "for letter in s:\n",
    "    print(letter)"
   ]
  },
  {
   "cell_type": "markdown",
   "id": "3cb4f37e",
   "metadata": {},
   "source": [
    "##### 🔸 Using list in for loop"
   ]
  },
  {
   "cell_type": "markdown",
   "id": "cbcc0eb7",
   "metadata": {},
   "source": [
    "List er detail pore janbo,,just dekhe rakhi"
   ]
  },
  {
   "cell_type": "code",
   "execution_count": 11,
   "id": "dd94b625",
   "metadata": {},
   "outputs": [
    {
     "name": "stdout",
     "output_type": "stream",
     "text": [
      "alu\n",
      "mach\n",
      "98\n",
      "10 ta komola\n",
      "2.33\n",
      "lebu\n",
      "98969.23654589\n",
      "55\n",
      "-120\n",
      "bazar krte hbe\n",
      "10\n"
     ]
    }
   ],
   "source": [
    "l = [\"alu\", \"mach\", 98, \"10 ta komola\", 2.33, \"lebu\", 98969.23654589, \n",
    "     55, -120, \"bazar krte hbe\", 10,]\n",
    "for item in l:\n",
    "    print(item)"
   ]
  },
  {
   "cell_type": "markdown",
   "id": "c7e32604",
   "metadata": {},
   "source": [
    "##### 🔸 Filter result (show only numbers >= 30)"
   ]
  },
  {
   "cell_type": "code",
   "execution_count": 12,
   "id": "e69886c0",
   "metadata": {},
   "outputs": [
    {
     "name": "stdout",
     "output_type": "stream",
     "text": [
      "36\n",
      "35\n",
      "98\n",
      "44\n"
     ]
    }
   ],
   "source": [
    "l2 = [25, 36, 21, 10, 35, 1, 2, 98, 5, 27, 21, 44, 11, 9, 17]\n",
    "for i in l2:\n",
    "    if i >= 30:\n",
    "        print(i)"
   ]
  },
  {
   "cell_type": "markdown",
   "id": "f5c39646",
   "metadata": {},
   "source": [
    "##### 🔸 Find numbers divisible by both 3 and 5"
   ]
  },
  {
   "cell_type": "code",
   "execution_count": 13,
   "id": "6bc5dc40",
   "metadata": {},
   "outputs": [
    {
     "name": "stdout",
     "output_type": "stream",
     "text": [
      "0\n",
      "15\n",
      "30\n",
      "45\n",
      "60\n",
      "75\n",
      "90\n"
     ]
    }
   ],
   "source": [
    "for i in range(100):\n",
    "    if i % 3 == 0 and i % 5 == 0:\n",
    "        print(i)"
   ]
  },
  {
   "cell_type": "markdown",
   "id": "1a13cf9b",
   "metadata": {},
   "source": [
    "##### 🔸 Find sum of numbers"
   ]
  },
  {
   "cell_type": "code",
   "execution_count": 14,
   "id": "7e80fc9f",
   "metadata": {},
   "outputs": [
    {
     "name": "stdout",
     "output_type": "stream",
     "text": [
      "45\n"
     ]
    }
   ],
   "source": [
    "sum = 0\n",
    "for i in range(10):  # range(10) → 0 to 9\n",
    "    sum = sum + i\n",
    "print(sum)  # Output: 45"
   ]
  }
 ],
 "metadata": {
  "kernelspec": {
   "display_name": "Python 3",
   "language": "python",
   "name": "python3"
  },
  "language_info": {
   "codemirror_mode": {
    "name": "ipython",
    "version": 3
   },
   "file_extension": ".py",
   "mimetype": "text/x-python",
   "name": "python",
   "nbconvert_exporter": "python",
   "pygments_lexer": "ipython3",
   "version": "3.13.7"
  }
 },
 "nbformat": 4,
 "nbformat_minor": 5
}
