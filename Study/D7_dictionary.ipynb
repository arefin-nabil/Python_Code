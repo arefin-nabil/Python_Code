{
 "cells": [
  {
   "cell_type": "markdown",
   "id": "7ca4f03e",
   "metadata": {},
   "source": [
    "# Day 7 -  Dictionary"
   ]
  },
  {
   "cell_type": "markdown",
   "id": "c327456f",
   "metadata": {},
   "source": [
    "- Mutable\n",
    "- Unordered\n",
    "- Key-value pair"
   ]
  },
  {
   "cell_type": "markdown",
   "id": "1a890293",
   "metadata": {},
   "source": [
    "- Key will be immutable -- like (int, string, float, tuple etc)\n",
    "- Value can be anything -- like (str, int, set, list, even another dictionary)\n",
    "- Key and value will be separated by \":\" "
   ]
  },
  {
   "cell_type": "code",
   "execution_count": 5,
   "id": "b48cf3eb",
   "metadata": {},
   "outputs": [
    {
     "name": "stdout",
     "output_type": "stream",
     "text": [
      "<class 'dict'>\n",
      "{'name': 'printers', 'age': 30, 'address': 'Dhaka', 'numbers': [10, 20, 30]}\n",
      "{'name': 'Computer', 'age': 30, 'address': 'Dhaka', 'numbers': [10, 20, 30]}\n",
      "[10, 20, 30]\n",
      "30\n"
     ]
    }
   ],
   "source": [
    "# empty dictionary\n",
    "dic = {}\n",
    "print(type(dic))\n",
    "\n",
    "# Creating a dictionary\n",
    "dic = {\"name\": \"printers\", \"age\": 20, \"address\": \"Dhaka\", \"numbers\": [10, 20, 30],     \"age\"      :   30,}\n",
    "# var     key     value      k    v       k         v        key         value      multiple key\n",
    "\n",
    "# if there is multiple of simiar key then latest value will granted at 1st key position\n",
    "print(dic)              # age will be 30\n",
    "\n",
    "\n",
    "dic[\"name\"] = \"Computer\"           # changing value\n",
    "print(dic)\n",
    "\n",
    "print(dic[\"numbers\"])               # accessing value by key\n",
    "print(dic.get(\"age\"))               # accessing value by key (another way)"
   ]
  },
  {
   "cell_type": "markdown",
   "id": "224de094",
   "metadata": {},
   "source": [
    "### Dictionary Methods  ---- https://www.w3schools.com/python/python_ref_dictionary.asp"
   ]
  },
  {
   "cell_type": "code",
   "execution_count": 7,
   "id": "9f675744",
   "metadata": {},
   "outputs": [
    {
     "name": "stdout",
     "output_type": "stream",
     "text": [
      "{'name': 'Computer', 'age': 30, 'address': 'Dhaka', 'numbers': [10, 20, 30]}\n",
      "None\n",
      "0\n"
     ]
    }
   ],
   "source": [
    "# printing default values\n",
    "print(dic)\n",
    "\n",
    "print(dic.get(\"math_marks\"))                # dictionary tte nai emn kichu access krte chaile None ashbe\n",
    "print(dic.get(\"math_marks\", 0))             # er jonno default value set kore dewa jay"
   ]
  },
  {
   "cell_type": "markdown",
   "id": "8b8d5f55",
   "metadata": {},
   "source": [
    "Adding a value"
   ]
  },
  {
   "cell_type": "code",
   "execution_count": 26,
   "id": "2087adf2",
   "metadata": {},
   "outputs": [
    {
     "name": "stdout",
     "output_type": "stream",
     "text": [
      "{'name': 'Ahmed', 'age': 30, 'address': 'Dhaka', 'numbers': [10, 20, 30]}\n",
      "{'name': 'Ahmed', 'age': 30, 'address': 'Dhaka', 'numbers': [10, 20, 30], 'math_marks': 30, 'english_marks': 40}\n",
      "{'name': 'Ahmed', 'age': 15, 'address': 'Khulna', 'numbers': [10, 20, 30], 'math_marks': 30, 'english_marks': 40}\n"
     ]
    }
   ],
   "source": [
    "dic = {\"name\": \"Ahmed\", \"age\": 20, \"address\": \"Dhaka\", \"numbers\": [10, 20, 30], \"age\": 30,}\n",
    "print(dic)\n",
    "\n",
    "dic[\"math_marks\"] = 30                  # Adding new key and value in dictionary\n",
    "dic.update({\"english_marks\": 40})       # Adding new key and value in dictionary another method\n",
    "print(dic)\n",
    "\n",
    "dic[\"age\"] = 15                         # updating existing keys values\n",
    "dic.update({\"address\": \"Khulna\"})       # updating existing keys values another method\n",
    "print(dic)"
   ]
  },
  {
   "cell_type": "code",
   "execution_count": 27,
   "id": "09813b95",
   "metadata": {},
   "outputs": [
    {
     "name": "stdout",
     "output_type": "stream",
     "text": [
      "Main Dictionary --  {'name': 'Ahmed', 'age': 15, 'address': 'Khulna', 'numbers': [10, 20, 30], 'math_marks': 30, 'english_marks': 40}\n",
      "Del math marks --  {'name': 'Ahmed', 'age': 15, 'address': 'Khulna', 'numbers': [10, 20, 30], 'english_marks': 40}\n",
      "pop english marks --  {'name': 'Ahmed', 'age': 15, 'address': 'Khulna', 'numbers': [10, 20, 30]}\n"
     ]
    }
   ],
   "source": [
    "# deleting\n",
    "\n",
    "print(\"Main Dictionary -- \", dic) \n",
    "\n",
    "del dic[\"math_marks\"]\n",
    "print(\"Del math marks -- \", dic)\n",
    "\n",
    "dic.pop(\"english_marks\")\n",
    "print(\"pop english marks -- \", dic)"
   ]
  },
  {
   "cell_type": "code",
   "execution_count": 28,
   "id": "1090a304",
   "metadata": {},
   "outputs": [
    {
     "name": "stdout",
     "output_type": "stream",
     "text": [
      "{'name': 'Ahmed', 'age': 15, 'address': 'Khulna', 'numbers': [10, 20, 30]}\n"
     ]
    }
   ],
   "source": [
    "# copy dictionary \n",
    "\n",
    "dic_2 = dic.copy()\n",
    "print(dic_2)"
   ]
  },
  {
   "cell_type": "code",
   "execution_count": null,
   "id": "4ff1f186",
   "metadata": {},
   "outputs": [
    {
     "name": "stdout",
     "output_type": "stream",
     "text": [
      "{'x': {'name': 'adil', 'age': 20}}\n",
      "{(10, 20, 30): {'name': 'adil', 'age': 20}}\n"
     ]
    }
   ],
   "source": [
    "dic_3 = {\"x\": {\"name\": \"Nabil\", \"age\": 20}}          # dictionary in another dictionary\n",
    "print(dic_3)\n",
    "\n",
    "dic_3 = {(10,20,30): {\"name\": \"Nabil\", \"age\": 20}}   # tuple as key\n",
    "print(dic_3)"
   ]
  },
  {
   "cell_type": "markdown",
   "id": "bde08927",
   "metadata": {},
   "source": [
    "### Dictionary View methods"
   ]
  },
  {
   "cell_type": "code",
   "execution_count": null,
   "id": "a8b9282c",
   "metadata": {},
   "outputs": [
    {
     "name": "stdout",
     "output_type": "stream",
     "text": [
      "dict_keys(['name', 'age', 'address', 'numbers'])\n",
      "dict_values(['printers', 20, 'Dhaka', [10, 20, 30]])\n",
      "dict_keys(['name', 'age', 'address', 'numbers', 'math_marks'])\n",
      "dict_values(['printers', 20, 'Dhaka', [10, 20, 30], 60])\n",
      "dict_items([('name', 'printers'), ('age', 20), ('address', 'Dhaka'), ('numbers', [10, 20, 30]), ('math_marks', 60)])\n"
     ]
    }
   ],
   "source": [
    "# show all the keys of a dictionary\n",
    "dic = {\"name\": \"printers\", \"age\": 20, \"address\": \"Dhaka\", \"numbers\": [10, 20, 30] }\n",
    "\n",
    "keys = dic.keys()\n",
    "\n",
    "print(keys) \n",
    "\n",
    "values =dic.values()\n",
    "\n",
    "print(values)\n",
    "\n",
    "dic[\"math_marks\"] = 60          # real time update keys and values\n",
    "print(keys)\n",
    "print(values)\n",
    "\n",
    "\n",
    "item = dic.items()\n",
    "\n",
    "print(item)                 ## this is interesting\n",
    "                            ## here all are pairs of key-value converted in tuple and saved as a list\n",
    "# dict_items    (   [                   ('name', 'printers'),    ('age', 20), ..... ])\n",
    "#                   ^ - list start      ^ -     tuple    - ^             list end - ^ "
   ]
  },
  {
   "cell_type": "markdown",
   "id": "d4e4d38d",
   "metadata": {},
   "source": [
    "### iteration / loop in dictionary"
   ]
  },
  {
   "cell_type": "code",
   "execution_count": null,
   "id": "f774493d",
   "metadata": {},
   "outputs": [
    {
     "name": "stdout",
     "output_type": "stream",
     "text": [
      "name printers\n",
      "age 20\n",
      "address Dhaka\n",
      "numbers [10, 20, 30]\n",
      "math_marks 60\n"
     ]
    }
   ],
   "source": [
    "for ky,val in dic:            # ❌❌ Wrong system\n",
    "   print(ky, val)             # ❌❌ Wrong,, wont print\n",
    "\n",
    "for ky, val in dic.items():     # ✅✅ right approach of iteration\n",
    "    print(ky, val)"
   ]
  },
  {
   "cell_type": "markdown",
   "id": "d3e2a251",
   "metadata": {},
   "source": [
    "### Dictionary Comprehension"
   ]
  },
  {
   "cell_type": "markdown",
   "id": "eeb96519",
   "metadata": {},
   "source": [
    "- Comprehension is the short cut way of loop and it used to creating anything like list/set/dictionary etc"
   ]
  },
  {
   "cell_type": "code",
   "execution_count": null,
   "id": "8f0070be",
   "metadata": {},
   "outputs": [
    {
     "name": "stdout",
     "output_type": "stream",
     "text": [
      "{2: 4, 4: 16, 6: 36, 8: 64, 10: 100}\n"
     ]
    }
   ],
   "source": [
    "# there are a basic rule for DICTIONARY comprehension \n",
    "\n",
    "# { expression               iterable                   if condition }\n",
    "#   key : value         list/range/tuple etc             calculation\n",
    "\n",
    "# we want to create a dictionary of even numbers squares with their base number\n",
    "\n",
    "sqr = {x:x**2 for x in range(1,11) if x % 2==0}\n",
    "print(sqr)"
   ]
  },
  {
   "cell_type": "code",
   "execution_count": 41,
   "id": "6a2af35d",
   "metadata": {},
   "outputs": [
    {
     "name": "stdout",
     "output_type": "stream",
     "text": [
      "{(10, 10.5): 'dhaka', (20.5, 192): 'chattogram', (101, 102): 'sylhet'}\n",
      "dict_items([((10, 10.5), 'dhaka'), ((20.5, 192), 'chattogram'), ((101, 102), 'sylhet')])\n"
     ]
    }
   ],
   "source": [
    "Co_ordinates = [(10, 10.5), (20.5, 192), (101, 102)]\n",
    "Locations = [\"dhaka\", \"chattogram\", \"sylhet\"]\n",
    "\n",
    "exact_location = {co_or: loc for co_or, loc in zip(Co_ordinates, Locations)}\n",
    "\n",
    "print(exact_location)\n",
    "print(exact_location.items())"
   ]
  },
  {
   "cell_type": "markdown",
   "id": "2e77f987",
   "metadata": {},
   "source": [
    "### printing the frequency of the words"
   ]
  },
  {
   "cell_type": "code",
   "execution_count": null,
   "id": "650417c7",
   "metadata": {},
   "outputs": [
    {
     "name": "stdout",
     "output_type": "stream",
     "text": [
      "count of data is 9\n",
      "count of science is 1\n",
      "count of machine is 3\n",
      "count of learning is 2\n",
      "count of analysis is 1\n",
      "count of statistics is 1\n",
      "count of models is 2\n",
      "count of training is 1\n",
      "count of validation is 2\n",
      "count of features is 2\n",
      "count of labels is 1\n",
      "count of preprocessing is 1\n",
      "count of augmentation is 1\n",
      "count of optimization is 1\n",
      "count of gradient is 1\n",
      "count of descent is 1\n",
      "count of neural is 1\n",
      "count of networks is 1\n",
      "count of tensors is 1\n",
      "count of matrices is 1\n",
      "count of visualization is 1\n",
      "count of exploration is 1\n",
      "count of pandas is 1\n",
      "count of numpy is 1\n",
      "count of matplotlib is 1\n",
      "count of seaborn is 1\n",
      "count of scikitlearn is 1\n",
      "count of tensorflow is 1\n",
      "count of pytorch is 1\n",
      "count of deployment is 1\n",
      "count of inference is 1\n",
      "count of production is 1\n",
      "count of monitoring is 1\n",
      "count of reproducibility is 1\n",
      "count of experiments is 1\n",
      "count of results is 1\n",
      "count of metrics is 1\n",
      "count of accuracy is 1\n",
      "count of precision is 1\n",
      "count of recall is 1\n",
      "count of f1 is 1\n",
      "count of cross is 1\n"
     ]
    }
   ],
   "source": [
    "string = \"\"\"data science machine learning data analysis machine \n",
    "learning statistics data models data training data validation features\n",
    "features labels preprocessing data augmentation models data optimization \n",
    "gradient descent neural networks data tensors matrices visualization \n",
    "exploration pandas numpy matplotlib seaborn scikitlearn tensorflow pytorch \n",
    "deployment inference production monitoring reproducibility experiments results \n",
    "metrics accuracy precision recall f1 cross validation data machine\n",
    "\"\"\"\n",
    "\n",
    "words = string.split()              # split kore list e convert kore nisi\n",
    "\n",
    "count = {}                          # count er value rakhar jonno empty dictionary\n",
    "\n",
    "\n",
    "for word in words:\n",
    "    count[word] = count.get(word, 0) + 1\n",
    "#   dic    key    val      (key   default val=0)  \n",
    "\n",
    "for k, v in count.items():\n",
    "    print(f\"count of {k} is {v}\")"
   ]
  }
 ],
 "metadata": {
  "kernelspec": {
   "display_name": "Python 3",
   "language": "python",
   "name": "python3"
  },
  "language_info": {
   "codemirror_mode": {
    "name": "ipython",
    "version": 3
   },
   "file_extension": ".py",
   "mimetype": "text/x-python",
   "name": "python",
   "nbconvert_exporter": "python",
   "pygments_lexer": "ipython3",
   "version": "3.13.7"
  }
 },
 "nbformat": 4,
 "nbformat_minor": 5
}
