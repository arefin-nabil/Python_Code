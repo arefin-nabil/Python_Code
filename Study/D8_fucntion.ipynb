{
 "cells": [
  {
   "cell_type": "markdown",
   "id": "6a05072a",
   "metadata": {},
   "source": [
    "# Day 8 - Function, Iterator, Generator, lambda, map, reduce\n"
   ]
  },
  {
   "cell_type": "markdown",
   "id": "3c33788f",
   "metadata": {},
   "source": [
    "Function is a block of code which only runs when it is called. It is reusable.\n",
    "It can return data as a result.\n",
    "Function helps avoiding code repetition, which is known as code redundancy.\n"
   ]
  },
  {
   "cell_type": "markdown",
   "id": "53469147",
   "metadata": {},
   "source": [
    "### function creating"
   ]
  },
  {
   "cell_type": "markdown",
   "id": "a23fd073",
   "metadata": {},
   "source": [
    "Function is defined using the \"def\" keyword and after def there will be function name and then parenthesis () with :\n"
   ]
  },
  {
   "cell_type": "code",
   "execution_count": null,
   "id": "e62af4cf",
   "metadata": {},
   "outputs": [],
   "source": [
    "def hi():\n",
    "    print(\"Hi bro,, ki obostha?\")"
   ]
  },
  {
   "cell_type": "code",
   "execution_count": 4,
   "id": "2ecdd2b9",
   "metadata": {},
   "outputs": [
    {
     "name": "stdout",
     "output_type": "stream",
     "text": [
      "Hi bro,, ki obostha?\n"
     ]
    }
   ],
   "source": [
    "hi()"
   ]
  },
  {
   "cell_type": "markdown",
   "id": "37425da8",
   "metadata": {},
   "source": [
    "### Function Parameter\n"
   ]
  },
  {
   "cell_type": "code",
   "execution_count": null,
   "id": "4bc636a3",
   "metadata": {},
   "outputs": [],
   "source": [
    "def hi(name):                  # input from user\n",
    "    print(f\"Hi {name} bro,, ki obostha?\")"
   ]
  },
  {
   "cell_type": "code",
   "execution_count": 8,
   "id": "7dc3caa4",
   "metadata": {},
   "outputs": [
    {
     "name": "stdout",
     "output_type": "stream",
     "text": [
      "Hi Superman bro,, ki obostha?\n"
     ]
    }
   ],
   "source": [
    "hi(\"Superman\")"
   ]
  },
  {
   "cell_type": "code",
   "execution_count": null,
   "id": "693695e8",
   "metadata": {},
   "outputs": [],
   "source": [
    "def hi(name=\"guest\"):                # if user dont input anything then use a default value\n",
    "    print(f\"Hi {name} bro,, ki obostha?\")"
   ]
  },
  {
   "cell_type": "code",
   "execution_count": null,
   "id": "9a14267b",
   "metadata": {},
   "outputs": [
    {
     "name": "stdout",
     "output_type": "stream",
     "text": [
      "Hi guest bro,, ki obostha?\n",
      "Hi superman bro,, ki obostha?\n"
     ]
    }
   ],
   "source": [
    "hi()\n",
    "hi(\"superman\")"
   ]
  },
  {
   "cell_type": "code",
   "execution_count": null,
   "id": "0f345266",
   "metadata": {},
   "outputs": [
    {
     "name": "stdout",
     "output_type": "stream",
     "text": [
      "10 20 30\n",
      "30 10 20\n"
     ]
    }
   ],
   "source": [
    "def numbers(a, b, c):\n",
    "    print(f\"{a} {b} {c}\")\n",
    "\n",
    "\n",
    "# positional argument\n",
    "numbers(10, 20, 30)               # here values are passed in the same order as parameters are defined in the function.\n",
    "\n",
    "\n",
    "# keyword argument\n",
    "numbers(b=10, c=20, a=30)             # here we pass values by parameter names while calling the function"
   ]
  },
  {
   "cell_type": "markdown",
   "id": "e889c044",
   "metadata": {},
   "source": [
    "but best practice is if we have more than 1 argument, then we will pass that as \\*args\n"
   ]
  },
  {
   "cell_type": "code",
   "execution_count": null,
   "id": "3e801463",
   "metadata": {},
   "outputs": [],
   "source": [
    "def num_sum(*args):              # it stores data as tuple,, we can use unlimited data here\n",
    "    print(args)\n",
    "    print(type(args))\n",
    "    summation = 0\n",
    "    for i in args:\n",
    "        summation += i\n",
    "    print(summation)"
   ]
  },
  {
   "cell_type": "code",
   "execution_count": 34,
   "id": "db010972",
   "metadata": {},
   "outputs": [
    {
     "name": "stdout",
     "output_type": "stream",
     "text": [
      "(10, 20, 30, 40, 50)\n",
      "<class 'tuple'>\n",
      "150\n"
     ]
    }
   ],
   "source": [
    "num_sum(10, 20, 30, 40, 50)"
   ]
  },
  {
   "cell_type": "markdown",
   "id": "9588c683",
   "metadata": {},
   "source": [
    "to pass data as dictionary, we will use \\*\\*kwargs,, it will store data as key and value pair\n"
   ]
  },
  {
   "cell_type": "code",
   "execution_count": 30,
   "id": "6fe5561d",
   "metadata": {},
   "outputs": [],
   "source": [
    "def student(**kwargs):\n",
    "    for key, val in kwargs.items():\n",
    "        print(f\"{key} : {val}\")"
   ]
  },
  {
   "cell_type": "code",
   "execution_count": 31,
   "id": "5010853a",
   "metadata": {},
   "outputs": [
    {
     "name": "stdout",
     "output_type": "stream",
     "text": [
      "name : Nabil\n",
      "cls : 10\n",
      "roll : 30\n",
      "marks : 30.5\n"
     ]
    }
   ],
   "source": [
    "student(name=\"Nabil\", cls=10, roll=30, marks=30.5)"
   ]
  },
  {
   "cell_type": "markdown",
   "id": "aae1dd7e",
   "metadata": {},
   "source": [
    "### Return\n"
   ]
  },
  {
   "cell_type": "markdown",
   "id": "db3f5814",
   "metadata": {},
   "source": [
    "return statement exit a function immediately and return selected value to the position where function were called. it can not be used outside the function.\n"
   ]
  },
  {
   "cell_type": "code",
   "execution_count": null,
   "id": "9075f5c8",
   "metadata": {},
   "outputs": [
    {
     "name": "stdout",
     "output_type": "stream",
     "text": [
      "6\n"
     ]
    }
   ],
   "source": [
    "def fun():\n",
    "    return 3 + 3\n",
    "    # code inside the function, but after the return line will not be executed\n",
    "    print(\"Hello, World!\")\n",
    "\n",
    "\n",
    "print(fun())"
   ]
  },
  {
   "cell_type": "code",
   "execution_count": 40,
   "id": "920dc2ee",
   "metadata": {},
   "outputs": [
    {
     "name": "stdout",
     "output_type": "stream",
     "text": [
      "<class 'tuple'>\n",
      "{10, 20, 30}\n",
      "<class 'set'>\n",
      "[20, 30, 40]\n",
      "<class 'list'>\n",
      "This is text\n",
      "<class 'str'>\n"
     ]
    }
   ],
   "source": [
    "def test_type():\n",
    "\n",
    "    a = {10, 20, 30}\n",
    "    b = [20, 30, 40]\n",
    "    c = \"This is text\"\n",
    "    return a, b, c\n",
    "\n",
    "print(type(test_type()))            # full things is tuple\n",
    "\n",
    "## unpacking = it is distribute items in variables\n",
    "x, y, z = test_type()\n",
    "\n",
    "print(x)\n",
    "print(type(x))          # set\n",
    "print(y)\n",
    "print(type(y))          # list\n",
    "print(z)\n",
    "print(type(z))          # string"
   ]
  },
  {
   "cell_type": "code",
   "execution_count": 45,
   "id": "f394e305",
   "metadata": {},
   "outputs": [
    {
     "name": "stdout",
     "output_type": "stream",
     "text": [
      "<class 'dict'>\n",
      "{'name': 'Abrar', 'addr': 'Kustia'}\n",
      "{'name': 'Fahad', 'addr': 'Buet'}\n",
      "('name', 'Abrar')\n",
      "<class 'tuple'>\n",
      "('addr', 'Kustia')\n",
      "<class 'tuple'>\n"
     ]
    }
   ],
   "source": [
    "def test_type():\n",
    "    return {\"name\": \"Abrar\", \"addr\": \"Kustia\"}, {\"name\": \"Fahad\", \"addr\": \"Buet\"}\n",
    "\n",
    "x, y = test_type()\n",
    "\n",
    "print(type(x))\n",
    "\n",
    "print(x)\n",
    "print(y)\n",
    "\n",
    "for item in x.items():\n",
    "    print(item)\n",
    "    print(type(item))"
   ]
  },
  {
   "cell_type": "markdown",
   "id": "92ed5152",
   "metadata": {},
   "source": [
    "### Iterator"
   ]
  },
  {
   "cell_type": "markdown",
   "id": "f178f49a",
   "metadata": {},
   "source": [
    "For loop use kore jmn iterate kora jay tmni iterator er alada function o ache"
   ]
  },
  {
   "cell_type": "code",
   "execution_count": 47,
   "id": "3b944735",
   "metadata": {},
   "outputs": [
    {
     "name": "stdout",
     "output_type": "stream",
     "text": [
      "50\n",
      "20\n",
      "40\n",
      "10\n",
      "30\n",
      "\n",
      "50\n",
      "20\n",
      "40\n",
      "10\n",
      "30\n"
     ]
    }
   ],
   "source": [
    "s = {10, 20, 30, 40, 50}\n",
    "\n",
    "s_iter = iter(s)\n",
    "print(next(s_iter))\n",
    "print(next(s_iter))\n",
    "print(next(s_iter))\n",
    "print(next(s_iter))\n",
    "print(next(s_iter))     # er pore o jdi iterate krte chaitam tahole stopiterator error ashtop\n",
    "print()\n",
    "for i in s:\n",
    "    print(i)"
   ]
  },
  {
   "cell_type": "markdown",
   "id": "eee852e9",
   "metadata": {},
   "source": [
    "### Generators"
   ]
  },
  {
   "cell_type": "markdown",
   "id": "53be9e0b",
   "metadata": {},
   "source": [
    "Generators allow us to iterate over data without storing the entire dataset in memory.\n",
    "Instead of using return, generators use the \"yield\" keyword.\n",
    "\n"
   ]
  },
  {
   "cell_type": "code",
   "execution_count": 49,
   "id": "d77c6972",
   "metadata": {},
   "outputs": [
    {
     "name": "stdout",
     "output_type": "stream",
     "text": [
      "[0, 1, 2, 3, 4]\n",
      "[5, 6, 7, 8, 9]\n"
     ]
    }
   ],
   "source": [
    "lst = [x for x in range(500)]                       # dataset\n",
    "\n",
    "\n",
    "def data_loader(chunk_size, lst):\n",
    "    for i in range(0, len(lst), chunk_size):\n",
    "        yield lst[i : i + chunk_size]  # eikhane data flow thik thake,, 1st yield jekhane sesh hoy 2nd ta sekhan thekei suru hoy\n",
    "\n",
    "\n",
    "x = data_loader(5, lst)\n",
    "\n",
    "print(next(x))\n",
    "print(next(x))\n",
    "\n",
    "x.send(\"Hi\")        # sending a value to the generator\n",
    "x.close()           # it stops the generator"
   ]
  },
  {
   "cell_type": "markdown",
   "id": "6796bb2b",
   "metadata": {},
   "source": [
    "### Lambda function"
   ]
  },
  {
   "cell_type": "markdown",
   "id": "3273441d",
   "metadata": {},
   "source": [
    "- anonymous --- different name dite hoy na\n",
    "- 1 line declaration\n",
    "- less memory consuming and work much efficiently\n",
    "- syntax--->        lambda argumemnt/parameter : expression       (one or more parameter but only one expression)"
   ]
  },
  {
   "cell_type": "code",
   "execution_count": 50,
   "id": "ac99d1bd",
   "metadata": {},
   "outputs": [
    {
     "name": "stdout",
     "output_type": "stream",
     "text": [
      "13\n"
     ]
    }
   ],
   "source": [
    "def square_addition(x, y):      # typical function\n",
    "    return x**2 + y**2          # typical function\n",
    "\n",
    "\n",
    "sq_add = lambda x, y: x**2 + y**2       # using lambda function\n",
    "\n",
    "print(sq_add(2, 3))"
   ]
  },
  {
   "cell_type": "markdown",
   "id": "233dc7b5",
   "metadata": {},
   "source": [
    "### map function"
   ]
  },
  {
   "cell_type": "markdown",
   "id": "6041afe0",
   "metadata": {},
   "source": [
    "map() হলো Python-এর একটি বিল্ট-ইন ফাংশন যা একটি ফাংশন এবং একটি iterable (যেমন: list, tuple) নেয় এবং সেই ফাংশনটিকে iterable-এর প্রতিটি উপাদানে প্রয়োগ করে।\n",
    "- syntax -->  map(function, iterable)\n",
    "- একটি special iterator object রিটার্ন করে ,যা সরাসরি প্রিন্ট করা যায় না, list-এ convert করতে হয়\n"
   ]
  },
  {
   "cell_type": "code",
   "execution_count": 51,
   "id": "bca7f1ec",
   "metadata": {},
   "outputs": [
    {
     "name": "stdout",
     "output_type": "stream",
     "text": [
      "[1, 4, 9, 16, 25, 36]\n"
     ]
    }
   ],
   "source": [
    "lst = [1, 2, 3, 4, 5, 6]\n",
    "\n",
    "def square(x):\n",
    "    return x**2\n",
    "\n",
    "lst = list(map(square, lst))    # eikhane map er vetor onno ekta fucntion use kora hoyeche\n",
    "                                # and map jehetu nije print hoy na ty eitake list e convert kora hoyeche\n",
    "\n",
    "print(lst)"
   ]
  },
  {
   "cell_type": "code",
   "execution_count": 57,
   "id": "b9e57d81",
   "metadata": {},
   "outputs": [
    {
     "name": "stdout",
     "output_type": "stream",
     "text": [
      "['H', 'E', 'L', 'L', 'O', ' ', 'W', 'O', 'R', 'L', 'D', ',', ' ', 'W', 'E', 'L', 'C', 'O', 'M', 'E', ' ', 'T', 'O', ' ', 'T', 'H', 'E', ' ', 'A', 'G', 'E', ' ', 'O', 'F', ' ', 'A', 'I']\n",
      "HELLO WORLD, WELCOME TO THE AGE OF AI\n"
     ]
    }
   ],
   "source": [
    "# string\n",
    "string = \"hello world, welcome to the age of AI\"\n",
    "string1 = list(map(str.upper, string))              # upper fucntion er sathe map call kora hoyeche\n",
    "print(string1)\n",
    "string1 = \"\".join(string1)                         # jehetu map theke list e convert kore so eitake abr join kore string banano hoyeche\n",
    "print(string1)"
   ]
  },
  {
   "cell_type": "code",
   "execution_count": 56,
   "id": "53039289",
   "metadata": {},
   "outputs": [
    {
     "name": "stdout",
     "output_type": "stream",
     "text": [
      "[1, 4, 3, 16, 5, 36]\n"
     ]
    }
   ],
   "source": [
    "# map with lambda function\n",
    "lst = [1, 2, 3, 4, 5, 6]\n",
    "lst = list(map(lambda x: x**2 if x%2==0 else x, lst))       # eikhane even number gula sq kora hoyech ar odd gula same rakha hoyyeche\n",
    "print(lst)"
   ]
  },
  {
   "cell_type": "markdown",
   "id": "fc8f0a13",
   "metadata": {},
   "source": [
    "### Filter"
   ]
  },
  {
   "cell_type": "markdown",
   "id": "02a9ebe7",
   "metadata": {},
   "source": [
    "- almost same as map but it returns true/false\n",
    "- filter() → Functional style, সাধারণ condition-এর জন্য ভালো\n",
    "- List comprehension→ Pythonic ও flexible, জটিল condition-এর জন্য ভালো"
   ]
  },
  {
   "cell_type": "code",
   "execution_count": 58,
   "id": "8d233960",
   "metadata": {},
   "outputs": [
    {
     "name": "stdout",
     "output_type": "stream",
     "text": [
      "[0, 2, 4, 6, 8, 10, 12, 14, 16, 18]\n"
     ]
    }
   ],
   "source": [
    "numbers = list(range(20))\n",
    "\n",
    "# Lambda function ব্যবহার করে\n",
    "even_numbers = filter(lambda x: x % 2 == 0, numbers)\n",
    "print(list(even_numbers))"
   ]
  },
  {
   "cell_type": "code",
   "execution_count": 59,
   "id": "214f846b",
   "metadata": {},
   "outputs": [
    {
     "name": "stdout",
     "output_type": "stream",
     "text": [
      "Uppercase: ['H', 'W', 'W', 'P', 'P']\n",
      "Alphabetic: ['H', 'e', 'l', 'l', 'o', 'W', 'o', 'r', 'l', 'd', 'W', 'e', 'l', 'c', 'o', 'm', 'e', 't', 'o', 'P', 'y', 't', 'h', 'o', 'n', 'P', 'r', 'o', 'g', 'r', 'a', 'm', 'm', 'i', 'n', 'g']\n"
     ]
    }
   ],
   "source": [
    "# string filtering\n",
    "text = \"Hello World! Welcome to Python Programming.\"\n",
    "\n",
    "# শুধুমাত্র বড় হাতের অক্ষর\n",
    "uppercase_letters = list(filter(str.isupper, text))\n",
    "print(\"Uppercase:\", uppercase_letters)\n",
    "\n",
    "# শুধুমাত্র অক্ষর (alphabet)\n",
    "alphabetic_chars = list(filter(str.isalpha, text))\n",
    "print(\"Alphabetic:\", alphabetic_chars)"
   ]
  },
  {
   "cell_type": "code",
   "execution_count": 61,
   "id": "97051e6c",
   "metadata": {},
   "outputs": [
    {
     "name": "stdout",
     "output_type": "stream",
     "text": [
      "['user@example.com', 'test@gmail.com', 'another@domain.org']\n",
      "[{'name': 'Mouse', 'price': 25}, {'name': 'Keyboard', 'price': 80}]\n"
     ]
    }
   ],
   "source": [
    "# Email validation\n",
    "emails = [\n",
    "    \"user@example.com\",\n",
    "    \"invalid-email\",\n",
    "    \"test@gmail.com\",\n",
    "    \"another@domain.org\",\n",
    "    \"wrong-format\",\n",
    "]\n",
    "\n",
    "valid_emails = filter(lambda email: \"@\" in email and \".\" in email, emails)\n",
    "print(list(valid_emails))\n",
    "\n",
    "# Price filtering\n",
    "products = [\n",
    "    {\"name\": \"Laptop\", \"price\": 1000},\n",
    "    {\"name\": \"Mouse\", \"price\": 25},\n",
    "    {\"name\": \"Keyboard\", \"price\": 80},\n",
    "    {\"name\": \"Monitor\", \"price\": 300},\n",
    "]\n",
    "\n",
    "affordable = filter(lambda p: p[\"price\"] <= 100, products)\n",
    "print(list(affordable))"
   ]
  },
  {
   "cell_type": "markdown",
   "id": "dc789364",
   "metadata": {},
   "source": [
    "### reduce"
   ]
  },
  {
   "cell_type": "markdown",
   "id": "7c3a5bdc",
   "metadata": {},
   "source": [
    "- it is not a builtin function,, it have to import from functools\n",
    "- syntax : reduce(function, iterable[, initializer])\n",
    "- it just returns a single value"
   ]
  },
  {
   "cell_type": "code",
   "execution_count": 62,
   "id": "cb53f28e",
   "metadata": {},
   "outputs": [],
   "source": [
    "from functools import reduce"
   ]
  },
  {
   "cell_type": "code",
   "execution_count": 63,
   "id": "9a98bd6c",
   "metadata": {},
   "outputs": [
    {
     "name": "stdout",
     "output_type": "stream",
     "text": [
      "28\n",
      "10\n"
     ]
    }
   ],
   "source": [
    "lst = [1, 2, 10, 4, 5, 6]\n",
    "\n",
    "summation = reduce(lambda x, y: x + y, lst)\n",
    "print(summation)\n",
    "\n",
    "max_value = reduce(lambda x, y: x if x > y else y, lst)\n",
    "print(max_value)"
   ]
  }
 ],
 "metadata": {
  "kernelspec": {
   "display_name": "Python 3",
   "language": "python",
   "name": "python3"
  },
  "language_info": {
   "codemirror_mode": {
    "name": "ipython",
    "version": 3
   },
   "file_extension": ".py",
   "mimetype": "text/x-python",
   "name": "python",
   "nbconvert_exporter": "python",
   "pygments_lexer": "ipython3",
   "version": "3.13.7"
  }
 },
 "nbformat": 4,
 "nbformat_minor": 5
}
