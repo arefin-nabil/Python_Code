{
 "cells": [
  {
   "cell_type": "markdown",
   "id": "efc6a234",
   "metadata": {},
   "source": [
    "## Function in python"
   ]
  },
  {
   "cell_type": "markdown",
   "id": "16a186b1",
   "metadata": {},
   "source": [
    "### Area of a Circle"
   ]
  },
  {
   "cell_type": "code",
   "execution_count": 1,
   "id": "5e5ca14b",
   "metadata": {},
   "outputs": [
    {
     "name": "stdout",
     "output_type": "stream",
     "text": [
      "Area of circle: 1256.636\n"
     ]
    }
   ],
   "source": [
    "def area_of_circle(radius):\n",
    "    pi = 3.14159\n",
    "    return pi * radius ** 2\n",
    "\n",
    "r = float(input(\"Enter radius: \"))\n",
    "print(\"Area of circle:\", area_of_circle(r))\n"
   ]
  },
  {
   "cell_type": "markdown",
   "id": "cc3c8c2f",
   "metadata": {},
   "source": [
    "### Greatest Common Divisor (GCD)"
   ]
  },
  {
   "cell_type": "code",
   "execution_count": null,
   "id": "e6e89d4a",
   "metadata": {},
   "outputs": [],
   "source": [
    "def gcd(a, b):\n",
    "    while b:\n",
    "        a, b = b, a % b\n",
    "    return a\n",
    "\n",
    "x = int(input(\"Enter first number: \"))\n",
    "y = int(input(\"Enter second number: \"))\n",
    "print(\"GCD is:\", gcd(x, y))\n"
   ]
  },
  {
   "cell_type": "markdown",
   "id": "2d65037a",
   "metadata": {},
   "source": [
    "### Check Prime Number"
   ]
  },
  {
   "cell_type": "code",
   "execution_count": null,
   "id": "305a9963",
   "metadata": {},
   "outputs": [],
   "source": [
    "def is_prime(n):\n",
    "    if n <= 1:\n",
    "        return False\n",
    "    for i in range(2, int(n**0.5) + 1):\n",
    "        if n % i == 0:\n",
    "            return False\n",
    "    return True\n",
    "\n",
    "num = int(input(\"Enter a number: \"))\n",
    "print(num, \"is prime?\" , is_prime(num))\n"
   ]
  },
  {
   "cell_type": "markdown",
   "id": "bf735be3",
   "metadata": {},
   "source": [
    "### Count Words in a String"
   ]
  },
  {
   "cell_type": "code",
   "execution_count": null,
   "id": "3946bdc3",
   "metadata": {},
   "outputs": [],
   "source": [
    "def count_words(text):\n",
    "    words = text.split()\n",
    "    return len(words)\n",
    "\n",
    "sentence = input(\"Enter a sentence: \")\n",
    "print(\"Number of words:\", count_words(sentence))\n"
   ]
  },
  {
   "cell_type": "markdown",
   "id": "c833297c",
   "metadata": {},
   "source": [
    "### Fibonacci Sequence up to n terms"
   ]
  },
  {
   "cell_type": "code",
   "execution_count": null,
   "id": "5d5845ac",
   "metadata": {},
   "outputs": [],
   "source": [
    "def fibonacci(n):\n",
    "    a, b = 0, 1\n",
    "    for _ in range(n):\n",
    "        print(a, end=\" \")\n",
    "        a, b = b, a + b\n",
    "\n",
    "n = int(input(\"Enter number of terms: \"))\n",
    "fibonacci(n)\n"
   ]
  },
  {
   "cell_type": "markdown",
   "id": "3a8b3581",
   "metadata": {},
   "source": [
    "## Dictionaries"
   ]
  },
  {
   "cell_type": "markdown",
   "id": "3aab0ffd",
   "metadata": {},
   "source": [
    "### Students with Marks > 50"
   ]
  },
  {
   "cell_type": "code",
   "execution_count": 2,
   "id": "9a47aee3",
   "metadata": {},
   "outputs": [
    {
     "name": "stdout",
     "output_type": "stream",
     "text": [
      "Students with marks above 50:\n",
      "Bob = 75\n",
      "Charlie = 60\n"
     ]
    }
   ],
   "source": [
    "students = {\n",
    "    \"Alice\": 45,\n",
    "    \"Bob\": 75,\n",
    "    \"Charlie\": 60,\n",
    "    \"David\": 30\n",
    "}\n",
    "\n",
    "print(\"Students with marks above 50:\")\n",
    "for name, mark in students.items():\n",
    "    if mark > 50:\n",
    "        print(name, \"=\", mark)\n"
   ]
  },
  {
   "cell_type": "markdown",
   "id": "1697f303",
   "metadata": {},
   "source": [
    "### Character Frequency in a String"
   ]
  },
  {
   "cell_type": "code",
   "execution_count": 6,
   "id": "b88932b5",
   "metadata": {},
   "outputs": [
    {
     "name": "stdout",
     "output_type": "stream",
     "text": [
      "{'a': 2, 'b': 2, 'c': 2, 'd': 2, 'e': 2, 'f': 2, 'g': 2, 'h': 2, 'i': 3, 'j': 4}\n"
     ]
    }
   ],
   "source": [
    "text = input(\"Enter a string: \")\n",
    "freq = {}\n",
    "\n",
    "for ch in text:\n",
    "    freq[ch] = freq.get(ch, 0) + 1\n",
    "\n",
    "print(freq)\n"
   ]
  },
  {
   "cell_type": "markdown",
   "id": "9a718579",
   "metadata": {},
   "source": [
    "### Merge Two Dictionaries"
   ]
  },
  {
   "cell_type": "code",
   "execution_count": null,
   "id": "1a93fee9",
   "metadata": {},
   "outputs": [],
   "source": [
    "dict1 = {\"a\": 10, \"b\": 20}\n",
    "dict2 = {\"c\": 30, \"d\": 40}\n",
    "\n",
    "merged = dict1.copy()\n",
    "merged.update(dict2)\n",
    "\n",
    "print(\"Merged dictionary:\", merged)\n"
   ]
  },
  {
   "cell_type": "markdown",
   "id": "952b56b9",
   "metadata": {},
   "source": [
    "### Key with Maximum Value"
   ]
  },
  {
   "cell_type": "code",
   "execution_count": null,
   "id": "deb4a68d",
   "metadata": {},
   "outputs": [],
   "source": [
    "data = {\"a\": 10, \"b\": 50, \"c\": 30}\n",
    "\n",
    "max_key = max(data, key=data.get)\n",
    "print(\"Key with maximum value:\", max_key)\n"
   ]
  },
  {
   "cell_type": "markdown",
   "id": "19c21e5e",
   "metadata": {},
   "source": [
    "### Words and Their Lengths"
   ]
  },
  {
   "cell_type": "code",
   "execution_count": 8,
   "id": "b6fee9fe",
   "metadata": {},
   "outputs": [
    {
     "name": "stdout",
     "output_type": "stream",
     "text": [
      "Words with their lengths:\n",
      "{'nabil': 5, 'nafis': 5, 'dhaka': 5, 'bangladesh': 10, 'baba': 4}\n"
     ]
    }
   ],
   "source": [
    "word_dict = {}\n",
    "\n",
    "for i in range(5):\n",
    "    word = input(f\"Enter word {i+1}: \")\n",
    "    word_dict[word] = len(word)\n",
    "\n",
    "print(\"Words with their lengths:\")\n",
    "print(word_dict)\n"
   ]
  }
 ],
 "metadata": {
  "kernelspec": {
   "display_name": "Python 3",
   "language": "python",
   "name": "python3"
  },
  "language_info": {
   "codemirror_mode": {
    "name": "ipython",
    "version": 3
   },
   "file_extension": ".py",
   "mimetype": "text/x-python",
   "name": "python",
   "nbconvert_exporter": "python",
   "pygments_lexer": "ipython3",
   "version": "3.13.7"
  }
 },
 "nbformat": 4,
 "nbformat_minor": 5
}
