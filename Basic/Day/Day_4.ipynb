{
 "cells": [
  {
   "cell_type": "markdown",
   "id": "72fe460c",
   "metadata": {},
   "source": [
    "# Python Patterns and Nested Lists"
   ]
  },
  {
   "cell_type": "markdown",
   "id": "6214b7fa",
   "metadata": {},
   "source": [
    "## 🔹 Pattern Printing"
   ]
  },
  {
   "cell_type": "markdown",
   "id": "95d4215f",
   "metadata": {},
   "source": [
    "##### We can use nested loops to print different types of patterns."
   ]
  },
  {
   "cell_type": "markdown",
   "id": "8935de99",
   "metadata": {},
   "source": [
    "Example 1: Hash (#) pattern"
   ]
  },
  {
   "cell_type": "code",
   "execution_count": null,
   "id": "d6d75bbe",
   "metadata": {},
   "outputs": [
    {
     "name": "stdout",
     "output_type": "stream",
     "text": [
      "#\n",
      "##\n",
      "###\n",
      "####\n",
      "#####\n"
     ]
    }
   ],
   "source": [
    "# #\n",
    "# ##\n",
    "# ###\n",
    "# ####\n",
    "# #####\n",
    "for i in range(5):\n",
    "    for j in range(i+1):\n",
    "        print(\"#\", end=\"\")\n",
    "    print()"
   ]
  },
  {
   "cell_type": "markdown",
   "id": "69b66299",
   "metadata": {},
   "source": [
    "Example 2: Number pattern"
   ]
  },
  {
   "cell_type": "code",
   "execution_count": 2,
   "id": "c2d1dcae",
   "metadata": {},
   "outputs": [
    {
     "name": "stdout",
     "output_type": "stream",
     "text": [
      "1\n",
      "22\n",
      "333\n",
      "4444\n",
      "55555\n"
     ]
    }
   ],
   "source": [
    "# 1\n",
    "# 22\n",
    "# 333\n",
    "# 4444\n",
    "# 55555\n",
    "for i in range(1, 6):\n",
    "    for j in range(i):\n",
    "        print(i, end=\"\")\n",
    "    print()"
   ]
  },
  {
   "cell_type": "markdown",
   "id": "0c8c91df",
   "metadata": {},
   "source": [
    "Example 3: Counting numbers"
   ]
  },
  {
   "cell_type": "code",
   "execution_count": 3,
   "id": "801c806d",
   "metadata": {},
   "outputs": [
    {
     "name": "stdout",
     "output_type": "stream",
     "text": [
      "0\n",
      "01\n",
      "012\n",
      "0123\n",
      "01234\n"
     ]
    }
   ],
   "source": [
    "# 0\n",
    "# 01\n",
    "# 012\n",
    "# 0123\n",
    "# 01234\n",
    "for i in range(5):\n",
    "    for j in range(i + 1):\n",
    "        print(j, end=\"\")\n",
    "    print()"
   ]
  },
  {
   "cell_type": "markdown",
   "id": "7cad328c",
   "metadata": {},
   "source": [
    "Example 4: Alphabet pattern"
   ]
  },
  {
   "cell_type": "code",
   "execution_count": 4,
   "id": "727167f9",
   "metadata": {},
   "outputs": [
    {
     "name": "stdout",
     "output_type": "stream",
     "text": [
      "a\n",
      "bb\n",
      "ccc\n",
      "dddd\n",
      "eeeee\n"
     ]
    }
   ],
   "source": [
    "# a\n",
    "# bb\n",
    "# ccc\n",
    "# dddd\n",
    "# eeeee\n",
    "for i in range(5):\n",
    "    for j in range(i + 1):\n",
    "        print(chr(97 + i), end=\"\")  # chr(97) = 'a'\n",
    "    print()"
   ]
  },
  {
   "cell_type": "markdown",
   "id": "e1de3b42",
   "metadata": {},
   "source": [
    "## 🔹 Nested List Loop"
   ]
  },
  {
   "cell_type": "markdown",
   "id": "563bbef5",
   "metadata": {},
   "source": [
    "- Nested lists are lists inside another list.\n",
    "- We can use nested loops to access each element."
   ]
  },
  {
   "cell_type": "markdown",
   "id": "25bc7174",
   "metadata": {},
   "source": [
    "So"
   ]
  },
  {
   "cell_type": "code",
   "execution_count": null,
   "id": "a0124b7a",
   "metadata": {},
   "outputs": [
    {
     "name": "stdout",
     "output_type": "stream",
     "text": [
      "Alu\n",
      "Peyaj\n",
      "Onno shobji\n",
      "4\n",
      "hali kola\n",
      "2\n",
      "Kg peyara\n",
      "burger\n",
      "2.365\n",
      "-32.62\n",
      "Misty\n",
      "laddu\n",
      "5\n",
      "3.55\n"
     ]
    }
   ],
   "source": [
    "bazarer_List = [\n",
    "    [\"Alu\", \"Peyaj\", \"Onno shobji\"],    # Sublist\n",
    "    [4, \"hali kola\", 2, \"Kg peyara\"],\n",
    "    [\"burger\", 2.365, -32.62],\n",
    "    [\"Misty\", \"laddu\", 5, 3.550],\n",
    "]\n",
    "\n",
    "for bag in bazarer_List:  # Loop through each sublist\n",
    "    for item in bag:  # Loop through each item in sublist\n",
    "        print(item)"
   ]
  }
 ],
 "metadata": {
  "kernelspec": {
   "display_name": "Python 3",
   "language": "python",
   "name": "python3"
  },
  "language_info": {
   "codemirror_mode": {
    "name": "ipython",
    "version": 3
   },
   "file_extension": ".py",
   "mimetype": "text/x-python",
   "name": "python",
   "nbconvert_exporter": "python",
   "pygments_lexer": "ipython3",
   "version": "3.13.7"
  }
 },
 "nbformat": 4,
 "nbformat_minor": 5
}
