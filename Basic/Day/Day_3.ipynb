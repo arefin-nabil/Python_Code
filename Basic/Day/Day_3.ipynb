{
 "cells": [
  {
   "cell_type": "markdown",
   "id": "d8bd5555",
   "metadata": {},
   "source": [
    "# While Loop, Break, Continue, Infinite Loop, Nested Loop\n"
   ]
  },
  {
   "cell_type": "markdown",
   "id": "56acc1b8",
   "metadata": {},
   "source": [
    "## 🔹 While Loop\n"
   ]
  },
  {
   "cell_type": "markdown",
   "id": "2a7f816b",
   "metadata": {},
   "source": [
    "##### A while loop keeps running as long as the condition is True."
   ]
  },
  {
   "cell_type": "code",
   "execution_count": 1,
   "id": "42e37fdd",
   "metadata": {},
   "outputs": [
    {
     "name": "stdout",
     "output_type": "stream",
     "text": [
      "1\n",
      "2\n",
      "3\n",
      "4\n",
      "5\n",
      "6\n",
      "7\n",
      "8\n",
      "9\n",
      "10\n",
      "11\n"
     ]
    }
   ],
   "source": [
    "a = 0\n",
    "while a <= 10:\n",
    "    a = a + 1\n",
    "    print(a)"
   ]
  },
  {
   "cell_type": "markdown",
   "id": "fd2882dc",
   "metadata": {},
   "source": [
    "Explanation:\n",
    "- Step 1 → a = 0\n",
    "- Step 2 → Check condition (a <= 10)\n",
    "- Step 3 → Add 1 to a\n",
    "- Step 4 → Print a\n",
    "- Repeat until the condition becomes False."
   ]
  },
  {
   "cell_type": "markdown",
   "id": "8c5ab42f",
   "metadata": {},
   "source": [
    "## 🔹 break Keyword\n"
   ]
  },
  {
   "cell_type": "markdown",
   "id": "86045558",
   "metadata": {},
   "source": [
    "##### The break statement is used to stop the loop immediately."
   ]
  },
  {
   "cell_type": "markdown",
   "id": "be28bdda",
   "metadata": {},
   "source": [
    "Example 1: Using break in a for loop\n"
   ]
  },
  {
   "cell_type": "code",
   "execution_count": 2,
   "id": "8e06f7bd",
   "metadata": {},
   "outputs": [
    {
     "name": "stdout",
     "output_type": "stream",
     "text": [
      "0\n",
      "1\n",
      "2\n",
      "3\n",
      "4\n"
     ]
    }
   ],
   "source": [
    "for i in range(10):\n",
    "    if i == 5:\n",
    "        break\n",
    "    print(i)"
   ]
  },
  {
   "cell_type": "markdown",
   "id": "3a2555f8",
   "metadata": {},
   "source": [
    "Example 2: Using break in a while loop"
   ]
  },
  {
   "cell_type": "code",
   "execution_count": 3,
   "id": "78468e88",
   "metadata": {},
   "outputs": [
    {
     "name": "stdout",
     "output_type": "stream",
     "text": [
      "1\n",
      "2\n",
      "3\n",
      "4\n",
      "5\n"
     ]
    }
   ],
   "source": [
    "a = 0\n",
    "while a <= 10:\n",
    "    if a == 5:\n",
    "        break\n",
    "    a = a + 1\n",
    "    print(a)"
   ]
  },
  {
   "cell_type": "markdown",
   "id": "71d57a0f",
   "metadata": {},
   "source": [
    "## 🔹 continue Keyword"
   ]
  },
  {
   "cell_type": "markdown",
   "id": "5dc2a3b7",
   "metadata": {},
   "source": [
    "##### The continue statement skips the current iteration and goes to the next one."
   ]
  },
  {
   "cell_type": "markdown",
   "id": "aede9eba",
   "metadata": {},
   "source": [
    "Example 1: Using continue in a for loop"
   ]
  },
  {
   "cell_type": "code",
   "execution_count": 4,
   "id": "c24ccc8d",
   "metadata": {},
   "outputs": [
    {
     "name": "stdout",
     "output_type": "stream",
     "text": [
      "0\n",
      "1\n",
      "2\n",
      "3\n",
      "4\n",
      "6\n",
      "7\n",
      "8\n",
      "9\n"
     ]
    }
   ],
   "source": [
    "for i in range(10):\n",
    "    if i == 5:\n",
    "        continue\n",
    "    print(i)"
   ]
  },
  {
   "cell_type": "markdown",
   "id": "fec26709",
   "metadata": {},
   "source": [
    "Example 2: Using continue in a while loop"
   ]
  },
  {
   "cell_type": "code",
   "execution_count": 5,
   "id": "94168c2f",
   "metadata": {},
   "outputs": [
    {
     "name": "stdout",
     "output_type": "stream",
     "text": [
      "1\n",
      "2\n",
      "3\n",
      "4\n",
      "6\n",
      "7\n",
      "8\n",
      "9\n",
      "10\n",
      "11\n"
     ]
    }
   ],
   "source": [
    "a = 0\n",
    "while a <= 10:\n",
    "    a = a + 1\n",
    "    if a == 5:\n",
    "        continue\n",
    "    print(a)"
   ]
  },
  {
   "cell_type": "markdown",
   "id": "63be92fb",
   "metadata": {},
   "source": [
    "## 🔹 Infinite Loop"
   ]
  },
  {
   "cell_type": "markdown",
   "id": "7a9d7469",
   "metadata": {},
   "source": [
    "- Infinite loops never stop running until a break is used.\n",
    "- For loops can’t be infinite, but while loops can."
   ]
  },
  {
   "cell_type": "markdown",
   "id": "6686de46",
   "metadata": {},
   "source": [
    "Example 1: While condition always True"
   ]
  },
  {
   "cell_type": "code",
   "execution_count": 10,
   "id": "20a25ec5",
   "metadata": {},
   "outputs": [
    {
     "name": "stdout",
     "output_type": "stream",
     "text": [
      "10\n"
     ]
    }
   ],
   "source": [
    "a = 10\n",
    "while a == 10:\n",
    "    print(a)\n",
    "    break  # Added to prevent real infinite loop"
   ]
  },
  {
   "cell_type": "markdown",
   "id": "e5bdd1c8",
   "metadata": {},
   "source": [
    "Example 2: Asking user for input until they type 55 or 5"
   ]
  },
  {
   "cell_type": "code",
   "execution_count": 11,
   "id": "06ed1268",
   "metadata": {},
   "outputs": [],
   "source": [
    "while True:\n",
    "    a = input(\"Enter a number: \")\n",
    "    if a == \"55\" or a == \"5\":\n",
    "        break\n",
    "    print(\"Hello\", a, \"nice!\")"
   ]
  },
  {
   "cell_type": "markdown",
   "id": "2a488aa6",
   "metadata": {},
   "source": [
    "Explanation:\n",
    "- Loop will keep running until user types 55 or 5.\n",
    "- Then the break will stop the loop."
   ]
  },
  {
   "cell_type": "markdown",
   "id": "caefa6fa",
   "metadata": {},
   "source": [
    "#### ⚠️ When does an infinite loop happen?\n",
    "When the condition is always True and there is no increment or decrement to change it.\n"
   ]
  },
  {
   "cell_type": "markdown",
   "id": "46a50d2a",
   "metadata": {},
   "source": [
    "## 🔹 Nested Loops"
   ]
  },
  {
   "cell_type": "markdown",
   "id": "ca568e0c",
   "metadata": {},
   "source": [
    "##### A loop inside another loop is called a Nested Loop."
   ]
  },
  {
   "cell_type": "markdown",
   "id": "d1708828",
   "metadata": {},
   "source": [
    "Example 1: Using nested for loops"
   ]
  },
  {
   "cell_type": "code",
   "execution_count": 12,
   "id": "a73a201d",
   "metadata": {},
   "outputs": [
    {
     "name": "stdout",
     "output_type": "stream",
     "text": [
      "1 2 3 4 5 \n",
      "2 4 6 8 10 \n",
      "3 6 9 12 15 \n",
      "4 8 12 16 20 \n",
      "5 10 15 20 25 \n"
     ]
    }
   ],
   "source": [
    "for i in range(1, 6):\n",
    "    for j in range(1, 6):\n",
    "        print(i * j, end=\" \")\n",
    "    print()"
   ]
  },
  {
   "cell_type": "markdown",
   "id": "ae58f8a2",
   "metadata": {},
   "source": [
    "Example 2: Using nested while loops"
   ]
  },
  {
   "cell_type": "code",
   "execution_count": 13,
   "id": "4b81da06",
   "metadata": {},
   "outputs": [
    {
     "name": "stdout",
     "output_type": "stream",
     "text": [
      "1 2 3 4 5 \n",
      "2 4 6 8 10 \n",
      "3 6 9 12 15 \n",
      "4 8 12 16 20 \n",
      "5 10 15 20 25 \n"
     ]
    }
   ],
   "source": [
    "a = 1\n",
    "while a < 6:\n",
    "    b = 1\n",
    "    while b < 6:\n",
    "        print(a * b, end=\" \")\n",
    "        b = b + 1\n",
    "    print()\n",
    "    a = a + 1"
   ]
  }
 ],
 "metadata": {
  "kernelspec": {
   "display_name": "Python 3",
   "language": "python",
   "name": "python3"
  },
  "language_info": {
   "codemirror_mode": {
    "name": "ipython",
    "version": 3
   },
   "file_extension": ".py",
   "mimetype": "text/x-python",
   "name": "python",
   "nbconvert_exporter": "python",
   "pygments_lexer": "ipython3",
   "version": "3.13.7"
  }
 },
 "nbformat": 4,
 "nbformat_minor": 5
}
